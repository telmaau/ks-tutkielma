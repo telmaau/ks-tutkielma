{
 "cells": [
  {
   "cell_type": "code",
   "execution_count": 2,
   "id": "6bcec9b7",
   "metadata": {},
   "outputs": [],
   "source": [
    "# packages\n",
    "\n",
    "from collections import defaultdict, OrderedDict, Counter\n",
    "from datetime import datetime\n",
    "\n",
    "from dateutil.relativedelta import relativedelta\n",
    "import glob\n",
    "from itertools import product, combinations\n",
    "import matplotlib.pyplot as plt\n",
    "import numpy    as np\n",
    "#import networkx as nx\n",
    "from operator import itemgetter\n",
    "import pandas   as pd\n",
    "import rdflib as rdflib\n",
    "import re\n",
    "from scipy.signal import convolve2d\n",
    "import seaborn as sns\n",
    "from sklearn.preprocessing import MultiLabelBinarizer, minmax_scale\n",
    "from SPARQLWrapper import SPARQLWrapper, JSON, POST, TURTLE\n",
    "import sys\n",
    "from rdflib.namespace import XSD, Namespace\n",
    "from rdflib.term import URIRef\n",
    "\n",
    "import IPython\n",
    "import pprint\n",
    "pp = pprint.PrettyPrinter(indent=4)\n",
    "\n",
    "\n",
    "\n",
    "from constants import *\n",
    "from helpers import *"
   ]
  },
  {
   "cell_type": "code",
   "execution_count": 3,
   "id": "d00335aa",
   "metadata": {},
   "outputs": [],
   "source": [
    "# helpers\n",
    "\n",
    "# tuples\n",
    "end_year=2022\n",
    "start_year=1971\n",
    "period_length=5\n",
    "year_range = end_year - start_year\n",
    "modulo = year_range % period_length\n",
    "if modulo == 0:\n",
    "    final_start = end_year - period_length\n",
    "else:\n",
    "    final_start = end_year - modulo\n",
    "final_end = end_year + 1\n",
    "\n",
    "starts = np.arange(start_year, final_start, period_length).tolist()\n",
    "tuples = [(start, start+period_length) for start in starts]# five year periods\n",
    "# make 5-year bins\n",
    "\n",
    "\n",
    "# We'll add the last period calculated earlier\n",
    "tuples.append(tuple([final_start, final_end]))\n",
    "bins = pd.IntervalIndex.from_tuples(tuples, closed='left')\n",
    "original_labels = list(bins.astype(str))\n",
    "new_labels = ['{} - {}'.format(b.strip('[)').split(', ')[0], int(b.strip('[)').split(', ')[1])-1) for b in original_labels]\n",
    "label_dict = dict(zip(original_labels, new_labels))\n",
    "\n",
    "# add period function\n",
    "def add_period(df_fo, columnname=\"year\"):\n",
    "    df_fo['period'] = pd.cut(df_fo[columnname], bins=bins, include_lowest=True, precision=0)\n",
    "    df_fo['period'] = df_fo['period'].astype(\"str\")\n",
    "\n",
    "    df_fo[\"period\"]=df_fo[\"period\"].apply(lambda x: int(x.split(\",\")[0].replace(\"[\",\"\")))\n",
    "    return df_fo\n",
    "\n",
    "# decade function\n",
    "def add_decade(df_fi, columname=\"year\"):\n",
    "    df_fi[\"decade\"]=(df_fi[\"year\"]-1)- ((df_fi[\"year\"]-1)%10)\n",
    "    \n",
    "    return df_fi"
   ]
  },
  {
   "cell_type": "code",
   "execution_count": 4,
   "id": "2ce93824",
   "metadata": {},
   "outputs": [],
   "source": [
    "df_fi=pd.read_csv(\"../../data/df_fi_all.csv\", sep=\"\\t\", index_col=0)\n",
    "df_fo=pd.read_csv(\"../../data/df_fo_all2.csv\", sep=\"\\t\", index_col=0)"
   ]
  },
  {
   "cell_type": "code",
   "execution_count": null,
   "id": "9a9cdcee",
   "metadata": {},
   "outputs": [],
   "source": [
    "# translated graph\n",
    "from rdflib import Graph\n",
    "g = Graph() \n",
    "g.parse('../../data/nat_lang_graph2.nt')\n",
    "\n",
    "# finnish graph\n",
    "\n",
    "f = Graph() \n",
    "\n",
    "f.parse('../../data/finnish_graph_new.nt')"
   ]
  },
  {
   "cell_type": "code",
   "execution_count": null,
   "id": "0323affb",
   "metadata": {},
   "outputs": [],
   "source": []
  },
  {
   "cell_type": "code",
   "execution_count": null,
   "id": "bd328a97",
   "metadata": {},
   "outputs": [],
   "source": [
    "# compare fis\n",
    "\n",
    "df_fi_old=pd.read_csv(\"../../data/df_fi_all.csv\", sep=\"\\t\", index_col=0)\n",
    "old_novels=[str(n) for n in df_fi_old[\"novel\"]]\n",
    "mystery_novels=[d for d in df_fi.novel.unique() if d not in old_novels]"
   ]
  },
  {
   "cell_type": "code",
   "execution_count": null,
   "id": "88873635",
   "metadata": {
    "scrolled": true
   },
   "outputs": [],
   "source": [
    "print(len(mystery_novels))\n",
    "print(len(df_fi), len(df_fi_old), len(df_fi))"
   ]
  },
  {
   "cell_type": "code",
   "execution_count": null,
   "id": "29405733",
   "metadata": {},
   "outputs": [],
   "source": [
    "MY_VALUES = [\"<\"+str(n)+\">\" for n in mystery_novels]\n",
    "valuestring=\" \".join(MY_VALUES)"
   ]
  },
  {
   "cell_type": "code",
   "execution_count": null,
   "id": "9a4361ad",
   "metadata": {},
   "outputs": [],
   "source": [
    "# query mystery_novels\n",
    "\n",
    "# query labels\n",
    "Q =\"\"\"\n",
    "SELECT  DISTINCT  *  WHERE {\n",
    "\n",
    "?novel rdf:type ?class .\n",
    "VALUES ?novel { MY_VALUES }\n",
    "?novel kaunokki:alkukieli ?lang .\n",
    "?novel skos:prefLabel ?nimi . FILTER(LANG(?nimi)=\"fi\")\n",
    "?novel kaunokki:manifests_in ?pub .\n",
    "?pub kaunokki:ilmestymisvuosi ?vuosi .\n",
    "?vuosi skos:prefLabel ?year .\n",
    "\n",
    "#FILTER NOT EXISTS { xsd:int(?year) < 1970 }\n",
    "\n",
    "} \n",
    "    \n",
    "\n",
    "\"\"\"\n",
    "\n",
    "#sparql = SPARQLWrapper(\"http://ldf.fi/kirjasampo/sparql\")\n",
    "\n",
    "#nat_labels=pd.DataFrame()\n",
    "#for nat in df_fo2[\"nat\"].unique():\n",
    "sparql = SPARQLWrapper(\"http://ldf.fi/booksampo-2022/sparql\")\n",
    "q=Q.replace(\"MY_VALUES\", valuestring)\n",
    "sparql.setQuery(PREFIXES + q)\n",
    "sparql.setReturnFormat(JSON)\n",
    "sparql.addCustomHttpHeader(*list(AUTHORIZATION_HEADER.items())[0])\n",
    "results = sparql.query().convert()\n",
    "temp = JSON2Pandas2(results)\n",
    "\n",
    "    \n",
    "\n"
   ]
  },
  {
   "cell_type": "code",
   "execution_count": null,
   "id": "0724dbef",
   "metadata": {},
   "outputs": [],
   "source": [
    "temp.lang.unique()\n",
    "temp[temp[\"lang\"]=='http://lexvo.org/id/iso639-3/eng']\n",
    "temp[\"year\"]= pd.to_numeric(temp[\"year\"])\n",
    "temp[temp[\"year\"]<1971]\n",
    "temp[\"class\"].unique()"
   ]
  },
  {
   "cell_type": "code",
   "execution_count": null,
   "id": "8d1ad86a",
   "metadata": {},
   "outputs": [],
   "source": [
    "temp.head(20)"
   ]
  },
  {
   "cell_type": "code",
   "execution_count": null,
   "id": "77c636e3",
   "metadata": {},
   "outputs": [],
   "source": [
    "df_fi.sample()"
   ]
  }
 ],
 "metadata": {
  "kernelspec": {
   "display_name": "book-venv",
   "language": "python",
   "name": "book-venv"
  },
  "language_info": {
   "codemirror_mode": {
    "name": "ipython",
    "version": 3
   },
   "file_extension": ".py",
   "mimetype": "text/x-python",
   "name": "python",
   "nbconvert_exporter": "python",
   "pygments_lexer": "ipython3",
   "version": "3.8.10"
  }
 },
 "nbformat": 4,
 "nbformat_minor": 5
}
