{
 "cells": [
  {
   "cell_type": "markdown",
   "id": "c21bf8c6",
   "metadata": {},
   "source": [
    "# create a graph for genre information"
   ]
  },
  {
   "cell_type": "code",
   "execution_count": 2,
   "id": "6d76d615",
   "metadata": {},
   "outputs": [],
   "source": [
    "# import \n",
    "\n",
    "from collections import defaultdict, OrderedDict, Counter\n",
    "from datetime import datetime\n",
    "\n",
    "from dateutil.relativedelta import relativedelta\n",
    "import glob\n",
    "from itertools import product, combinations\n",
    "import matplotlib.pyplot as plt\n",
    "import numpy    as np\n",
    "#import networkx as nx\n",
    "from operator import itemgetter\n",
    "import pandas   as pd\n",
    "import rdflib as rdflib\n",
    "import re\n",
    "from scipy.signal import convolve2d\n",
    "import seaborn as sns\n",
    "from sklearn.preprocessing import MultiLabelBinarizer, minmax_scale\n",
    "from SPARQLWrapper import SPARQLWrapper, JSON, POST, TURTLE\n",
    "import sys\n",
    "from rdflib.namespace import XSD, Namespace\n",
    "from rdflib.term import URIRef\n",
    "\n",
    "import IPython\n",
    "import pprint\n",
    "pp = pprint.PrettyPrinter(indent=4)\n",
    "\n",
    "\n",
    "\n",
    "from constants import *\n",
    "from helpers import *"
   ]
  },
  {
   "cell_type": "code",
   "execution_count": 3,
   "id": "831f71bd",
   "metadata": {},
   "outputs": [],
   "source": [
    "\n",
    "from rdflib import Graph\n",
    "\n",
    "from rdflib.namespace import RDF, SKOS\n",
    "rel = rdflib.Namespace('http://ldf.fi/relse/')\n"
   ]
  },
  {
   "cell_type": "code",
   "execution_count": 4,
   "id": "4d246a65",
   "metadata": {},
   "outputs": [],
   "source": [
    "# colors\n",
    "import matplotlib.colors as mcolors\n",
    "from matplotlib import cm\n",
    "# set style\n",
    "import seaborn as sns\n",
    "\n",
    "#set_theme() \n",
    "sns.set_theme(style=\"white\",palette=\"PuOr_r\")"
   ]
  },
  {
   "cell_type": "code",
   "execution_count": 6,
   "id": "6950651b",
   "metadata": {},
   "outputs": [],
   "source": [
    "# Query\n",
    "Q = \"\"\"\n",
    "PREFIX rel: <http://ldf.fi/relse/>\n",
    "\n",
    "CONSTRUCT {\n",
    "\n",
    "\n",
    "?teos a rel:novel ;\n",
    "    skos:prefLabel ?title ;\n",
    "    rel:langOrig ?kieliuri ;\n",
    "    rel:hasAuthor ?author ;\n",
    "    rel:pubYear ?vuosi_ ;\n",
    "    rel:hasGenre ?genre ;\n",
    "    rel:hasTheme ?theme.\n",
    "\n",
    "?author a rel:author ;\n",
    "    foaf:gender ?gender.\n",
    "\n",
    "?kieliuri a rel:lang ;\n",
    "\tskos:prefLabel ?kieli .\n",
    "\n",
    "    \n",
    "?theme a rel:theme ;\n",
    "    rel:inNovel ?teos ;\n",
    "    skos:prefLabel ?themelabel.\n",
    "\n",
    "?genre a rel:genre ;\n",
    "    rel:inNovel ?teos ;\n",
    "    skos:prefLabel ?genrelabel .\n",
    "\n",
    "}\n",
    "\n",
    "WHERE {\n",
    "\n",
    "  ?teos a kaunokki:romaani ; skos:prefLabel ?title .\n",
    "  ?teos kaunokki:alkukieli ?kieliuri .\n",
    "  FILTER (?kieliuri !=  <http://lexvo.org/id/iso639-3/fin>  )\n",
    "  OPTIONAL {?kieliuri skos:prefLabel ?kieli . }\n",
    "  ?teos kaunokki:manifests_in ?julkaisu .\n",
    "  ?julkaisu kaunokki:kieli <http://lexvo.org/id/iso639-3/fin> . # käännetty suomeksi\n",
    "  FILTER EXISTS {?julkaisu kaunokki:kieli <http://lexvo.org/id/iso639-3/fin>  }\n",
    "  ?julkaisu kaunokki:ilmestymisvuosi ?vuosi . ?vuosi skos:prefLabel ?vuosiluku .\n",
    "  BIND(xsd:integer(?vuosiluku) AS ?vuosi_)\n",
    "  FILTER(xsd:integer(?vuosiluku) > 1970)\n",
    "  ?teos kaunokki:tekija ?author.\n",
    "  ?author skos:prefLabel ?authorname .\n",
    "  OPTIONAL { ?author foaf:gender ?gender . }\n",
    "\n",
    " OPTIONAL {?teos kaunokki:genre ?genre . }#?genre skos:prefLabel ?genrelabel . FILTER(LANG(?genrelabel)=\"fi\") }\n",
    " OPTIONAL {?teos kaunokki:teema ?theme . }#?theme skos:prefLabel ?themelabel . FILTER(LANG(?themelabel)=\"fi\")}\n",
    "} \n",
    "\"\"\""
   ]
  },
  {
   "cell_type": "code",
   "execution_count": 7,
   "id": "044b709c",
   "metadata": {},
   "outputs": [
    {
     "name": "stdout",
     "output_type": "stream",
     "text": [
      "\n",
      "\n",
      "*** constructing the graph\n"
     ]
    }
   ],
   "source": [
    "# construct graph\n",
    "\n",
    "# query graph\n",
    "print('\\n\\n*** constructing the graph')\n",
    "sparql = SPARQLWrapper(\"http://ldf.fi/booksampo-2022/sparql\")\n",
    "\n",
    "sparql.setQuery(PREFIXES + Q)\n",
    "\n",
    "sparql.addCustomHttpHeader(*list(AUTHORIZATION_HEADER.items())[0])\n",
    "\n",
    "sparql.setReturnFormat(TURTLE)\n",
    "results = sparql.query().convert()"
   ]
  },
  {
   "cell_type": "code",
   "execution_count": 8,
   "id": "dffa0be2",
   "metadata": {},
   "outputs": [
    {
     "data": {
      "text/plain": [
       "<Graph identifier=Na535c912ebbc4d159a1e44b622c1f140 (<class 'rdflib.graph.Graph'>)>"
      ]
     },
     "execution_count": 8,
     "metadata": {},
     "output_type": "execute_result"
    }
   ],
   "source": [
    "# parse\n",
    "\n",
    "from rdflib import Graph\n",
    "g = Graph()\n",
    "\n",
    "g.parse(data=results, format=\"turtle\")"
   ]
  },
  {
   "cell_type": "code",
   "execution_count": 9,
   "id": "352ddbb8",
   "metadata": {},
   "outputs": [
    {
     "name": "stdout",
     "output_type": "stream",
     "text": [
      "found 18035 novels\n",
      "['http://www.yso.fi/onto/kaunokki#ateos_26904', 'http://www.yso.fi/onto/kaunokki#ateos_9216', 'http://www.btj.fi/at_1796592', 'http://www.btj.fi/at_1944861', 'http://www.yso.fi/onto/kaunokki#ateos_2239']\n"
     ]
    }
   ],
   "source": [
    "# find all novels\n",
    "\n",
    "from rdflib.namespace import RDF, SKOS\n",
    "rel = rdflib.Namespace('http://ldf.fi/relse/')\n",
    "\n",
    "novels=[]\n",
    "for s, p, o in g.triples((None,  None, None)):\n",
    "    #print(o)\n",
    "    if o ==rel.novel:\n",
    "        #print(str(s))\n",
    "        novels.append(str(s))\n",
    "    #print(f\"{s} is a  novel\")\n",
    "    \n",
    "print(\"found\" ,len(set(novels)), \"novels\")\n",
    "print(novels[:5])\n"
   ]
  },
  {
   "cell_type": "code",
   "execution_count": 10,
   "id": "af9d2a16",
   "metadata": {},
   "outputs": [
    {
     "name": "stdout",
     "output_type": "stream",
     "text": [
      "http://data.kirjasampo.fi/abstractWork_9789513172398 http://ldf.fi/relse/hasAuthor http://seco.tkk.fi/saha3/u407917fd-84d0-4ad5-a092-23a1ab44885a\n",
      "http://data.kirjasampo.fi/abstractWork_9789513172398 http://ldf.fi/relse/hasTheme http://www.yso.fi/onto/koko/p49911\n",
      "http://data.kirjasampo.fi/abstractWork_9789513172398 http://ldf.fi/relse/langOrig http://lexvo.org/id/iso639-3/swe\n",
      "http://data.kirjasampo.fi/abstractWork_9789513172398 http://ldf.fi/relse/hasGenre http://www.yso.fi/onto/koko/p50553\n",
      "http://data.kirjasampo.fi/abstractWork_9789513172398 http://ldf.fi/relse/hasTheme http://www.yso.fi/onto/koko/p18265\n",
      "http://data.kirjasampo.fi/abstractWork_9789513172398 http://ldf.fi/relse/hasTheme http://www.yso.fi/onto/koko/p35623\n",
      "http://data.kirjasampo.fi/abstractWork_9789513172398 http://ldf.fi/relse/hasTheme http://www.yso.fi/onto/koko/p72664\n",
      "http://data.kirjasampo.fi/abstractWork_9789513172398 http://ldf.fi/relse/hasTheme http://www.yso.fi/onto/koko/p31779\n",
      "http://data.kirjasampo.fi/abstractWork_9789513172398 http://www.w3.org/2004/02/skos/core#prefLabel Anaché\n",
      "http://data.kirjasampo.fi/abstractWork_9789513172398 http://ldf.fi/relse/hasTheme http://www.yso.fi/onto/koko/p32446\n",
      "http://data.kirjasampo.fi/abstractWork_9789513172398 http://ldf.fi/relse/hasTheme http://www.yso.fi/onto/koko/p9248\n",
      "http://data.kirjasampo.fi/abstractWork_9789513172398 http://ldf.fi/relse/hasGenre http://www.yso.fi/onto/koko/p17572\n",
      "http://data.kirjasampo.fi/abstractWork_9789513172398 http://www.w3.org/1999/02/22-rdf-syntax-ns#type http://ldf.fi/relse/novel\n",
      "http://data.kirjasampo.fi/abstractWork_9789513172398 http://www.w3.org/2004/02/skos/core#prefLabel Anaché\n",
      "http://data.kirjasampo.fi/abstractWork_9789513172398 http://ldf.fi/relse/hasGenre http://www.yso.fi/onto/koko/p10731\n",
      "http://data.kirjasampo.fi/abstractWork_9789513172398 http://ldf.fi/relse/hasTheme http://www.yso.fi/onto/koko/p50151\n",
      "http://data.kirjasampo.fi/abstractWork_9789513172398 http://ldf.fi/relse/pubYear 2013\n",
      "http://data.kirjasampo.fi/abstractWork_9789513172398 http://ldf.fi/relse/hasTheme http://www.yso.fi/onto/koko/p15647\n",
      "http://data.kirjasampo.fi/abstractWork_9789513172398 http://ldf.fi/relse/hasGenre http://www.yso.fi/onto/koko/p12140\n"
     ]
    }
   ],
   "source": [
    "# check turtschaninoff for an example\n",
    "# https://www.kirjasampo.fi/fi/kulsa/http%253A%252F%252Fdata.kirjasampo.fi%252FabstractWork_9789513172398\n",
    "\n",
    "novels=[]\n",
    "for s, p, o in g.triples((None,  None, None)):\n",
    "    #print(o)\n",
    "    if str(s) ==\"http://data.kirjasampo.fi/abstractWork_9789513172398\":\n",
    "        print(s,p,o)\n",
    "        #novels.append(str(s))\n",
    "    #print(f\"{s} is a  novel\")\n",
    "    \n"
   ]
  },
  {
   "cell_type": "code",
   "execution_count": 11,
   "id": "bb287b99",
   "metadata": {},
   "outputs": [
    {
     "data": {
      "text/plain": [
       "[('http://www.btj.fi/at_1678175', 'Ritos de muerte'),\n",
       " ('http://data.kirjasampo.fi/abstractWork_9789518830927',\n",
       "  'Piraatti-Pete ja hirmuiset merirosvot'),\n",
       " ('http://www.yso.fi/onto/kaunokki#ateos_9589', 'The first eagle'),\n",
       " ('http://www.yso.fi/onto/kaunokki#ateos_3912', 'Yön suojissa'),\n",
       " ('http://data.kirjasampo.fi/abstractWork_6834230', 'Sirkustyttö'),\n",
       " ('http://data.kirjasampo.fi/abstractWork_4124516', 'The ordinary princess'),\n",
       " ('http://www.yso.fi/onto/kaunokki#ateos_2216', 'Gift med en kommunist'),\n",
       " ('http://data.kirjasampo.fi/abstractWork_9789511255659', 'Suden hetki'),\n",
       " ('http://seco.tkk.fi/saha3/ucf938d75-fc5e-4637-9715-73092ba5482a',\n",
       "  'De försvunna kompisarna'),\n",
       " ('http://seco.tkk.fi/saha3/u99617114-2455-49e4-8bed-05851eb04a3f', 'Hannah')]"
      ]
     },
     "execution_count": 11,
     "metadata": {},
     "output_type": "execute_result"
    }
   ],
   "source": [
    "# title lookup\n",
    "\n",
    "# query the database for novel titles\n",
    "\n",
    "qres = g.query(\"\"\"\n",
    "PREFIX kaunokki: <http://www.yso.fi/onto/kaunokki#> \n",
    "PREFIX rel: <http://ldf.fi/relse/> \n",
    "PREFIX dct: <http://purl.org/dc/terms/>\n",
    "PREFIX foaf: <http://xmlns.com/foaf/0.1/>\n",
    "PREFIX owl: <http://www.w3.org/2002/07/owl#>\n",
    "PREFIX rdf: <http://www.w3.org/1999/02/22-rdf-syntax-ns#>\n",
    "PREFIX rdfs: <http://www.w3.org/2000/01/rdf-schema#>\n",
    "PREFIX schema: <http://schema.org/>\n",
    "PREFIX skos: <http://www.w3.org/2004/02/skos/core#>\n",
    "PREFIX xml: <http://www.w3.org/XML/1998/namespace>\n",
    "PREFIX xsd: <http://www.w3.org/2001/XMLSchema#>\n",
    "\n",
    "SELECT ?id ?label\n",
    "WHERE {\n",
    "  ?id a rel:novel ; skos:prefLabel ?label\n",
    "}  \"\"\")\n",
    "\n",
    "title_lookup=dict([(str(url), str(label)) for url, label in qres])\n",
    "\n",
    "list(title_lookup.items())[:10]"
   ]
  },
  {
   "cell_type": "code",
   "execution_count": 12,
   "id": "d1f53350",
   "metadata": {
    "scrolled": true
   },
   "outputs": [
    {
     "name": "stdout",
     "output_type": "stream",
     "text": [
      "17644\n",
      "17644\n",
      "[('http://www.btj.fi/at_1678175', {'http://www.yso.fi/onto/kaunokki#female'}), ('http://data.kirjasampo.fi/abstractWork_9789518830927', {'http://www.yso.fi/onto/kaunokki#female'}), ('http://www.yso.fi/onto/kaunokki#ateos_9589', {'http://www.yso.fi/onto/kaunokki#male'}), ('http://www.yso.fi/onto/kaunokki#ateos_3912', {'http://www.yso.fi/onto/kaunokki#female'}), ('http://data.kirjasampo.fi/abstractWork_6834230', {'http://www.yso.fi/onto/kaunokki#female'}), ('http://data.kirjasampo.fi/abstractWork_4124516', {'http://www.yso.fi/onto/kaunokki#female'}), ('http://www.yso.fi/onto/kaunokki#ateos_2216', {'http://www.yso.fi/onto/kaunokki#male'}), ('http://data.kirjasampo.fi/abstractWork_9789511255659', {'http://www.yso.fi/onto/kaunokki#female'}), ('http://seco.tkk.fi/saha3/u99617114-2455-49e4-8bed-05851eb04a3f', {'http://www.yso.fi/onto/kaunokki#male'}), ('http://seco.tkk.fi/saha3/ue552c4bb-ecd8-495d-be5d-00c45f9caaa8', {'http://www.yso.fi/onto/kaunokki#male'})] [('http://www.yso.fi/onto/kaunokki#ateos_708', {'http://www.yso.fi/onto/kaunokki#female'}), ('http://seco.tkk.fi/saha3/ue876b69b-66d0-4f4d-b7f0-1fef463e98c9', {'http://www.yso.fi/onto/kaunokki#female'}), ('http://data.kirjasampo.fi/abstractWork_7183655', {'http://www.yso.fi/onto/kaunokki#male'}), ('http://www.yso.fi/onto/kaunokki#ateos_7347', {'http://www.yso.fi/onto/kaunokki#female'}), ('http://data.kirjasampo.fi/abstractWork_9789187027321', {'http://www.yso.fi/onto/kaunokki#female'}), ('http://seco.tkk.fi/saha3/u189d4a12-2e00-409f-a921-4e0d157c4dc7', {'http://www.yso.fi/onto/kaunokki#male'}), ('http://seco.tkk.fi/saha3/u6bcd337d-50e2-4bee-9f51-e7e038d79eda', {'http://www.yso.fi/onto/kaunokki#male'}), ('http://www.yso.fi/onto/kaunokki#ateos_4583', {'http://www.yso.fi/onto/kaunokki#female'}), ('http://www.yso.fi/onto/kaunokki#ateos_11673', {'http://www.yso.fi/onto/kaunokki#female'}), ('http://data.kirjasampo.fi/abstractWork_4226796', {'http://www.yso.fi/onto/kaunokki#male'})]\n"
     ]
    }
   ],
   "source": [
    "# gender lookup\n",
    "\n",
    "qres = g.query(\"\"\"\n",
    "#PREFIX kaunokki: <http://www.yso.fi/onto/kaunokki#> \n",
    "PREFIX rel: <http://ldf.fi/relse/> \n",
    "PREFIX dct: <http://purl.org/dc/terms/>\n",
    "PREFIX foaf: <http://xmlns.com/foaf/0.1/>\n",
    "PREFIX owl: <http://www.w3.org/2002/07/owl#>\n",
    "PREFIX rdf: <http://www.w3.org/1999/02/22-rdf-syntax-ns#>\n",
    "PREFIX rdfs: <http://www.w3.org/2000/01/rdf-schema#>\n",
    "PREFIX schema: <http://schema.org/>\n",
    "PREFIX skos: <http://www.w3.org/2004/02/skos/core#>\n",
    "PREFIX xml: <http://www.w3.org/XML/1998/namespace>\n",
    "PREFIX xsd: <http://www.w3.org/2001/XMLSchema#>\n",
    "\n",
    "SELECT ?teos ?gender\n",
    "WHERE {\n",
    "  ?teos a rel:novel ; rel:hasAuthor ?author. \n",
    "  ?author foaf:gender ?gender .\n",
    "}  \"\"\")\n",
    "\n",
    "gender_lookup=defaultdict(set)\n",
    "for url, label in qres:\n",
    "    gender_lookup[str(url)].update([str(label)])\n",
    "#print(list(gender_lookup.items())[-10:])\n",
    "print(len(gender_lookup))\n",
    "gender_lookup2 = {novel:\"unk\" for novel in novels if novel not in gender_lookup.keys() }\n",
    "gender_lookup.update(gender_lookup2)\n",
    "print(len(gender_lookup))\n",
    "print(list(gender_lookup.items())[:10],list(gender_lookup.items())[-10:])"
   ]
  },
  {
   "cell_type": "markdown",
   "id": "733aa90a",
   "metadata": {},
   "source": [
    "# correct languages\n",
    "\n"
   ]
  },
  {
   "cell_type": "code",
   "execution_count": 13,
   "id": "a033cb83",
   "metadata": {
    "scrolled": true
   },
   "outputs": [
    {
     "name": "stdout",
     "output_type": "stream",
     "text": [
      "18035\n",
      "18035\n",
      "[('http://www.btj.fi/at_1678175', {'http://lexvo.org/id/iso639-3/spa'}), ('http://data.kirjasampo.fi/abstractWork_9789518830927', {'http://lexvo.org/id/iso639-3/eng'}), ('http://www.yso.fi/onto/kaunokki#ateos_9589', {'http://lexvo.org/id/iso639-3/eng'}), ('http://www.yso.fi/onto/kaunokki#ateos_3912', {'http://lexvo.org/id/iso639-3/eng'}), ('http://data.kirjasampo.fi/abstractWork_6834230', {'http://lexvo.org/id/iso639-3/eng'}), ('http://data.kirjasampo.fi/abstractWork_4124516', {'http://lexvo.org/id/iso639-3/eng'}), ('http://www.yso.fi/onto/kaunokki#ateos_2216', {'http://lexvo.org/id/iso639-3/eng'}), ('http://data.kirjasampo.fi/abstractWork_9789511255659', {'http://lexvo.org/id/iso639-3/eng'}), ('http://seco.tkk.fi/saha3/ucf938d75-fc5e-4637-9715-73092ba5482a', {'http://lexvo.org/id/iso639-3/eng'}), ('http://seco.tkk.fi/saha3/u99617114-2455-49e4-8bed-05851eb04a3f', {'http://lexvo.org/id/iso639-3/fra'})] [('http://www.yso.fi/onto/kaunokki#ateos_708', {'http://lexvo.org/id/iso639-3/eng'}), ('http://seco.tkk.fi/saha3/ue876b69b-66d0-4f4d-b7f0-1fef463e98c9', {'http://lexvo.org/id/iso639-3/swe'}), ('http://data.kirjasampo.fi/abstractWork_7183655', {'http://lexvo.org/id/iso639-3/deu'}), ('http://www.yso.fi/onto/kaunokki#ateos_7347', {'http://lexvo.org/id/iso639-3/eng'}), ('http://data.kirjasampo.fi/abstractWork_9789187027321', {'http://lexvo.org/id/iso639-3/swe'}), ('http://seco.tkk.fi/saha3/u189d4a12-2e00-409f-a921-4e0d157c4dc7', {'http://lexvo.org/id/iso639-3/eng'}), ('http://seco.tkk.fi/saha3/u6bcd337d-50e2-4bee-9f51-e7e038d79eda', {'http://lexvo.org/id/iso639-3/swe'}), ('http://www.yso.fi/onto/kaunokki#ateos_4583', {'http://lexvo.org/id/iso639-3/eng'}), ('http://www.yso.fi/onto/kaunokki#ateos_11673', {'http://lexvo.org/id/iso639-3/eng'}), ('http://data.kirjasampo.fi/abstractWork_4226796', {'http://lexvo.org/id/iso639-3/eng'})]\n"
     ]
    }
   ],
   "source": [
    "# initial language lookup\n",
    "\n",
    "qres = g.query(\"\"\"\n",
    "#PREFIX kaunokki: <http://www.yso.fi/onto/kaunokki#> \n",
    "PREFIX rel: <http://ldf.fi/relse/> \n",
    "PREFIX dct: <http://purl.org/dc/terms/>\n",
    "PREFIX foaf: <http://xmlns.com/foaf/0.1/>\n",
    "PREFIX owl: <http://www.w3.org/2002/07/owl#>\n",
    "PREFIX rdf: <http://www.w3.org/1999/02/22-rdf-syntax-ns#>\n",
    "PREFIX rdfs: <http://www.w3.org/2000/01/rdf-schema#>\n",
    "PREFIX schema: <http://schema.org/>\n",
    "PREFIX skos: <http://www.w3.org/2004/02/skos/core#>\n",
    "PREFIX xml: <http://www.w3.org/XML/1998/namespace>\n",
    "PREFIX xsd: <http://www.w3.org/2001/XMLSchema#>\n",
    "\n",
    "SELECT ?teos ?lang\n",
    "WHERE {\n",
    "  ?teos a rel:novel ; rel:langOrig ?lang. \n",
    "  #?author foaf:gender ?gender .\n",
    "}  \"\"\")\n",
    "\n",
    "lang_lookup=defaultdict(set)\n",
    "for url, label in qres:\n",
    "    lang_lookup[str(url)].update([str(label)])\n",
    "#print(list(gender_lookup.items())[-10:])\n",
    "print(len(lang_lookup))\n",
    "lang_lookup2 = {novel:\"unk\" for novel in novels if novel not in lang_lookup.keys() }\n",
    "lang_lookup.update(lang_lookup2)\n",
    "print(len(lang_lookup))\n",
    "print(list(lang_lookup.items())[:10],list(lang_lookup.items())[-10:])"
   ]
  },
  {
   "cell_type": "code",
   "execution_count": 14,
   "id": "1a2d3b99",
   "metadata": {},
   "outputs": [],
   "source": [
    "g2 =g"
   ]
  },
  {
   "cell_type": "code",
   "execution_count": 15,
   "id": "10032705",
   "metadata": {},
   "outputs": [],
   "source": [
    "# split the name and do something\n",
    "\n",
    "qres = g2.query(\"\"\"\n",
    "#PREFIX kaunokki: <http://www.yso.fi/onto/kaunokki#> \n",
    "PREFIX rel: <http://ldf.fi/relse/> \n",
    "PREFIX dct: <http://purl.org/dc/terms/>\n",
    "PREFIX foaf: <http://xmlns.com/foaf/0.1/>\n",
    "PREFIX owl: <http://www.w3.org/2002/07/owl#>\n",
    "PREFIX rdf: <http://www.w3.org/1999/02/22-rdf-syntax-ns#>\n",
    "PREFIX rdfs: <http://www.w3.org/2000/01/rdf-schema#>\n",
    "PREFIX schema: <http://schema.org/>\n",
    "PREFIX skos: <http://www.w3.org/2004/02/skos/core#>\n",
    "PREFIX xml: <http://www.w3.org/XML/1998/namespace>\n",
    "PREFIX xsd: <http://www.w3.org/2001/XMLSchema#>\n",
    "\n",
    "SELECT DISTINCT ?lang\n",
    "WHERE {\n",
    "  ?teos a rel:novel ; rel:langOrig ?lang. \n",
    "  \n",
    "}  \"\"\")\n",
    "\n",
    "langlabel_lookup = {}\n",
    "\n",
    "for l in qres:\n",
    "    lang=l[\"lang\"].toPython()\n",
    "    #print(lang)\n",
    "    if lang not in langlabel_lookup.keys():\n",
    "        langlabel_lookup[lang]= lang.split(\"/\")[-1]\n",
    "    else:\n",
    "        print(\"oop\",lang)"
   ]
  },
  {
   "cell_type": "code",
   "execution_count": 16,
   "id": "6df5f730",
   "metadata": {
    "scrolled": true
   },
   "outputs": [
    {
     "name": "stdout",
     "output_type": "stream",
     "text": [
      "http://www.lingvoj.org/lang/smi smi\n",
      "http://www.lingvoj.org/lang/en-gb en-gb\n",
      "http://www.lingvoj.org/lang/bnt bnt\n",
      "http://www.lingvoj.org/lang/fiu fiu\n",
      "http://www.lingvoj.org/lang/be-x-old be-x-old\n"
     ]
    }
   ],
   "source": [
    "oldlang=[]\n",
    "for k,v in langlabel_lookup.items():\n",
    "    if \"lexvo\" not in k:\n",
    "        print(k,v)\n",
    "        oldlang.append(k)"
   ]
  },
  {
   "cell_type": "code",
   "execution_count": 17,
   "id": "e138dd48",
   "metadata": {},
   "outputs": [],
   "source": [
    "# correct list\n",
    "# smi http://www.lexvo.org/page/iso639-5/smi\n",
    "# en-gb http://lexvo.org/id/iso639-3/eng\n",
    "# bnt http://www.lexvo.org/page/iso639-5/bnt\n",
    "# fiu http://www.lexvo.org/page/iso639-5/fiu\n",
    "# be-x-old http://www.lexvo.org/page/iso639-3/bel\n",
    "\n",
    "newlang=[\"http://www.lexvo.org/page/iso639-5/smi\",\"http://lexvo.org/id/iso639-3/eng\",\"http://www.lexvo.org/page/iso639-5/bnt\",\n",
    "        \"http://www.lexvo.org/page/iso639-5/fiu\",\"http://www.lexvo.org/page/iso639-3/bel\"]\n",
    "\n",
    "updated= [\"http://lexvo.org/page/iso639-5/smi\",\"http://lexvo.org/id/iso639-3/eng\",\"http://lexvo.org/page/iso639-5/bnt\",\n",
    "        \"http://lexvo.org/page/iso639-5/fiu\",\"http://lexvo.org/page/iso639-3/bel\"]\n",
    "updated= [\"http://lexvo.org/page/iso639-5/smi\",\"http://lexvo.org/id/iso639-3/eng\",\"http://lexvo.org/page/iso639-5/bnt\",\n",
    "        \"http://lexvo.org/page/iso639-5/fiu\",\"http://lexvo.org/page/iso639-3/bel\"]"
   ]
  },
  {
   "cell_type": "code",
   "execution_count": 18,
   "id": "a315b4c3",
   "metadata": {},
   "outputs": [
    {
     "name": "stdout",
     "output_type": "stream",
     "text": [
      "http://lexvo.org/id/iso639-3/vec http://lexvo.org/id/iso639-3/rus\n",
      "http://lexvo.org/id/iso639-3/vec http://lexvo.org/id/iso639-3/rus\n"
     ]
    }
   ],
   "source": [
    "# correct vec to Russian\n",
    "for o,n in zip([\"http://lexvo.org/id/iso639-3/vec\"],[\"http://lexvo.org/id/iso639-3/rus\"]):\n",
    "    \n",
    "    print(o,n)\n",
    "    old= o\n",
    "    new=n.replace(\"page\",\"id\")\n",
    "    print(o,new)\n",
    "    query=\"\"\"\n",
    "    PREFIX rel: <http://ldf.fi/relse/>\n",
    "             DELETE {?teos rel:langOrig <OLD> }\n",
    "             INSERT { ?teos rel:langOrig  <NEW> }\n",
    "             WHERE { ?teos rel:langOrig <OLD> }\n",
    "             \"\"\"\n",
    "    q=query.replace(\"OLD\",old).replace(\"NEW\",new)\n",
    "    g2.update(q)"
   ]
  },
  {
   "cell_type": "code",
   "execution_count": 19,
   "id": "fb5b9d1b",
   "metadata": {},
   "outputs": [
    {
     "name": "stdout",
     "output_type": "stream",
     "text": [
      "http://www.lingvoj.org/lang/smi http://www.lexvo.org/id/iso639-5/smi\n",
      "http://www.lingvoj.org/lang/en-gb http://lexvo.org/id/iso639-3/eng\n",
      "http://www.lingvoj.org/lang/bnt http://www.lexvo.org/id/iso639-5/bnt\n",
      "http://www.lingvoj.org/lang/fiu http://www.lexvo.org/id/iso639-5/fiu\n",
      "http://www.lingvoj.org/lang/be-x-old http://www.lexvo.org/id/iso639-3/bel\n"
     ]
    }
   ],
   "source": [
    "for o,n in zip(oldlang,newlang):\n",
    "    \n",
    "    #print(o,n)\n",
    "    old= o\n",
    "    new=n.replace(\"page\",\"id\")\n",
    "    print(old,new)\n",
    "    query=\"\"\"\n",
    "             DELETE {?teos rel:langOrig <OLD> }\n",
    "             INSERT { ?teos rel:langOrig  <NEW> }\n",
    "             WHERE { ?teos rel:langOrig <OLD> }\n",
    "             \"\"\"\n",
    "    q=query.replace(\"OLD\",old).replace(\"NEW\",new)\n",
    "    g2.update(q)\n",
    "    #print(\"After second update:\")\n",
    "    "
   ]
  },
  {
   "cell_type": "code",
   "execution_count": 20,
   "id": "6c146980",
   "metadata": {},
   "outputs": [],
   "source": [
    "for n in newlang:\n",
    "    new=n.replace(\"page\",\"id\")\n",
    "    g2.add((URIRef(new), RDF.type, rel.lang))"
   ]
  },
  {
   "cell_type": "code",
   "execution_count": 21,
   "id": "a627455d",
   "metadata": {},
   "outputs": [
    {
     "name": "stdout",
     "output_type": "stream",
     "text": [
      "18035\n",
      "18035\n",
      "[('http://www.btj.fi/at_1678175', {'http://lexvo.org/id/iso639-3/spa'}), ('http://data.kirjasampo.fi/abstractWork_9789518830927', {'http://lexvo.org/id/iso639-3/eng'}), ('http://www.yso.fi/onto/kaunokki#ateos_9589', {'http://lexvo.org/id/iso639-3/eng'}), ('http://www.yso.fi/onto/kaunokki#ateos_3912', {'http://lexvo.org/id/iso639-3/eng'}), ('http://data.kirjasampo.fi/abstractWork_6834230', {'http://lexvo.org/id/iso639-3/eng'}), ('http://data.kirjasampo.fi/abstractWork_4124516', {'http://lexvo.org/id/iso639-3/eng'}), ('http://www.yso.fi/onto/kaunokki#ateos_2216', {'http://lexvo.org/id/iso639-3/eng'}), ('http://data.kirjasampo.fi/abstractWork_9789511255659', {'http://lexvo.org/id/iso639-3/eng'}), ('http://seco.tkk.fi/saha3/ucf938d75-fc5e-4637-9715-73092ba5482a', {'http://lexvo.org/id/iso639-3/eng'}), ('http://seco.tkk.fi/saha3/u99617114-2455-49e4-8bed-05851eb04a3f', {'http://lexvo.org/id/iso639-3/fra'})] [('http://www.yso.fi/onto/kaunokki#ateos_708', {'http://lexvo.org/id/iso639-3/eng'}), ('http://seco.tkk.fi/saha3/ue876b69b-66d0-4f4d-b7f0-1fef463e98c9', {'http://lexvo.org/id/iso639-3/swe'}), ('http://data.kirjasampo.fi/abstractWork_7183655', {'http://lexvo.org/id/iso639-3/deu'}), ('http://www.yso.fi/onto/kaunokki#ateos_7347', {'http://lexvo.org/id/iso639-3/eng'}), ('http://data.kirjasampo.fi/abstractWork_9789187027321', {'http://lexvo.org/id/iso639-3/swe'}), ('http://seco.tkk.fi/saha3/u189d4a12-2e00-409f-a921-4e0d157c4dc7', {'http://lexvo.org/id/iso639-3/eng'}), ('http://seco.tkk.fi/saha3/u6bcd337d-50e2-4bee-9f51-e7e038d79eda', {'http://lexvo.org/id/iso639-3/swe'}), ('http://www.yso.fi/onto/kaunokki#ateos_4583', {'http://lexvo.org/id/iso639-3/eng'}), ('http://www.yso.fi/onto/kaunokki#ateos_11673', {'http://lexvo.org/id/iso639-3/eng'}), ('http://data.kirjasampo.fi/abstractWork_4226796', {'http://lexvo.org/id/iso639-3/eng'})]\n"
     ]
    }
   ],
   "source": [
    "# new language lookup\n",
    "\n",
    "qres = g2.query(\"\"\"\n",
    "#PREFIX kaunokki: <http://www.yso.fi/onto/kaunokki#> \n",
    "PREFIX rel: <http://ldf.fi/relse/> \n",
    "PREFIX dct: <http://purl.org/dc/terms/>\n",
    "PREFIX foaf: <http://xmlns.com/foaf/0.1/>\n",
    "PREFIX owl: <http://www.w3.org/2002/07/owl#>\n",
    "PREFIX rdf: <http://www.w3.org/1999/02/22-rdf-syntax-ns#>\n",
    "PREFIX rdfs: <http://www.w3.org/2000/01/rdf-schema#>\n",
    "PREFIX schema: <http://schema.org/>\n",
    "PREFIX skos: <http://www.w3.org/2004/02/skos/core#>\n",
    "PREFIX xml: <http://www.w3.org/XML/1998/namespace>\n",
    "PREFIX xsd: <http://www.w3.org/2001/XMLSchema#>\n",
    "\n",
    "SELECT ?teos ?lang\n",
    "WHERE {\n",
    "  ?teos a rel:novel ; rel:langOrig ?lang  ; rel:pubYear ?year .\n",
    "  FILTER(?year > 1899)\n",
    "  #?author foaf:gender ?gender .\n",
    "}  \"\"\")\n",
    "\n",
    "lang_lookup=defaultdict(set)\n",
    "for url, label in qres:\n",
    "    lang_lookup[str(url)].update([str(label)])\n",
    "#print(list(gender_lookup.items())[-10:])\n",
    "print(len(lang_lookup))\n",
    "#lang_lookup2 = {novel:\"unk\" for novel in novels if novel not in lang_lookup.keys() }\n",
    "#lang_lookup.update(lang_lookup2)\n",
    "print(len(lang_lookup))\n",
    "print(list(lang_lookup.items())[:10],list(lang_lookup.items())[-10:])"
   ]
  },
  {
   "cell_type": "code",
   "execution_count": 23,
   "id": "58390d9e",
   "metadata": {},
   "outputs": [
    {
     "data": {
      "text/plain": [
       "[]"
      ]
     },
     "execution_count": 23,
     "metadata": {},
     "output_type": "execute_result"
    }
   ],
   "source": [
    "oldlang=[]\n",
    "for k,v in langlabel_lookup.items():\n",
    "    if \"page\"  in k:\n",
    "        print(k,v)\n",
    "        oldlang.append(k)\n",
    "        \n",
    "oldlang"
   ]
  },
  {
   "cell_type": "code",
   "execution_count": 24,
   "id": "dd387f39",
   "metadata": {},
   "outputs": [],
   "source": [
    "# count languages\n",
    "\n",
    "countdict=defaultdict(int)\n",
    "n=0\n",
    "for k,v in lang_lookup.items():\n",
    "    if v == \"unk\":\n",
    "        print(v)\n",
    "        countdict[v] +=1\n",
    "    else:\n",
    "        for val in v:\n",
    "            label=val.split(\"/\")[-1]\n",
    "            #print(label)\n",
    "            #if len(label) ==1:\n",
    "            countdict[label] += 1\n",
    "            #elif len(label) > 1:\n",
    "             #   print(label)"
   ]
  },
  {
   "cell_type": "code",
   "execution_count": 25,
   "id": "1103606f",
   "metadata": {
    "scrolled": true
   },
   "outputs": [
    {
     "data": {
      "text/html": [
       "<div>\n",
       "<style scoped>\n",
       "    .dataframe tbody tr th:only-of-type {\n",
       "        vertical-align: middle;\n",
       "    }\n",
       "\n",
       "    .dataframe tbody tr th {\n",
       "        vertical-align: top;\n",
       "    }\n",
       "\n",
       "    .dataframe thead th {\n",
       "        text-align: right;\n",
       "    }\n",
       "</style>\n",
       "<table border=\"1\" class=\"dataframe\">\n",
       "  <thead>\n",
       "    <tr style=\"text-align: right;\">\n",
       "      <th></th>\n",
       "      <th>0</th>\n",
       "      <th>1</th>\n",
       "    </tr>\n",
       "  </thead>\n",
       "  <tbody>\n",
       "    <tr>\n",
       "      <th>22</th>\n",
       "      <td>bul</td>\n",
       "      <td>5</td>\n",
       "    </tr>\n",
       "    <tr>\n",
       "      <th>17</th>\n",
       "      <td>afr</td>\n",
       "      <td>5</td>\n",
       "    </tr>\n",
       "    <tr>\n",
       "      <th>48</th>\n",
       "      <td>fas</td>\n",
       "      <td>5</td>\n",
       "    </tr>\n",
       "    <tr>\n",
       "      <th>39</th>\n",
       "      <td>ron</td>\n",
       "      <td>4</td>\n",
       "    </tr>\n",
       "    <tr>\n",
       "      <th>24</th>\n",
       "      <td>ukr</td>\n",
       "      <td>3</td>\n",
       "    </tr>\n",
       "    <tr>\n",
       "      <th>50</th>\n",
       "      <td>grc</td>\n",
       "      <td>3</td>\n",
       "    </tr>\n",
       "    <tr>\n",
       "      <th>44</th>\n",
       "      <td>lit</td>\n",
       "      <td>3</td>\n",
       "    </tr>\n",
       "    <tr>\n",
       "      <th>34</th>\n",
       "      <td>kat</td>\n",
       "      <td>3</td>\n",
       "    </tr>\n",
       "    <tr>\n",
       "      <th>35</th>\n",
       "      <td>srp</td>\n",
       "      <td>3</td>\n",
       "    </tr>\n",
       "    <tr>\n",
       "      <th>59</th>\n",
       "      <td>hye</td>\n",
       "      <td>2</td>\n",
       "    </tr>\n",
       "    <tr>\n",
       "      <th>36</th>\n",
       "      <td>ind</td>\n",
       "      <td>2</td>\n",
       "    </tr>\n",
       "    <tr>\n",
       "      <th>56</th>\n",
       "      <td>slk</td>\n",
       "      <td>2</td>\n",
       "    </tr>\n",
       "    <tr>\n",
       "      <th>47</th>\n",
       "      <td>lat</td>\n",
       "      <td>2</td>\n",
       "    </tr>\n",
       "    <tr>\n",
       "      <th>49</th>\n",
       "      <td>hrv</td>\n",
       "      <td>2</td>\n",
       "    </tr>\n",
       "    <tr>\n",
       "      <th>53</th>\n",
       "      <td>fit</td>\n",
       "      <td>1</td>\n",
       "    </tr>\n",
       "    <tr>\n",
       "      <th>60</th>\n",
       "      <td>hin</td>\n",
       "      <td>1</td>\n",
       "    </tr>\n",
       "    <tr>\n",
       "      <th>58</th>\n",
       "      <td>vie</td>\n",
       "      <td>1</td>\n",
       "    </tr>\n",
       "    <tr>\n",
       "      <th>57</th>\n",
       "      <td>chm</td>\n",
       "      <td>1</td>\n",
       "    </tr>\n",
       "    <tr>\n",
       "      <th>55</th>\n",
       "      <td>mkd</td>\n",
       "      <td>1</td>\n",
       "    </tr>\n",
       "    <tr>\n",
       "      <th>54</th>\n",
       "      <td>bel</td>\n",
       "      <td>1</td>\n",
       "    </tr>\n",
       "    <tr>\n",
       "      <th>38</th>\n",
       "      <td>glg</td>\n",
       "      <td>1</td>\n",
       "    </tr>\n",
       "    <tr>\n",
       "      <th>52</th>\n",
       "      <td>bos</td>\n",
       "      <td>1</td>\n",
       "    </tr>\n",
       "    <tr>\n",
       "      <th>28</th>\n",
       "      <td>krl</td>\n",
       "      <td>1</td>\n",
       "    </tr>\n",
       "    <tr>\n",
       "      <th>40</th>\n",
       "      <td>kur</td>\n",
       "      <td>1</td>\n",
       "    </tr>\n",
       "    <tr>\n",
       "      <th>46</th>\n",
       "      <td>fiu</td>\n",
       "      <td>1</td>\n",
       "    </tr>\n",
       "    <tr>\n",
       "      <th>45</th>\n",
       "      <td>som</td>\n",
       "      <td>1</td>\n",
       "    </tr>\n",
       "    <tr>\n",
       "      <th>37</th>\n",
       "      <td>kik</td>\n",
       "      <td>1</td>\n",
       "    </tr>\n",
       "    <tr>\n",
       "      <th>42</th>\n",
       "      <td>ben</td>\n",
       "      <td>1</td>\n",
       "    </tr>\n",
       "    <tr>\n",
       "      <th>41</th>\n",
       "      <td>bnt</td>\n",
       "      <td>1</td>\n",
       "    </tr>\n",
       "    <tr>\n",
       "      <th>61</th>\n",
       "      <td>mul</td>\n",
       "      <td>1</td>\n",
       "    </tr>\n",
       "  </tbody>\n",
       "</table>\n",
       "</div>"
      ],
      "text/plain": [
       "      0  1\n",
       "22  bul  5\n",
       "17  afr  5\n",
       "48  fas  5\n",
       "39  ron  4\n",
       "24  ukr  3\n",
       "50  grc  3\n",
       "44  lit  3\n",
       "34  kat  3\n",
       "35  srp  3\n",
       "59  hye  2\n",
       "36  ind  2\n",
       "56  slk  2\n",
       "47  lat  2\n",
       "49  hrv  2\n",
       "53  fit  1\n",
       "60  hin  1\n",
       "58  vie  1\n",
       "57  chm  1\n",
       "55  mkd  1\n",
       "54  bel  1\n",
       "38  glg  1\n",
       "52  bos  1\n",
       "28  krl  1\n",
       "40  kur  1\n",
       "46  fiu  1\n",
       "45  som  1\n",
       "37  kik  1\n",
       "42  ben  1\n",
       "41  bnt  1\n",
       "61  mul  1"
      ]
     },
     "execution_count": 25,
     "metadata": {},
     "output_type": "execute_result"
    }
   ],
   "source": [
    "\n",
    "\n",
    "pd.DataFrame(countdict.items()).sort_values(by=1,ascending=False).tail(30)"
   ]
  },
  {
   "cell_type": "code",
   "execution_count": 26,
   "id": "ea6dfd5b",
   "metadata": {},
   "outputs": [
    {
     "data": {
      "text/plain": [
       "dict_keys(['http://lexvo.org/id/iso639-3/spa', 'http://lexvo.org/id/iso639-3/eng', 'http://lexvo.org/id/iso639-3/fra', 'http://lexvo.org/id/iso639-3/dan', 'http://lexvo.org/id/iso639-3/swe', 'http://lexvo.org/id/iso639-3/deu', 'http://lexvo.org/id/iso639-3/ita', 'http://lexvo.org/id/iso639-3/sme', 'http://lexvo.org/id/iso639-3/nor', 'http://lexvo.org/id/iso639-3/rus', 'http://lexvo.org/id/iso639-3/jpn', 'http://lexvo.org/id/iso639-3/ara', 'http://lexvo.org/id/iso639-3/heb', 'http://lexvo.org/id/iso639-3/isl', 'http://lexvo.org/id/iso639-3/por', 'http://lexvo.org/id/iso639-3/est', 'http://lexvo.org/id/iso639-3/pol', 'http://lexvo.org/id/iso639-3/afr', 'http://lexvo.org/id/iso639-3/nld', 'http://lexvo.org/id/iso639-3/ell', 'http://lexvo.org/id/iso639-3/lav', 'http://lexvo.org/id/iso639-3/hun', 'http://lexvo.org/id/iso639-3/bul', 'http://lexvo.org/id/iso639-3/cat', 'http://lexvo.org/id/iso639-3/ukr', 'http://lexvo.org/id/iso639-3/ces', 'http://lexvo.org/id/iso639-3/yid', 'http://lexvo.org/id/iso639-3/tur', 'http://lexvo.org/id/iso639-3/krl', 'http://lexvo.org/id/iso639-3/zho', 'http://lexvo.org/id/iso639-3/kor', 'http://lexvo.org/id/iso639-3/hbs', 'http://lexvo.org/id/iso639-3/slv', 'http://www.lingvoj.org/lang/smi', 'http://lexvo.org/id/iso639-3/kat', 'http://lexvo.org/id/iso639-3/srp', 'http://lexvo.org/id/iso639-3/ind', 'http://lexvo.org/id/iso639-3/kik', 'http://lexvo.org/id/iso639-3/glg', 'http://lexvo.org/id/iso639-3/ron', 'http://lexvo.org/id/iso639-3/kur', 'http://lexvo.org/id/iso639-3/vec', 'http://www.lingvoj.org/lang/en-gb', 'http://www.lingvoj.org/lang/bnt', 'http://lexvo.org/id/iso639-3/ben', 'http://lexvo.org/id/iso639-3/sqi', 'http://lexvo.org/id/iso639-3/lit', 'http://lexvo.org/id/iso639-3/som', 'http://www.lingvoj.org/lang/fiu', 'http://lexvo.org/id/iso639-3/lat', 'http://lexvo.org/id/iso639-3/fas', 'http://lexvo.org/id/iso639-3/hrv', 'http://lexvo.org/id/iso639-5/smi', 'http://lexvo.org/id/iso639-3/grc', 'http://lexvo.org/id/iso639-3/eus', 'http://lexvo.org/id/iso639-3/bos', 'http://lexvo.org/id/iso639-3/fit', 'http://www.lingvoj.org/lang/be-x-old', 'http://lexvo.org/id/iso639-3/mkd', 'http://lexvo.org/id/iso639-3/slk', 'http://lexvo.org/id/iso639-3/chm', 'http://lexvo.org/id/iso639-3/vie', 'http://lexvo.org/id/iso639-3/hye', 'http://lexvo.org/id/iso639-3/hin', 'http://lexvo.org/id/iso639-3/mul'])"
      ]
     },
     "execution_count": 26,
     "metadata": {},
     "output_type": "execute_result"
    }
   ],
   "source": [
    "langlabel_lookup.keys()"
   ]
  },
  {
   "cell_type": "code",
   "execution_count": 28,
   "id": "efd12e40",
   "metadata": {},
   "outputs": [
    {
     "data": {
      "text/html": [
       "<div>\n",
       "<style scoped>\n",
       "    .dataframe tbody tr th:only-of-type {\n",
       "        vertical-align: middle;\n",
       "    }\n",
       "\n",
       "    .dataframe tbody tr th {\n",
       "        vertical-align: top;\n",
       "    }\n",
       "\n",
       "    .dataframe thead th {\n",
       "        text-align: right;\n",
       "    }\n",
       "</style>\n",
       "<table border=\"1\" class=\"dataframe\">\n",
       "  <thead>\n",
       "    <tr style=\"text-align: right;\">\n",
       "      <th></th>\n",
       "      <th>authorcount</th>\n",
       "      <th>authorUris</th>\n",
       "    </tr>\n",
       "  </thead>\n",
       "  <tbody>\n",
       "    <tr>\n",
       "      <th>0</th>\n",
       "      <td>5</td>\n",
       "      <td>http://www.yso.fi/onto/kaunokki#person_1231760...</td>\n",
       "    </tr>\n",
       "  </tbody>\n",
       "</table>\n",
       "</div>"
      ],
      "text/plain": [
       "   authorcount                                         authorUris\n",
       "0            5  http://www.yso.fi/onto/kaunokki#person_1231760..."
      ]
     },
     "execution_count": 28,
     "metadata": {},
     "output_type": "execute_result"
    }
   ],
   "source": [
    "# looks right\n",
    "# SPARQL checks for Bulgarian\n",
    "\n",
    "HC=\"\"\"\n",
    "SELECT  (COUNT(DISTINCT ?teos) as ?authorcount) (GROUP_CONCAT(?author; separator=\";\") AS ?authorUris) WHERE {\n",
    "  \n",
    "  ?teos  a kaunokki:romaani ; kaunokki:tekija ?author ; skos:prefLabel ?title.\n",
    "  ?teos kaunokki:alkukieli ?kieliuri .\n",
    "  FILTER (?kieliuri !=  <http://lexvo.org/id/iso639-3/fin>  )\n",
    "  VALUES ?kieliuri { <http://lexvo.org/id/iso639-3/bul> }\n",
    "  ?teos kaunokki:manifests_in ?julkaisu .\n",
    "  ?julkaisu kaunokki:kieli <http://lexvo.org/id/iso639-3/fin> . # käännetty suomeksi\n",
    "  ?julkaisu kaunokki:ilmestymisvuosi ?vuosi . ?vuosi skos:prefLabel ?vuosiluku .\n",
    "  #BIND(regex(str(?vuosiluku), \"197\" ) AS ?decade)\n",
    "  \n",
    "  #FILTER(?decade = xsd:boolean(\"true\"))\n",
    "  FILTER(xsd:integer(?vuosiluku) > 1970)\n",
    " \n",
    "  }\n",
    "  \"\"\"\n",
    "\n",
    "\n",
    "sparql = SPARQLWrapper(\"http://ldf.fi/booksampo-2022/sparql\")\n",
    "#sparql = SPARQLWrapper(\"http://ldf.fi/kirjasampo/sparql\")\n",
    "sparql.setQuery(PREFIXES + HC)\n",
    "sparql.setReturnFormat(JSON)\n",
    "sparql.addCustomHttpHeader(*list(AUTHORIZATION_HEADER.items())[0])\n",
    "results = sparql.query().convert()\n",
    "\n",
    "df_check = JSON2Pandas2(results)\n",
    "df_check # corresponds to my number"
   ]
  },
  {
   "cell_type": "code",
   "execution_count": 29,
   "id": "91ff89aa",
   "metadata": {
    "scrolled": true
   },
   "outputs": [
    {
     "name": "stdout",
     "output_type": "stream",
     "text": [
      "http://lexvo.org/id/iso639-3/zho\n",
      "http://lexvo.org/id/iso639-3/hin\n",
      "http://lexvo.org/id/iso639-3/slv\n",
      "http://lexvo.org/id/iso639-3/fit\n",
      "http://lexvo.org/id/iso639-3/jpn\n",
      "http://lexvo.org/id/iso639-3/ben\n",
      "http://lexvo.org/id/iso639-3/sqi\n",
      "http://lexvo.org/id/iso639-3/rus\n",
      "http://lexvo.org/id/iso639-3/swe\n",
      "http://www.lingvoj.org/lang/be-x-old\n",
      "http://lexvo.org/id/iso639-3/spa\n",
      "http://lexvo.org/id/iso639-3/afr\n",
      "http://lexvo.org/id/iso639-3/hye\n",
      "http://lexvo.org/id/iso639-3/dan\n",
      "http://lexvo.org/id/iso639-3/som\n",
      "http://lexvo.org/id/iso639-3/pol\n",
      "http://lexvo.org/id/iso639-3/vec\n",
      "http://lexvo.org/id/iso639-3/hrv\n",
      "http://lexvo.org/id/iso639-3/chm\n",
      "http://lexvo.org/id/iso639-3/nor\n",
      "http://www.lingvoj.org/lang/en-gb\n",
      "http://lexvo.org/id/iso639-3/heb\n",
      "http://lexvo.org/id/iso639-3/tur\n",
      "http://lexvo.org/id/iso639-3/kor\n",
      "http://lexvo.org/id/iso639-3/yid\n",
      "http://lexvo.org/id/iso639-3/eng\n",
      "http://lexvo.org/id/iso639-3/hun\n",
      "http://lexvo.org/id/iso639-3/slk\n",
      "http://lexvo.org/id/iso639-3/vie\n",
      "http://lexvo.org/id/iso639-3/hbs\n",
      "http://www.lingvoj.org/lang/smi\n",
      "http://lexvo.org/id/iso639-3/por\n",
      "http://lexvo.org/id/iso639-3/bul\n",
      "http://lexvo.org/id/iso639-3/mul\n",
      "http://lexvo.org/id/iso639-3/kur\n",
      "http://lexvo.org/id/iso639-3/ukr\n",
      "http://lexvo.org/id/iso639-3/lat\n",
      "http://lexvo.org/id/iso639-5/smi\n",
      "http://lexvo.org/id/iso639-3/ron\n",
      "http://lexvo.org/id/iso639-3/ell\n",
      "http://lexvo.org/id/iso639-3/glg\n",
      "http://lexvo.org/id/iso639-3/krl\n",
      "http://lexvo.org/id/iso639-3/bos\n",
      "http://lexvo.org/id/iso639-3/grc\n",
      "http://lexvo.org/id/iso639-3/lav\n",
      "http://lexvo.org/id/iso639-3/deu\n",
      "http://www.lingvoj.org/lang/fiu\n",
      "http://lexvo.org/id/iso639-3/fas\n",
      "http://lexvo.org/id/iso639-3/sme\n",
      "http://lexvo.org/id/iso639-3/ara\n",
      "http://www.lingvoj.org/lang/bnt\n",
      "http://lexvo.org/id/iso639-3/est\n",
      "http://lexvo.org/id/iso639-3/mkd\n",
      "http://lexvo.org/id/iso639-3/kik\n",
      "http://lexvo.org/id/iso639-3/eus\n",
      "http://lexvo.org/id/iso639-3/cat\n",
      "http://lexvo.org/id/iso639-3/ind\n",
      "http://lexvo.org/id/iso639-3/lit\n",
      "http://lexvo.org/id/iso639-3/ita\n",
      "http://lexvo.org/id/iso639-3/isl\n",
      "http://lexvo.org/id/iso639-3/fra\n",
      "http://lexvo.org/id/iso639-3/kat\n",
      "http://lexvo.org/id/iso639-3/ces\n",
      "http://lexvo.org/id/iso639-3/srp\n",
      "http://lexvo.org/id/iso639-3/nld\n",
      "http://www.lexvo.org/id/iso639-5/smi\n",
      "http://www.lexvo.org/id/iso639-5/bnt\n",
      "http://www.lexvo.org/id/iso639-5/fiu\n",
      "http://www.lexvo.org/id/iso639-3/bel\n"
     ]
    }
   ],
   "source": [
    "# remove all language labels\n",
    "for s, p, o in g2.triples((None, RDF.type, rel.lang)):\n",
    "    #g.add((s, FOAF['name'], o))\n",
    "    print(s)\n",
    "    g2.remove((s, SKOS.prefLabel, None))"
   ]
  },
  {
   "cell_type": "code",
   "execution_count": 36,
   "id": "0a0b7377",
   "metadata": {},
   "outputs": [
    {
     "name": "stderr",
     "output_type": "stream",
     "text": [
      "/u/98/peurat1/unix/kirjasampo/benv/lib/python3.8/site-packages/rdflib/plugins/serializers/nt.py:36: UserWarning: NTSerializer always uses UTF-8 encoding. Given encoding was: None\n",
      "  warnings.warn(\n"
     ]
    },
    {
     "data": {
      "text/plain": [
       "<Graph identifier=N476beea9994d4ceebe49e22e54265029 (<class 'rdflib.graph.Graph'>)>"
      ]
     },
     "execution_count": 36,
     "metadata": {},
     "output_type": "execute_result"
    }
   ],
   "source": [
    "#save\n",
    "\n",
    "#g2.serialize(destination=\"../../data/translated_theme_genre_new.nt\",format=\"nt\")\n"
   ]
  },
  {
   "cell_type": "markdown",
   "id": "3e24e94d",
   "metadata": {},
   "source": [
    "# Finnish graph"
   ]
  },
  {
   "cell_type": "code",
   "execution_count": 30,
   "id": "3aa04c46",
   "metadata": {
    "scrolled": true
   },
   "outputs": [
    {
     "name": "stdout",
     "output_type": "stream",
     "text": [
      "\n",
      "\n",
      "*** constructing the graph\n"
     ]
    }
   ],
   "source": [
    "# Query\n",
    "Q = \"\"\"\n",
    "PREFIX rel: <http://ldf.fi/relse/>\n",
    "\n",
    "CONSTRUCT {\n",
    "\n",
    "\n",
    "?teos a rel:novel ;\n",
    "    skos:prefLabel ?title ;\n",
    "    #rel:langOrig ?kieliuri ;\n",
    "    rel:hasAuthor ?author ;\n",
    "    rel:pubYear ?vuosi_ ;\n",
    "    rel:hasGenre ?genre ;\n",
    "    rel:hasTheme ?theme.\n",
    "\n",
    "?author a rel:author ;\n",
    "    foaf:gender ?gender.\n",
    "\n",
    "#?kieliuri a rel:lang ;\n",
    "#    skos:prefLabel ?kieli .\n",
    "\n",
    "    \n",
    "?theme a rel:theme .\n",
    "    #rel:inNovel ?teos ;\n",
    "   # skos:prefLabel ?themelabel.\n",
    "\n",
    "?genre a rel:genre .\n",
    "    #rel:inNovel ?teos ;\n",
    "    #skos:prefLabel ?genrelabel .\n",
    "\n",
    "}\n",
    "\n",
    "WHERE {\n",
    "\n",
    "  ?teos a kaunokki:romaani ; skos:prefLabel ?title .\n",
    "  ?teos kaunokki:alkukieli  <http://lexvo.org/id/iso639-3/fin>  . # alkukieli suomi\n",
    "  #OPTIONAL {?kieliuri skos:prefLabel ?kieli . }\n",
    "  ?teos kaunokki:manifests_in ?julkaisu .\n",
    "  ?julkaisu kaunokki:kieli <http://lexvo.org/id/iso639-3/fin> . # suomenkielinen julkaisu\n",
    "  ?julkaisu kaunokki:ilmestymisvuosi ?vuosi . ?vuosi skos:prefLabel ?vuosiluku .\n",
    "  ?julkaisu kaunokki:onEnsimmainenVersio ?true .\n",
    "  BIND(xsd:integer(?vuosiluku) AS ?vuosi_)\n",
    "  FILTER(?vuosi_ > 1970)\n",
    "  ?teos kaunokki:tekija ?author.\n",
    "  ?author skos:prefLabel ?authorname .\n",
    "OPTIONAL {?author kaunokki:kansallisuus ?kansallisuusuri . OPTIONAL { ?kansallisuusuri skos:prefLabel ?kansallisuus .} }\n",
    "OPTIONAL  {?author foaf:gender ?gender }\n",
    "\n",
    "\n",
    " OPTIONAL {?teos kaunokki:genre ?genre  } #?genre skos:prefLabel ?genrelabel . FILTER(LANG(?genrelabel)=\"fi\") }\n",
    " OPTIONAL {?teos kaunokki:teema ?theme  } #?theme skos:prefLabel ?themelabel . FILTER(LANG(?themelabel)=\"fi\")}\n",
    "\n",
    "\n",
    "} \n",
    "\"\"\"\n",
    "\n",
    "\n",
    "# construct graph\n",
    "\n",
    "# query graph\n",
    "print('\\n\\n*** constructing the graph')\n",
    "sparql = SPARQLWrapper(\"http://ldf.fi/booksampo-2022/sparql\")\n",
    "\n",
    "sparql.setQuery(PREFIXES + Q)\n",
    "\n",
    "sparql.addCustomHttpHeader(*list(AUTHORIZATION_HEADER.items())[0])\n",
    "\n",
    "sparql.setReturnFormat(TURTLE)\n",
    "results = sparql.query().convert()"
   ]
  },
  {
   "cell_type": "code",
   "execution_count": 31,
   "id": "09114a95",
   "metadata": {},
   "outputs": [
    {
     "data": {
      "text/plain": [
       "<Graph identifier=Ndb5480985be74649a5a7497cf43f5d9c (<class 'rdflib.graph.Graph'>)>"
      ]
     },
     "execution_count": 31,
     "metadata": {},
     "output_type": "execute_result"
    }
   ],
   "source": [
    "f = Graph()\n",
    "#g.parse(data=results, format=\"turtle\") # \"mygraph.ttl\"\n",
    "f.parse(data=results, format=\"turtle\")"
   ]
  },
  {
   "cell_type": "code",
   "execution_count": 32,
   "id": "77fddcd9",
   "metadata": {},
   "outputs": [
    {
     "data": {
      "text/html": [
       "<div>\n",
       "<style scoped>\n",
       "    .dataframe tbody tr th:only-of-type {\n",
       "        vertical-align: middle;\n",
       "    }\n",
       "\n",
       "    .dataframe tbody tr th {\n",
       "        vertical-align: top;\n",
       "    }\n",
       "\n",
       "    .dataframe thead th {\n",
       "        text-align: right;\n",
       "    }\n",
       "</style>\n",
       "<table border=\"1\" class=\"dataframe\">\n",
       "  <thead>\n",
       "    <tr style=\"text-align: right;\">\n",
       "      <th></th>\n",
       "      <th>authors</th>\n",
       "      <th>novels</th>\n",
       "      <th>decade</th>\n",
       "    </tr>\n",
       "  </thead>\n",
       "  <tbody>\n",
       "    <tr>\n",
       "      <th>0</th>\n",
       "      <td>645</td>\n",
       "      <td>1315</td>\n",
       "      <td>1970</td>\n",
       "    </tr>\n",
       "    <tr>\n",
       "      <th>0</th>\n",
       "      <td>813</td>\n",
       "      <td>1891</td>\n",
       "      <td>1980</td>\n",
       "    </tr>\n",
       "    <tr>\n",
       "      <th>0</th>\n",
       "      <td>974</td>\n",
       "      <td>2281</td>\n",
       "      <td>1990</td>\n",
       "    </tr>\n",
       "    <tr>\n",
       "      <th>0</th>\n",
       "      <td>1569</td>\n",
       "      <td>3609</td>\n",
       "      <td>2000</td>\n",
       "    </tr>\n",
       "    <tr>\n",
       "      <th>0</th>\n",
       "      <td>2926</td>\n",
       "      <td>6409</td>\n",
       "      <td>2010</td>\n",
       "    </tr>\n",
       "  </tbody>\n",
       "</table>\n",
       "</div>"
      ],
      "text/plain": [
       "  authors novels  decade\n",
       "0     645   1315    1970\n",
       "0     813   1891    1980\n",
       "0     974   2281    1990\n",
       "0    1569   3609    2000\n",
       "0    2926   6409    2010"
      ]
     },
     "execution_count": 32,
     "metadata": {},
     "output_type": "execute_result"
    }
   ],
   "source": [
    "Q_fi =\"\"\"\n",
    "\n",
    "SELECT  (COUNT(DISTINCT ?teosfi) AS ?novels) (COUNT(DISTINCT ?author) AS ?authors) #?vuosi #(MIN(?vuosi) AS ?julkaisuvuosi)  \n",
    "{\n",
    "?teosfi a rel:novel .\n",
    "  #?teosfi rel:langOrig <http://lexvo.org/id/iso639-3/fin> .\n",
    "    ?teosfi rel:hasAuthor ?author .\n",
    "  ?teosfi rel:pubYear ?vuosi . #?vuosir skos:prefLabel ?vuosiluku .\n",
    "  #BIND(xsd:integer(?vuosiluku) AS ?vuosi)\n",
    "  BIND(regex(str(?vuosi), \"199\" ) AS ?decade)\n",
    "  FILTER(?decade = xsd:boolean(\"true\"))\n",
    "  \n",
    "  } #GROUP BY ?vuosi\n",
    "  \n",
    "\"\"\"\n",
    "\n",
    "decades=[197,198,199,200,201]\n",
    "df_authorsfi=pd.DataFrame()\n",
    "for d in decades:\n",
    "    q=Q_fi.replace(\"199\", str(d))\n",
    "    qres = f.query(q)\n",
    "    \n",
    "    for row in qres:\n",
    "        n = str(row.asdict()['novels'].toPython())   \n",
    "        #natname = str(row.asdict()['label'].toPython())   \n",
    "        a = str(row.asdict()['authors'].toPython()) \n",
    "        temp=pd.DataFrame({\"authors\":a, \"novels\":n}.values() ).T.rename({0:\"authors\",1:\"novels\"},axis=1)\n",
    "        temp[\"decade\"] = d*10\n",
    "    df_authorsfi=pd.concat([df_authorsfi,temp])\n",
    "df_authorsfi"
   ]
  },
  {
   "cell_type": "code",
   "execution_count": 33,
   "id": "09f1467e",
   "metadata": {},
   "outputs": [
    {
     "data": {
      "text/html": [
       "<div>\n",
       "<style scoped>\n",
       "    .dataframe tbody tr th:only-of-type {\n",
       "        vertical-align: middle;\n",
       "    }\n",
       "\n",
       "    .dataframe tbody tr th {\n",
       "        vertical-align: top;\n",
       "    }\n",
       "\n",
       "    .dataframe thead th {\n",
       "        text-align: right;\n",
       "    }\n",
       "</style>\n",
       "<table border=\"1\" class=\"dataframe\">\n",
       "  <thead>\n",
       "    <tr style=\"text-align: right;\">\n",
       "      <th></th>\n",
       "      <th>authors</th>\n",
       "      <th>novels</th>\n",
       "      <th>decade</th>\n",
       "    </tr>\n",
       "  </thead>\n",
       "  <tbody>\n",
       "    <tr>\n",
       "      <th>0</th>\n",
       "      <td>645</td>\n",
       "      <td>1315</td>\n",
       "      <td>1970</td>\n",
       "    </tr>\n",
       "    <tr>\n",
       "      <th>0</th>\n",
       "      <td>813</td>\n",
       "      <td>1891</td>\n",
       "      <td>1980</td>\n",
       "    </tr>\n",
       "    <tr>\n",
       "      <th>0</th>\n",
       "      <td>974</td>\n",
       "      <td>2281</td>\n",
       "      <td>1990</td>\n",
       "    </tr>\n",
       "    <tr>\n",
       "      <th>0</th>\n",
       "      <td>1569</td>\n",
       "      <td>3609</td>\n",
       "      <td>2000</td>\n",
       "    </tr>\n",
       "    <tr>\n",
       "      <th>0</th>\n",
       "      <td>2926</td>\n",
       "      <td>6409</td>\n",
       "      <td>2010</td>\n",
       "    </tr>\n",
       "  </tbody>\n",
       "</table>\n",
       "</div>"
      ],
      "text/plain": [
       "  authors novels  decade\n",
       "0     645   1315    1970\n",
       "0     813   1891    1980\n",
       "0     974   2281    1990\n",
       "0    1569   3609    2000\n",
       "0    2926   6409    2010"
      ]
     },
     "execution_count": 33,
     "metadata": {},
     "output_type": "execute_result"
    }
   ],
   "source": [
    "df_authorsfi"
   ]
  },
  {
   "cell_type": "code",
   "execution_count": 42,
   "id": "06e5839d",
   "metadata": {
    "scrolled": true
   },
   "outputs": [
    {
     "name": "stderr",
     "output_type": "stream",
     "text": [
      "/u/98/peurat1/unix/kirjasampo/benv/lib/python3.8/site-packages/rdflib/plugins/serializers/nt.py:36: UserWarning: NTSerializer always uses UTF-8 encoding. Given encoding was: utf8\n",
      "  warnings.warn(\n"
     ]
    },
    {
     "data": {
      "text/plain": [
       "<Graph identifier=Nf22e48df1ad9426cbf8ea05b2414f809 (<class 'rdflib.graph.Graph'>)>"
      ]
     },
     "execution_count": 42,
     "metadata": {},
     "output_type": "execute_result"
    }
   ],
   "source": [
    "# save\n",
    "#f.serialize(destination=\"../../data/finnish_genre_theme_new.nt\",format=\"nt\",encoding=\"utf8\")#.decode('utf8')\n"
   ]
  },
  {
   "cell_type": "markdown",
   "id": "75f310a9",
   "metadata": {},
   "source": [
    "## correct things in theme graph"
   ]
  },
  {
   "cell_type": "code",
   "execution_count": 44,
   "id": "4ce163fd",
   "metadata": {},
   "outputs": [
    {
     "data": {
      "text/plain": [
       "<Graph identifier=N5dfcfa9489f14d8fa8cf9daab2c991a1 (<class 'rdflib.graph.Graph'>)>"
      ]
     },
     "execution_count": 44,
     "metadata": {},
     "output_type": "execute_result"
    }
   ],
   "source": [
    "# cluster per genre information\n",
    "# load genre graphs\n",
    "l = Graph() \n",
    "l.parse(\"../../data/finnish_genre_theme.nt\",format=\"nt\")\n",
    "\n",
    "k = Graph() \n",
    "k.parse(\"../../data/translated_genre_theme.nt\",format=\"nt\")"
   ]
  },
  {
   "cell_type": "code",
   "execution_count": 45,
   "id": "24db6a2e",
   "metadata": {},
   "outputs": [],
   "source": [
    "# initial language lookup\n",
    "\n",
    "qres = k.query(\"\"\"\n",
    "#PREFIX kaunokki: <http://www.yso.fi/onto/kaunokki#> \n",
    "PREFIX rel: <http://ldf.fi/relse/> \n",
    "PREFIX dct: <http://purl.org/dc/terms/>\n",
    "PREFIX foaf: <http://xmlns.com/foaf/0.1/>\n",
    "PREFIX owl: <http://www.w3.org/2002/07/owl#>\n",
    "PREFIX rdf: <http://www.w3.org/1999/02/22-rdf-syntax-ns#>\n",
    "PREFIX rdfs: <http://www.w3.org/2000/01/rdf-schema#>\n",
    "PREFIX schema: <http://schema.org/>\n",
    "PREFIX skos: <http://www.w3.org/2004/02/skos/core#>\n",
    "PREFIX xml: <http://www.w3.org/XML/1998/namespace>\n",
    "PREFIX xsd: <http://www.w3.org/2001/XMLSchema#>\n",
    "\n",
    "SELECT DISTINCT ?lang\n",
    "WHERE {\n",
    "  ?teos a rel:novel ; rel:langOrig ?lang. \n",
    "  \n",
    "}  \"\"\")\n",
    "\n",
    "langlabel_lookup = {}\n",
    "\n",
    "for l in qres:\n",
    "    lang=l[\"lang\"].toPython()\n",
    "    #print(lang)\n",
    "    if lang not in langlabel_lookup.keys():\n",
    "        langlabel_lookup[lang]= lang.split(\"/\")[-1]\n",
    "    else:\n",
    "        print(\"oop\",lang)"
   ]
  },
  {
   "cell_type": "code",
   "execution_count": 46,
   "id": "001598ce",
   "metadata": {},
   "outputs": [
    {
     "name": "stdout",
     "output_type": "stream",
     "text": [
      "dict_items([('http://lexvo.org/id/iso639-3/eng', 'eng'), ('http://lexvo.org/id/iso639-3/ita', 'ita'), ('http://lexvo.org/id/iso639-3/deu', 'deu'), ('http://lexvo.org/id/iso639-3/isl', 'isl'), ('http://lexvo.org/id/iso639-3/swe', 'swe'), ('http://lexvo.org/id/iso639-3/rus', 'rus'), ('http://lexvo.org/id/iso639-3/fra', 'fra'), ('http://lexvo.org/id/iso639-3/dan', 'dan'), ('http://lexvo.org/id/iso639-3/spa', 'spa'), ('http://lexvo.org/id/iso639-3/tur', 'tur'), ('http://lexvo.org/id/iso639-3/ces', 'ces'), ('http://lexvo.org/id/iso639-3/por', 'por'), ('http://lexvo.org/id/iso639-3/nor', 'nor'), ('http://lexvo.org/id/iso639-3/hin', 'hin'), ('http://lexvo.org/id/iso639-3/kor', 'kor'), ('http://lexvo.org/id/iso639-3/lav', 'lav'), ('http://lexvo.org/id/iso639-3/est', 'est'), ('http://lexvo.org/id/iso639-3/yid', 'yid'), ('http://lexvo.org/id/iso639-3/hun', 'hun'), ('http://lexvo.org/id/iso639-3/nld', 'nld'), ('http://lexvo.org/id/iso639-3/pol', 'pol'), ('http://lexvo.org/id/iso639-3/kat', 'kat'), ('http://lexvo.org/id/iso639-5/smi', 'smi'), ('http://www.lingvoj.org/lang/be-x-old', 'be-x-old'), ('http://lexvo.org/id/iso639-3/jpn', 'jpn'), ('http://lexvo.org/id/iso639-3/zho', 'zho'), ('http://lexvo.org/id/iso639-3/slk', 'slk'), ('http://lexvo.org/id/iso639-3/kur', 'kur'), ('http://lexvo.org/id/iso639-3/ben', 'ben'), ('http://lexvo.org/id/iso639-3/bul', 'bul'), ('http://lexvo.org/id/iso639-3/ara', 'ara'), ('http://lexvo.org/id/iso639-3/afr', 'afr'), ('http://lexvo.org/id/iso639-3/sqi', 'sqi'), ('http://lexvo.org/id/iso639-3/heb', 'heb'), ('http://lexvo.org/id/iso639-3/slv', 'slv'), ('http://lexvo.org/id/iso639-3/som', 'som'), ('http://lexvo.org/id/iso639-3/grc', 'grc'), ('http://lexvo.org/id/iso639-3/sme', 'sme'), ('http://lexvo.org/id/iso639-3/hye', 'hye'), ('http://lexvo.org/id/iso639-3/ron', 'ron'), ('http://lexvo.org/id/iso639-3/glg', 'glg'), ('http://lexvo.org/id/iso639-3/lit', 'lit'), ('http://lexvo.org/id/iso639-3/ell', 'ell'), ('http://www.lingvoj.org/lang/bnt', 'bnt'), ('http://lexvo.org/id/iso639-3/vie', 'vie'), ('http://www.lingvoj.org/lang/smi', 'smi'), ('http://lexvo.org/id/iso639-3/ind', 'ind'), ('http://lexvo.org/id/iso639-3/vec', 'vec'), ('http://lexvo.org/id/iso639-3/kik', 'kik'), ('http://lexvo.org/id/iso639-3/hbs', 'hbs'), ('http://lexvo.org/id/iso639-3/fas', 'fas'), ('http://www.lingvoj.org/lang/en-gb', 'en-gb'), ('http://lexvo.org/id/iso639-3/ukr', 'ukr'), ('http://lexvo.org/id/iso639-3/cat', 'cat'), ('http://lexvo.org/id/iso639-3/eus', 'eus'), ('http://lexvo.org/id/iso639-3/mkd', 'mkd'), ('http://lexvo.org/id/iso639-3/srp', 'srp'), ('http://lexvo.org/id/iso639-3/fit', 'fit'), ('http://lexvo.org/id/iso639-3/chm', 'chm'), ('http://lexvo.org/id/iso639-3/hrv', 'hrv'), ('http://lexvo.org/id/iso639-3/mul', 'mul'), ('http://www.lingvoj.org/lang/fiu', 'fiu'), ('http://lexvo.org/id/iso639-3/krl', 'krl'), ('http://lexvo.org/id/iso639-3/lat', 'lat'), ('http://lexvo.org/id/iso639-3/bos', 'bos')])\n"
     ]
    }
   ],
   "source": [
    "#\n",
    "print(langlabel_lookup.items())"
   ]
  },
  {
   "cell_type": "code",
   "execution_count": 49,
   "id": "3fa30591",
   "metadata": {},
   "outputs": [
    {
     "name": "stdout",
     "output_type": "stream",
     "text": [
      "http://www.lingvoj.org/lang/be-x-old be-x-old\n",
      "http://www.lingvoj.org/lang/bnt bnt\n",
      "http://www.lingvoj.org/lang/smi smi\n",
      "http://www.lingvoj.org/lang/en-gb en-gb\n",
      "http://www.lingvoj.org/lang/fiu fiu\n"
     ]
    }
   ],
   "source": [
    "oldlang=[]\n",
    "for key,v in langlabel_lookup.items():\n",
    "    if \"lexvo\" not in key:\n",
    "        print(key,v)\n",
    "        oldlang.append(key)"
   ]
  },
  {
   "cell_type": "code",
   "execution_count": 50,
   "id": "d120e54b",
   "metadata": {},
   "outputs": [
    {
     "name": "stdout",
     "output_type": "stream",
     "text": [
      "http://lexvo.org/id/iso639-3/vec vec\n"
     ]
    }
   ],
   "source": [
    "for key,v in langlabel_lookup.items():\n",
    "    if \"vec\" in key:\n",
    "        print(key,v)"
   ]
  },
  {
   "cell_type": "code",
   "execution_count": 51,
   "id": "e4529040",
   "metadata": {},
   "outputs": [],
   "source": [
    "# correct list\n",
    "# smi http://www.lexvo.org/page/iso639-5/smi\n",
    "# en-gb http://lexvo.org/id/iso639-3/eng\n",
    "# bnt http://www.lexvo.org/page/iso639-5/bnt\n",
    "# fiu http://www.lexvo.org/page/iso639-5/fiu\n",
    "# be-x-old http://www.lexvo.org/page/iso639-3/bel\n",
    "# 'http://lexvo.org/id/iso639-3/vec': 'vec',\n",
    "\n",
    "#newlang=[\"http://www.lexvo.org/page/iso639-5/smi\",\"http://lexvo.org/id/iso639-3/eng\",\"http://www.lexvo.org/page/iso639-5/bnt\",\n",
    "#        \"http://www.lexvo.org/page/iso639-5/fiu\",\"http://www.lexvo.org/page/iso639-3/bel\"]\n",
    "#updated= [\"http://lexvo.org/page/iso639-5/smi\",\"http://lexvo.org/id/iso639-3/eng\",\"http://lexvo.org/page/iso639-5/bnt\",\n",
    "#        \"http://lexvo.org/page/iso639-5/fiu\",\"http://lexvo.org/page/iso639-3/bel\"]\n",
    "updated= [\"http://lexvo.org/page/iso639-5/smi\",\"http://lexvo.org/id/iso639-3/eng\",\"http://lexvo.org/page/iso639-5/bnt\",\n",
    "        \"http://lexvo.org/page/iso639-5/fiu\"]\n",
    "newlang={\"http://www.lingvoj.org/lang/be-x-old\":\"http://lexvo.org/page/iso639-3/bel\",\"http://www.lingvoj.org/lang/bnt\":\"http://lexvo.org/page/iso639-5/bnt\",\"http://www.lingvoj.org/lang/smi\":\"http://lexvo.org/id/iso639-5/smi\",\"http://www.lingvoj.org/lang/fiu\":\"http://www.lexvo.org/page/iso639-5/fiu\",\"http://www.lingvoj.org/lang/en-gb\":\"http://lexvo.org/id/iso639-3/eng\",\"http://lexvo.org/id/iso639-3/vec\":'http://lexvo.org/id/iso639-3/rus'}"
   ]
  },
  {
   "cell_type": "code",
   "execution_count": 52,
   "id": "e7f128e6",
   "metadata": {},
   "outputs": [
    {
     "name": "stdout",
     "output_type": "stream",
     "text": [
      "http://www.lingvoj.org/lang/be-x-old http://lexvo.org/page/iso639-3/bel\n",
      "http://www.lingvoj.org/lang/be-x-old http://lexvo.org/id/iso639-3/bel\n",
      "http://www.lingvoj.org/lang/bnt http://lexvo.org/page/iso639-5/bnt\n",
      "http://www.lingvoj.org/lang/bnt http://lexvo.org/id/iso639-5/bnt\n",
      "http://www.lingvoj.org/lang/smi http://lexvo.org/id/iso639-5/smi\n",
      "http://www.lingvoj.org/lang/smi http://lexvo.org/id/iso639-5/smi\n",
      "http://www.lingvoj.org/lang/fiu http://www.lexvo.org/page/iso639-5/fiu\n",
      "http://www.lingvoj.org/lang/fiu http://www.lexvo.org/id/iso639-5/fiu\n",
      "http://www.lingvoj.org/lang/en-gb http://lexvo.org/id/iso639-3/eng\n",
      "http://www.lingvoj.org/lang/en-gb http://lexvo.org/id/iso639-3/eng\n",
      "http://lexvo.org/id/iso639-3/vec http://lexvo.org/id/iso639-3/rus\n",
      "http://lexvo.org/id/iso639-3/vec http://lexvo.org/id/iso639-3/rus\n"
     ]
    }
   ],
   "source": [
    "for key,val in newlang.items():\n",
    "    \n",
    "    print(key,val)\n",
    "    old= key\n",
    "    new=val.replace(\"page\",\"id\")\n",
    "    print(old,new)\n",
    "    query=\"\"\"\n",
    "    PREFIX rel: <http://ldf.fi/relse/>\n",
    "             DELETE {?teos rel:langOrig <OLD> }\n",
    "             INSERT { ?teos rel:langOrig  <NEW> }\n",
    "             WHERE { ?teos rel:langOrig <OLD> }\n",
    "             \"\"\"\n",
    "    q=query.replace(\"OLD\",old).replace(\"NEW\",new)\n",
    "    k.update(q)\n",
    "    #print(\"After second update:\")\n",
    "    "
   ]
  },
  {
   "cell_type": "code",
   "execution_count": 53,
   "id": "f13c38ce",
   "metadata": {},
   "outputs": [
    {
     "name": "stderr",
     "output_type": "stream",
     "text": [
      "/u/98/peurat1/unix/kirjasampo/benv/lib/python3.8/site-packages/rdflib/plugins/serializers/nt.py:36: UserWarning: NTSerializer always uses UTF-8 encoding. Given encoding was: None\n",
      "  warnings.warn(\n"
     ]
    },
    {
     "data": {
      "text/plain": [
       "<Graph identifier=N5dfcfa9489f14d8fa8cf9daab2c991a1 (<class 'rdflib.graph.Graph'>)>"
      ]
     },
     "execution_count": 53,
     "metadata": {},
     "output_type": "execute_result"
    }
   ],
   "source": [
    "# save\n",
    "#k.serialize(destination=\"../../data/foreign_theme_genre.nt\",format=\"nt\")\n"
   ]
  }
 ],
 "metadata": {
  "kernelspec": {
   "display_name": "book-venv",
   "language": "python",
   "name": "book-venv"
  },
  "language_info": {
   "codemirror_mode": {
    "name": "ipython",
    "version": 3
   },
   "file_extension": ".py",
   "mimetype": "text/x-python",
   "name": "python",
   "nbconvert_exporter": "python",
   "pygments_lexer": "ipython3",
   "version": "3.8.10"
  }
 },
 "nbformat": 4,
 "nbformat_minor": 5
}
