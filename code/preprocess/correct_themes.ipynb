{
 "cells": [
  {
   "cell_type": "markdown",
   "id": "75f310a9",
   "metadata": {},
   "source": [
    "## correct things in theme graph"
   ]
  },
  {
   "cell_type": "markdown",
   "id": "07017481",
   "metadata": {},
   "source": [
    "Correct things found in the theme/genre graph\n"
   ]
  },
  {
   "cell_type": "code",
   "execution_count": 1,
   "id": "6d76d615",
   "metadata": {},
   "outputs": [],
   "source": [
    "# import packages\n",
    "\n",
    "from collections import defaultdict, OrderedDict, Counter\n",
    "from datetime import datetime\n",
    "\n",
    "from dateutil.relativedelta import relativedelta\n",
    "import glob\n",
    "from itertools import product, combinations\n",
    "import matplotlib.pyplot as plt\n",
    "import numpy    as np\n",
    "#import networkx as nx\n",
    "from operator import itemgetter\n",
    "import pandas   as pd\n",
    "import rdflib as rdflib\n",
    "import re\n",
    "from scipy.signal import convolve2d\n",
    "import seaborn as sns\n",
    "from sklearn.preprocessing import MultiLabelBinarizer, minmax_scale\n",
    "from SPARQLWrapper import SPARQLWrapper, JSON, POST, TURTLE\n",
    "import sys\n",
    "from rdflib.namespace import XSD, Namespace\n",
    "from rdflib.term import URIRef\n",
    "\n",
    "import IPython\n",
    "import pprint\n",
    "pp = pprint.PrettyPrinter(indent=4)\n",
    "\n",
    "\n",
    "\n",
    "from constants import *\n",
    "from helpers import *"
   ]
  },
  {
   "cell_type": "code",
   "execution_count": 2,
   "id": "831f71bd",
   "metadata": {},
   "outputs": [],
   "source": [
    "# \n",
    "from rdflib import Graph\n",
    "\n",
    "from rdflib.namespace import RDF, SKOS\n",
    "rel = rdflib.Namespace('http://ldf.fi/relse/')\n"
   ]
  },
  {
   "cell_type": "code",
   "execution_count": 3,
   "id": "4d246a65",
   "metadata": {},
   "outputs": [],
   "source": [
    "# colors\n",
    "import matplotlib.colors as mcolors\n",
    "from matplotlib import cm\n",
    "# set style\n",
    "import seaborn as sns\n",
    "\n",
    "# set theme for visualizations\n",
    "sns.set_theme(style=\"white\",palette=\"PuOr_r\")"
   ]
  },
  {
   "cell_type": "code",
   "execution_count": 44,
   "id": "4ce163fd",
   "metadata": {},
   "outputs": [
    {
     "data": {
      "text/plain": [
       "<Graph identifier=N5dfcfa9489f14d8fa8cf9daab2c991a1 (<class 'rdflib.graph.Graph'>)>"
      ]
     },
     "execution_count": 44,
     "metadata": {},
     "output_type": "execute_result"
    }
   ],
   "source": [
    "# cluster per genre information\n",
    "# load genre graphs\n",
    "l = Graph() \n",
    "l.parse(\"../../data/finnish_genre_theme.nt\",format=\"nt\")\n",
    "\n",
    "k = Graph() \n",
    "k.parse(\"../../data/translated_genre_theme.nt\",format=\"nt\")"
   ]
  },
  {
   "cell_type": "code",
   "execution_count": 45,
   "id": "24db6a2e",
   "metadata": {},
   "outputs": [],
   "source": [
    "# initial language lookup\n",
    "\n",
    "qres = k.query(\"\"\"\n",
    "#PREFIX kaunokki: <http://www.yso.fi/onto/kaunokki#> \n",
    "PREFIX rel: <http://ldf.fi/relse/> \n",
    "PREFIX dct: <http://purl.org/dc/terms/>\n",
    "PREFIX foaf: <http://xmlns.com/foaf/0.1/>\n",
    "PREFIX owl: <http://www.w3.org/2002/07/owl#>\n",
    "PREFIX rdf: <http://www.w3.org/1999/02/22-rdf-syntax-ns#>\n",
    "PREFIX rdfs: <http://www.w3.org/2000/01/rdf-schema#>\n",
    "PREFIX schema: <http://schema.org/>\n",
    "PREFIX skos: <http://www.w3.org/2004/02/skos/core#>\n",
    "PREFIX xml: <http://www.w3.org/XML/1998/namespace>\n",
    "PREFIX xsd: <http://www.w3.org/2001/XMLSchema#>\n",
    "\n",
    "SELECT DISTINCT ?lang\n",
    "WHERE {\n",
    "  ?teos a rel:novel ; rel:langOrig ?lang. \n",
    "  \n",
    "}  \"\"\")\n",
    "\n",
    "langlabel_lookup = {}\n",
    "\n",
    "for l in qres:\n",
    "    lang=l[\"lang\"].toPython()\n",
    "    #print(lang)\n",
    "    if lang not in langlabel_lookup.keys():\n",
    "        langlabel_lookup[lang]= lang.split(\"/\")[-1]\n",
    "    else:\n",
    "        print(\"oop\",lang)"
   ]
  },
  {
   "cell_type": "code",
   "execution_count": 46,
   "id": "001598ce",
   "metadata": {},
   "outputs": [
    {
     "name": "stdout",
     "output_type": "stream",
     "text": [
      "dict_items([('http://lexvo.org/id/iso639-3/eng', 'eng'), ('http://lexvo.org/id/iso639-3/ita', 'ita'), ('http://lexvo.org/id/iso639-3/deu', 'deu'), ('http://lexvo.org/id/iso639-3/isl', 'isl'), ('http://lexvo.org/id/iso639-3/swe', 'swe'), ('http://lexvo.org/id/iso639-3/rus', 'rus'), ('http://lexvo.org/id/iso639-3/fra', 'fra'), ('http://lexvo.org/id/iso639-3/dan', 'dan'), ('http://lexvo.org/id/iso639-3/spa', 'spa'), ('http://lexvo.org/id/iso639-3/tur', 'tur'), ('http://lexvo.org/id/iso639-3/ces', 'ces'), ('http://lexvo.org/id/iso639-3/por', 'por'), ('http://lexvo.org/id/iso639-3/nor', 'nor'), ('http://lexvo.org/id/iso639-3/hin', 'hin'), ('http://lexvo.org/id/iso639-3/kor', 'kor'), ('http://lexvo.org/id/iso639-3/lav', 'lav'), ('http://lexvo.org/id/iso639-3/est', 'est'), ('http://lexvo.org/id/iso639-3/yid', 'yid'), ('http://lexvo.org/id/iso639-3/hun', 'hun'), ('http://lexvo.org/id/iso639-3/nld', 'nld'), ('http://lexvo.org/id/iso639-3/pol', 'pol'), ('http://lexvo.org/id/iso639-3/kat', 'kat'), ('http://lexvo.org/id/iso639-5/smi', 'smi'), ('http://www.lingvoj.org/lang/be-x-old', 'be-x-old'), ('http://lexvo.org/id/iso639-3/jpn', 'jpn'), ('http://lexvo.org/id/iso639-3/zho', 'zho'), ('http://lexvo.org/id/iso639-3/slk', 'slk'), ('http://lexvo.org/id/iso639-3/kur', 'kur'), ('http://lexvo.org/id/iso639-3/ben', 'ben'), ('http://lexvo.org/id/iso639-3/bul', 'bul'), ('http://lexvo.org/id/iso639-3/ara', 'ara'), ('http://lexvo.org/id/iso639-3/afr', 'afr'), ('http://lexvo.org/id/iso639-3/sqi', 'sqi'), ('http://lexvo.org/id/iso639-3/heb', 'heb'), ('http://lexvo.org/id/iso639-3/slv', 'slv'), ('http://lexvo.org/id/iso639-3/som', 'som'), ('http://lexvo.org/id/iso639-3/grc', 'grc'), ('http://lexvo.org/id/iso639-3/sme', 'sme'), ('http://lexvo.org/id/iso639-3/hye', 'hye'), ('http://lexvo.org/id/iso639-3/ron', 'ron'), ('http://lexvo.org/id/iso639-3/glg', 'glg'), ('http://lexvo.org/id/iso639-3/lit', 'lit'), ('http://lexvo.org/id/iso639-3/ell', 'ell'), ('http://www.lingvoj.org/lang/bnt', 'bnt'), ('http://lexvo.org/id/iso639-3/vie', 'vie'), ('http://www.lingvoj.org/lang/smi', 'smi'), ('http://lexvo.org/id/iso639-3/ind', 'ind'), ('http://lexvo.org/id/iso639-3/vec', 'vec'), ('http://lexvo.org/id/iso639-3/kik', 'kik'), ('http://lexvo.org/id/iso639-3/hbs', 'hbs'), ('http://lexvo.org/id/iso639-3/fas', 'fas'), ('http://www.lingvoj.org/lang/en-gb', 'en-gb'), ('http://lexvo.org/id/iso639-3/ukr', 'ukr'), ('http://lexvo.org/id/iso639-3/cat', 'cat'), ('http://lexvo.org/id/iso639-3/eus', 'eus'), ('http://lexvo.org/id/iso639-3/mkd', 'mkd'), ('http://lexvo.org/id/iso639-3/srp', 'srp'), ('http://lexvo.org/id/iso639-3/fit', 'fit'), ('http://lexvo.org/id/iso639-3/chm', 'chm'), ('http://lexvo.org/id/iso639-3/hrv', 'hrv'), ('http://lexvo.org/id/iso639-3/mul', 'mul'), ('http://www.lingvoj.org/lang/fiu', 'fiu'), ('http://lexvo.org/id/iso639-3/krl', 'krl'), ('http://lexvo.org/id/iso639-3/lat', 'lat'), ('http://lexvo.org/id/iso639-3/bos', 'bos')])\n"
     ]
    }
   ],
   "source": [
    "# print out tha language labels\n",
    "print(langlabel_lookup.items())"
   ]
  },
  {
   "cell_type": "code",
   "execution_count": 49,
   "id": "3fa30591",
   "metadata": {},
   "outputs": [
    {
     "name": "stdout",
     "output_type": "stream",
     "text": [
      "http://www.lingvoj.org/lang/be-x-old be-x-old\n",
      "http://www.lingvoj.org/lang/bnt bnt\n",
      "http://www.lingvoj.org/lang/smi smi\n",
      "http://www.lingvoj.org/lang/en-gb en-gb\n",
      "http://www.lingvoj.org/lang/fiu fiu\n"
     ]
    }
   ],
   "source": [
    "oldlang=[]\n",
    "for key,v in langlabel_lookup.items():\n",
    "    if \"lexvo\" not in key:\n",
    "        print(key,v)\n",
    "        oldlang.append(key)"
   ]
  },
  {
   "cell_type": "code",
   "execution_count": 50,
   "id": "d120e54b",
   "metadata": {},
   "outputs": [
    {
     "name": "stdout",
     "output_type": "stream",
     "text": [
      "http://lexvo.org/id/iso639-3/vec vec\n"
     ]
    }
   ],
   "source": [
    "for key,v in langlabel_lookup.items():\n",
    "    if \"vec\" in key:\n",
    "        print(key,v)"
   ]
  },
  {
   "cell_type": "code",
   "execution_count": 51,
   "id": "e4529040",
   "metadata": {},
   "outputs": [],
   "source": [
    "# correct list\n",
    "# smi http://www.lexvo.org/page/iso639-5/smi\n",
    "# en-gb http://lexvo.org/id/iso639-3/eng\n",
    "# bnt http://www.lexvo.org/page/iso639-5/bnt\n",
    "# fiu http://www.lexvo.org/page/iso639-5/fiu\n",
    "# be-x-old http://www.lexvo.org/page/iso639-3/bel\n",
    "# 'http://lexvo.org/id/iso639-3/vec': 'vec',\n",
    "\n",
    "#newlang=[\"http://www.lexvo.org/page/iso639-5/smi\",\"http://lexvo.org/id/iso639-3/eng\",\"http://www.lexvo.org/page/iso639-5/bnt\",\n",
    "#        \"http://www.lexvo.org/page/iso639-5/fiu\",\"http://www.lexvo.org/page/iso639-3/bel\"]\n",
    "#updated= [\"http://lexvo.org/page/iso639-5/smi\",\"http://lexvo.org/id/iso639-3/eng\",\"http://lexvo.org/page/iso639-5/bnt\",\n",
    "#        \"http://lexvo.org/page/iso639-5/fiu\",\"http://lexvo.org/page/iso639-3/bel\"]\n",
    "updated= [\"http://lexvo.org/page/iso639-5/smi\",\"http://lexvo.org/id/iso639-3/eng\",\"http://lexvo.org/page/iso639-5/bnt\",\n",
    "        \"http://lexvo.org/page/iso639-5/fiu\"]\n",
    "newlang={\"http://www.lingvoj.org/lang/be-x-old\":\"http://lexvo.org/page/iso639-3/bel\",\"http://www.lingvoj.org/lang/bnt\":\"http://lexvo.org/page/iso639-5/bnt\",\"http://www.lingvoj.org/lang/smi\":\"http://lexvo.org/id/iso639-5/smi\",\"http://www.lingvoj.org/lang/fiu\":\"http://www.lexvo.org/page/iso639-5/fiu\",\"http://www.lingvoj.org/lang/en-gb\":\"http://lexvo.org/id/iso639-3/eng\",\"http://lexvo.org/id/iso639-3/vec\":'http://lexvo.org/id/iso639-3/rus'}"
   ]
  },
  {
   "cell_type": "code",
   "execution_count": 52,
   "id": "e7f128e6",
   "metadata": {},
   "outputs": [
    {
     "name": "stdout",
     "output_type": "stream",
     "text": [
      "http://www.lingvoj.org/lang/be-x-old http://lexvo.org/page/iso639-3/bel\n",
      "http://www.lingvoj.org/lang/be-x-old http://lexvo.org/id/iso639-3/bel\n",
      "http://www.lingvoj.org/lang/bnt http://lexvo.org/page/iso639-5/bnt\n",
      "http://www.lingvoj.org/lang/bnt http://lexvo.org/id/iso639-5/bnt\n",
      "http://www.lingvoj.org/lang/smi http://lexvo.org/id/iso639-5/smi\n",
      "http://www.lingvoj.org/lang/smi http://lexvo.org/id/iso639-5/smi\n",
      "http://www.lingvoj.org/lang/fiu http://www.lexvo.org/page/iso639-5/fiu\n",
      "http://www.lingvoj.org/lang/fiu http://www.lexvo.org/id/iso639-5/fiu\n",
      "http://www.lingvoj.org/lang/en-gb http://lexvo.org/id/iso639-3/eng\n",
      "http://www.lingvoj.org/lang/en-gb http://lexvo.org/id/iso639-3/eng\n",
      "http://lexvo.org/id/iso639-3/vec http://lexvo.org/id/iso639-3/rus\n",
      "http://lexvo.org/id/iso639-3/vec http://lexvo.org/id/iso639-3/rus\n"
     ]
    }
   ],
   "source": [
    "for key,val in newlang.items():\n",
    "    \n",
    "    print(key,val)\n",
    "    old= key\n",
    "    new=val.replace(\"page\",\"id\")\n",
    "    print(old,new)\n",
    "    query=\"\"\"\n",
    "    PREFIX rel: <http://ldf.fi/relse/>\n",
    "             DELETE {?teos rel:langOrig <OLD> }\n",
    "             INSERT { ?teos rel:langOrig  <NEW> }\n",
    "             WHERE { ?teos rel:langOrig <OLD> }\n",
    "             \"\"\"\n",
    "    q=query.replace(\"OLD\",old).replace(\"NEW\",new)\n",
    "    k.update(q)\n",
    "    #print(\"After second update:\")\n",
    "    "
   ]
  },
  {
   "cell_type": "code",
   "execution_count": 53,
   "id": "f13c38ce",
   "metadata": {},
   "outputs": [
    {
     "name": "stderr",
     "output_type": "stream",
     "text": [
      "/u/98/peurat1/unix/kirjasampo/benv/lib/python3.8/site-packages/rdflib/plugins/serializers/nt.py:36: UserWarning: NTSerializer always uses UTF-8 encoding. Given encoding was: None\n",
      "  warnings.warn(\n"
     ]
    },
    {
     "data": {
      "text/plain": [
       "<Graph identifier=N5dfcfa9489f14d8fa8cf9daab2c991a1 (<class 'rdflib.graph.Graph'>)>"
      ]
     },
     "execution_count": 53,
     "metadata": {},
     "output_type": "execute_result"
    }
   ],
   "source": [
    "# save\n",
    "k.serialize(destination=\"../../data/foreign_theme_genre.nt\",format=\"nt\")\n"
   ]
  }
 ],
 "metadata": {
  "kernelspec": {
   "display_name": "book-venv",
   "language": "python",
   "name": "book-venv"
  },
  "language_info": {
   "codemirror_mode": {
    "name": "ipython",
    "version": 3
   },
   "file_extension": ".py",
   "mimetype": "text/x-python",
   "name": "python",
   "nbconvert_exporter": "python",
   "pygments_lexer": "ipython3",
   "version": "3.8.10"
  }
 },
 "nbformat": 4,
 "nbformat_minor": 5
}
