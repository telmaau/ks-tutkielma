{
 "cells": [
  {
   "cell_type": "code",
   "execution_count": 32,
   "id": "e9c85599",
   "metadata": {},
   "outputs": [],
   "source": [
    "# suomeksi kirjoittavat, muut kielet\n",
    "\n",
    "# import \n",
    "\n",
    "from collections import defaultdict, OrderedDict, Counter\n",
    "from datetime import datetime\n",
    "\n",
    "from dateutil.relativedelta import relativedelta\n",
    "import glob\n",
    "from itertools import product, combinations\n",
    "import matplotlib.pyplot as plt\n",
    "import numpy    as np\n",
    "#import networkx as nx\n",
    "from operator import itemgetter\n",
    "import pandas   as pd\n",
    "import rdflib as rdflib\n",
    "import re\n",
    "from scipy.signal import convolve2d\n",
    "import seaborn as sns\n",
    "from sklearn.preprocessing import MultiLabelBinarizer, minmax_scale\n",
    "from SPARQLWrapper import SPARQLWrapper, JSON, POST, TURTLE\n",
    "import sys\n",
    "from rdflib.namespace import XSD, Namespace\n",
    "from rdflib.term import URIRef\n",
    "\n",
    "import IPython\n",
    "import pprint\n",
    "pp = pprint.PrettyPrinter(indent=4)\n",
    "\n",
    "\n",
    "\n",
    "from constants import *\n",
    "from helpers import *"
   ]
  },
  {
   "cell_type": "code",
   "execution_count": 33,
   "id": "4d57eac0",
   "metadata": {},
   "outputs": [],
   "source": [
    "\n",
    "from rdflib import Graph\n",
    "\n",
    "from rdflib.namespace import RDF, SKOS\n",
    "rel = rdflib.Namespace('http://ldf.fi/relse/')\n",
    "\n",
    "\n",
    "# colors\n",
    "import matplotlib.colors as mcolors\n",
    "from matplotlib import cm\n",
    "# set style\n",
    "import seaborn as sns\n",
    "\n",
    "#set_theme() \n",
    "sns.set_theme(style=\"white\",palette=\"PuOr_r\")"
   ]
  },
  {
   "cell_type": "code",
   "execution_count": 59,
   "id": "6a9b0eae",
   "metadata": {},
   "outputs": [],
   "source": [
    "# Query\n",
    "Q = \"\"\"\n",
    "PREFIX rel: <http://ldf.fi/relse/>\n",
    "\n",
    "CONSTRUCT {\n",
    "\n",
    "\n",
    "?teos a rel:novel ;\n",
    "    skos:prefLabel ?title ;\n",
    "    rel:langOrig ?kieliuri ;\n",
    "    rel:hasAuthor ?author ;\n",
    "    rel:pubYear ?vuosi_ .\n",
    "\n",
    "\n",
    "?author a rel:author ;\n",
    "\tskos:prefLabel ?authorname ;\n",
    "\tfoaf:gender ?gender ;\n",
    "\trel:authorNationality ?kansallisuusuri .\n",
    "\n",
    "?kieliuri a rel:lang ;\n",
    "\tskos:prefLabel ?kieli .\n",
    "\n",
    "?kansallisuusuri a rel:nationality ;\n",
    "\tskos:prefLabel ?kansallisuus. \n",
    "\n",
    "}\n",
    "\n",
    "WHERE {\n",
    "\n",
    "  ?teos a kaunokki:romaani ; skos:prefLabel ?title .\n",
    "  ?teos kaunokki:alkukieli ?kieliuri .\n",
    "  FILTER (?kieliuri !=  <http://lexvo.org/id/iso639-3/fin>  )\n",
    "  OPTIONAL {?kieliuri skos:prefLabel ?kieli . }\n",
    "  ?teos kaunokki:manifests_in ?julkaisu .\n",
    "  ?julkaisu kaunokki:kieli ?julk_kieli . # mikä vaan kieli\n",
    "  ?julkaisu kaunokki:ilmestymisvuosi ?vuosi . ?vuosi skos:prefLabel ?vuosiluku .\n",
    "  BIND(xsd:integer(?vuosiluku) AS ?vuosi_)\n",
    "  ?teos kaunokki:tekija ?author.\n",
    "  #?author skos:prefLabel ?authorname .\n",
    "?author kaunokki:kansallisuus <http://www.yso.fi/onto/koko/p35259> . # suomal.\n",
    "OPTIONAL  {?author foaf:gender ?gender }\n",
    "\n",
    "\n",
    "} \n",
    "\"\"\"\n",
    "\n",
    "# Query\n",
    "Q2 = \"\"\"\n",
    "PREFIX rel: <http://ldf.fi/relse/>\n",
    "\n",
    "CONSTRUCT {\n",
    "\n",
    "\n",
    "?teos a rel:novel ;\n",
    "    skos:prefLabel ?title ;\n",
    "    rel:langOrig ?kieliuri ;\n",
    "    rel:hasAuthor ?author ;\n",
    "    rel:pubYear ?vuosi_ .\n",
    "\n",
    "\n",
    "?author a rel:author ;\n",
    "\tskos:prefLabel ?authorname ;\n",
    "\tfoaf:gender ?gender ;\n",
    "\trel:authorNationality ?kansallisuusuri .\n",
    "\n",
    "?kieliuri a rel:lang ;\n",
    "\tskos:prefLabel ?kieli .\n",
    "\n",
    "?kansallisuusuri a rel:nationality ;\n",
    "\tskos:prefLabel ?kansallisuus. \n",
    "\n",
    "}\n",
    "\n",
    "WHERE {\n",
    "\n",
    "  ?teos a kaunokki:romaani ; skos:prefLabel ?title .\n",
    "  ?teos kaunokki:alkukieli ?kieliuri .\n",
    "  #FILTER (?kieliuri !=  <http://lexvo.org/id/iso639-3/fin>  ) # ei suomi\n",
    "  #OPTIONAL {?kieliuri skos:prefLabel ?kieli . }\n",
    "  ?teos kaunokki:manifests_in ?julkaisu .\n",
    "  ?julkaisu kaunokki:kieli <http://lexvo.org/id/iso639-3/fin> . # julkaistu suomeksi\n",
    "  ?julkaisu kaunokki:ilmestymisvuosi ?vuosi . ?vuosi skos:prefLabel ?vuosiluku .\n",
    "  BIND(xsd:integer(?vuosiluku) AS ?vuosi_)\n",
    "  ?teos kaunokki:tekija ?author.\n",
    "  #?author skos:prefLabel ?authorname .\n",
    "?author kaunokki:kansallisuus <http://www.yso.fi/onto/koko/p35259> . # suomal.\n",
    "OPTIONAL  {?author foaf:gender ?gender }\n",
    "\n",
    "\n",
    "} \n",
    "\"\"\""
   ]
  },
  {
   "cell_type": "code",
   "execution_count": 60,
   "id": "d69e23e2",
   "metadata": {},
   "outputs": [
    {
     "name": "stdout",
     "output_type": "stream",
     "text": [
      "\n",
      "\n",
      "*** constructing the graph\n"
     ]
    }
   ],
   "source": [
    "print('\\n\\n*** constructing the graph')\n",
    "sparql = SPARQLWrapper(\"http://ldf.fi/booksampo-2022/sparql\")\n",
    "\n",
    "sparql.setQuery(PREFIXES + Q)\n",
    "\n",
    "sparql.addCustomHttpHeader(*list(AUTHORIZATION_HEADER.items())[0])\n",
    "\n",
    "sparql.setReturnFormat(TURTLE)\n",
    "results = sparql.query().convert()"
   ]
  },
  {
   "cell_type": "code",
   "execution_count": 61,
   "id": "3ea9d0ed",
   "metadata": {},
   "outputs": [
    {
     "data": {
      "text/plain": [
       "<Graph identifier=N2aadd622e8b34afab073db0155bfa698 (<class 'rdflib.graph.Graph'>)>"
      ]
     },
     "execution_count": 61,
     "metadata": {},
     "output_type": "execute_result"
    }
   ],
   "source": [
    "f = Graph()\n",
    "#g.parse(data=results, format=\"turtle\") # \"mygraph.ttl\"\n",
    "f.parse(data=results, format=\"turtle\")"
   ]
  },
  {
   "cell_type": "code",
   "execution_count": 62,
   "id": "107db0c0",
   "metadata": {},
   "outputs": [
    {
     "name": "stdout",
     "output_type": "stream",
     "text": [
      "\n",
      "\n",
      "*** constructing the graph\n"
     ]
    }
   ],
   "source": [
    "print('\\n\\n*** constructing the graph')\n",
    "sparql = SPARQLWrapper(\"http://ldf.fi/booksampo-2022/sparql\")\n",
    "\n",
    "sparql.setQuery(PREFIXES + Q2)\n",
    "\n",
    "sparql.addCustomHttpHeader(*list(AUTHORIZATION_HEADER.items())[0])\n",
    "\n",
    "sparql.setReturnFormat(TURTLE)\n",
    "results = sparql.query().convert()"
   ]
  },
  {
   "cell_type": "code",
   "execution_count": 63,
   "id": "51e9a808",
   "metadata": {},
   "outputs": [
    {
     "data": {
      "text/plain": [
       "<Graph identifier=N6e829f47edc146cebcde705fff64e7f1 (<class 'rdflib.graph.Graph'>)>"
      ]
     },
     "execution_count": 63,
     "metadata": {},
     "output_type": "execute_result"
    }
   ],
   "source": [
    "F = Graph()\n",
    "#g.parse(data=results, format=\"turtle\") # \"mygraph.ttl\"\n",
    "F.parse(data=results, format=\"turtle\")"
   ]
  },
  {
   "cell_type": "code",
   "execution_count": 64,
   "id": "333e46bc",
   "metadata": {},
   "outputs": [],
   "source": [
    "# suomen kansalaiset, ei-suomenkiel. teokset\n",
    "\n",
    "Q =\"\"\"\n",
    "PREFIX foaf: <http://xmlns.com/foaf/0.1/> \n",
    "PREFIX kaunokki: <http://www.yso.fi/onto/kaunokki#> \n",
    "PREFIX rel: <http://ldf.fi/relse/> \n",
    "PREFIX skos: <http://www.w3.org/2004/02/skos/core#> \n",
    "PREFIX xsd: <http://www.w3.org/2001/XMLSchema#> \n",
    "\n",
    "SELECT DISTINCT ?teos ?kieli ?year  ?author ?kieli\n",
    "{\n",
    "  ?teos a rel:novel .\n",
    "  \n",
    "  ?teos rel:hasAuthor ?author .\n",
    "  #?author rel:authorNationality <http://www.yso.fi/onto/koko/p35259> .\n",
    "  #?kansallisuusuri skos:prefLabel ?nationality_. FILTER(LANG(?nationality_)=\"fi\")\n",
    "  \n",
    " ?teos rel:langOrig ?kieli .\n",
    "  ?teos rel:pubYear ?year .\n",
    " FILTER(?year > 1970)\n",
    " FILTER(?year < 2021)\n",
    "  \n",
    "} #GROUP BY  ?year ?kieli\n",
    "\n",
    "\"\"\"\n",
    "\n",
    "qres = f.query(Q)\n",
    "resdict=[{\"year\": int(row.asdict()['year'].toPython()),\"teos\":str(row.asdict()['teos'].toPython()), \"author\":str(row.asdict()['author'].toPython()), \"language\": str(row.asdict()['kieli'].toPython())}  for row in qres]\n"
   ]
  },
  {
   "cell_type": "code",
   "execution_count": 65,
   "id": "64978564",
   "metadata": {},
   "outputs": [],
   "source": [
    "# suomen kansalaiset, muunkieliset teokset\n",
    "\n",
    "Q =\"\"\"\n",
    "PREFIX foaf: <http://xmlns.com/foaf/0.1/> \n",
    "PREFIX kaunokki: <http://www.yso.fi/onto/kaunokki#> \n",
    "PREFIX rel: <http://ldf.fi/relse/> \n",
    "PREFIX skos: <http://www.w3.org/2004/02/skos/core#> \n",
    "PREFIX xsd: <http://www.w3.org/2001/XMLSchema#> \n",
    "\n",
    "SELECT DISTINCT ?teos ?kieli ?year  ?author ?kieli\n",
    "{\n",
    "  ?teos a rel:novel .\n",
    "  \n",
    "  ?teos rel:hasAuthor ?author .\n",
    "  #?author rel:authorNationality <http://www.yso.fi/onto/koko/p35259> .\n",
    "  #?kansallisuusuri skos:prefLabel ?nationality_. FILTER(LANG(?nationality_)=\"fi\")\n",
    "  \n",
    " ?teos rel:langOrig ?kieli .\n",
    "  ?teos rel:pubYear ?year .\n",
    " FILTER(?year > 1970)\n",
    " FILTER(?year < 2021)\n",
    "  \n",
    "} #GROUP BY  ?year ?kieli\n",
    "\n",
    "\"\"\"\n",
    "\n",
    "qres = F.query(Q)\n",
    "resdictF=[{\"year\": int(row.asdict()['year'].toPython()),\"teos\":str(row.asdict()['teos'].toPython()), \"author\":str(row.asdict()['author'].toPython()), \"language\": str(row.asdict()['kieli'].toPython())}  for row in qres]\n"
   ]
  },
  {
   "cell_type": "code",
   "execution_count": 66,
   "id": "936dd9e0",
   "metadata": {},
   "outputs": [
    {
     "data": {
      "text/html": [
       "<div>\n",
       "<style scoped>\n",
       "    .dataframe tbody tr th:only-of-type {\n",
       "        vertical-align: middle;\n",
       "    }\n",
       "\n",
       "    .dataframe tbody tr th {\n",
       "        vertical-align: top;\n",
       "    }\n",
       "\n",
       "    .dataframe thead th {\n",
       "        text-align: right;\n",
       "    }\n",
       "</style>\n",
       "<table border=\"1\" class=\"dataframe\">\n",
       "  <thead>\n",
       "    <tr style=\"text-align: right;\">\n",
       "      <th></th>\n",
       "      <th>year</th>\n",
       "      <th>teos</th>\n",
       "      <th>author</th>\n",
       "      <th>language</th>\n",
       "    </tr>\n",
       "  </thead>\n",
       "  <tbody>\n",
       "    <tr>\n",
       "      <th>92</th>\n",
       "      <td>1971</td>\n",
       "      <td>http://seco.tkk.fi/saha3/u35cdd023-8b09-4d54-8...</td>\n",
       "      <td>http://www.yso.fi/onto/kaunokki#person_1231759...</td>\n",
       "      <td>http://lexvo.org/id/iso639-3/swe</td>\n",
       "    </tr>\n",
       "    <tr>\n",
       "      <th>874</th>\n",
       "      <td>1971</td>\n",
       "      <td>http://seco.tkk.fi/saha3/ua03e39a7-b0a7-46b0-8...</td>\n",
       "      <td>http://www.yso.fi/onto/kaunokki#person_1231759...</td>\n",
       "      <td>http://lexvo.org/id/iso639-3/swe</td>\n",
       "    </tr>\n",
       "    <tr>\n",
       "      <th>67</th>\n",
       "      <td>1971</td>\n",
       "      <td>http://www.yso.fi/onto/kaunokki#ateos_3660</td>\n",
       "      <td>http://www.yso.fi/onto/kaunokki#person_1231760...</td>\n",
       "      <td>http://lexvo.org/id/iso639-3/swe</td>\n",
       "    </tr>\n",
       "    <tr>\n",
       "      <th>444</th>\n",
       "      <td>1971</td>\n",
       "      <td>http://seco.tkk.fi/saha3/uce78311d-2324-43e7-9...</td>\n",
       "      <td>http://www.yso.fi/onto/kaunokki#person_1232726...</td>\n",
       "      <td>http://lexvo.org/id/iso639-3/swe</td>\n",
       "    </tr>\n",
       "    <tr>\n",
       "      <th>60</th>\n",
       "      <td>1971</td>\n",
       "      <td>http://seco.tkk.fi/saha3/ua25d6048-3595-4ef4-a...</td>\n",
       "      <td>http://seco.tkk.fi/saha3/u40ef2414-b89e-4656-a...</td>\n",
       "      <td>http://lexvo.org/id/iso639-3/swe</td>\n",
       "    </tr>\n",
       "  </tbody>\n",
       "</table>\n",
       "</div>"
      ],
      "text/plain": [
       "     year                                               teos  \\\n",
       "92   1971  http://seco.tkk.fi/saha3/u35cdd023-8b09-4d54-8...   \n",
       "874  1971  http://seco.tkk.fi/saha3/ua03e39a7-b0a7-46b0-8...   \n",
       "67   1971         http://www.yso.fi/onto/kaunokki#ateos_3660   \n",
       "444  1971  http://seco.tkk.fi/saha3/uce78311d-2324-43e7-9...   \n",
       "60   1971  http://seco.tkk.fi/saha3/ua25d6048-3595-4ef4-a...   \n",
       "\n",
       "                                                author  \\\n",
       "92   http://www.yso.fi/onto/kaunokki#person_1231759...   \n",
       "874  http://www.yso.fi/onto/kaunokki#person_1231759...   \n",
       "67   http://www.yso.fi/onto/kaunokki#person_1231760...   \n",
       "444  http://www.yso.fi/onto/kaunokki#person_1232726...   \n",
       "60   http://seco.tkk.fi/saha3/u40ef2414-b89e-4656-a...   \n",
       "\n",
       "                             language  \n",
       "92   http://lexvo.org/id/iso639-3/swe  \n",
       "874  http://lexvo.org/id/iso639-3/swe  \n",
       "67   http://lexvo.org/id/iso639-3/swe  \n",
       "444  http://lexvo.org/id/iso639-3/swe  \n",
       "60   http://lexvo.org/id/iso639-3/swe  "
      ]
     },
     "execution_count": 66,
     "metadata": {},
     "output_type": "execute_result"
    }
   ],
   "source": [
    "# suomalaisten muunkieliset\n",
    "finlangdf=pd.DataFrame(resdict).sort_values(by=\"year\")\n",
    "finlangdf.head()"
   ]
  },
  {
   "cell_type": "code",
   "execution_count": 67,
   "id": "35c415da",
   "metadata": {},
   "outputs": [
    {
     "data": {
      "text/html": [
       "<div>\n",
       "<style scoped>\n",
       "    .dataframe tbody tr th:only-of-type {\n",
       "        vertical-align: middle;\n",
       "    }\n",
       "\n",
       "    .dataframe tbody tr th {\n",
       "        vertical-align: top;\n",
       "    }\n",
       "\n",
       "    .dataframe thead th {\n",
       "        text-align: right;\n",
       "    }\n",
       "</style>\n",
       "<table border=\"1\" class=\"dataframe\">\n",
       "  <thead>\n",
       "    <tr style=\"text-align: right;\">\n",
       "      <th></th>\n",
       "      <th>year</th>\n",
       "      <th>teos</th>\n",
       "      <th>author</th>\n",
       "      <th>language</th>\n",
       "    </tr>\n",
       "  </thead>\n",
       "  <tbody>\n",
       "    <tr>\n",
       "      <th>12638</th>\n",
       "      <td>1971</td>\n",
       "      <td>http://www.yso.fi/onto/kaunokki#ateos_33404</td>\n",
       "      <td>http://www.yso.fi/onto/kaunokki#person_1231759...</td>\n",
       "      <td>http://lexvo.org/id/iso639-3/fin</td>\n",
       "    </tr>\n",
       "    <tr>\n",
       "      <th>15379</th>\n",
       "      <td>1971</td>\n",
       "      <td>http://www.yso.fi/onto/kaunokki#ateos_30894</td>\n",
       "      <td>http://www.yso.fi/onto/kaunokki#person_1231759...</td>\n",
       "      <td>http://lexvo.org/id/iso639-3/fin</td>\n",
       "    </tr>\n",
       "    <tr>\n",
       "      <th>7736</th>\n",
       "      <td>1971</td>\n",
       "      <td>http://www.yso.fi/onto/kaunokki#ateos_49500</td>\n",
       "      <td>http://www.yso.fi/onto/kaunokki#person_1231760...</td>\n",
       "      <td>http://lexvo.org/id/iso639-3/fin</td>\n",
       "    </tr>\n",
       "    <tr>\n",
       "      <th>7778</th>\n",
       "      <td>1971</td>\n",
       "      <td>http://seco.tkk.fi/saha3/u50c30d8c-ff58-4b13-8...</td>\n",
       "      <td>http://seco.tkk.fi/saha3/u943c6db5-c41a-4444-b...</td>\n",
       "      <td>http://lexvo.org/id/iso639-3/fin</td>\n",
       "    </tr>\n",
       "    <tr>\n",
       "      <th>7794</th>\n",
       "      <td>1971</td>\n",
       "      <td>http://www.yso.fi/onto/kaunokki#ateos_48816</td>\n",
       "      <td>http://www.yso.fi/onto/kaunokki#person_1231759...</td>\n",
       "      <td>http://lexvo.org/id/iso639-3/fin</td>\n",
       "    </tr>\n",
       "  </tbody>\n",
       "</table>\n",
       "</div>"
      ],
      "text/plain": [
       "       year                                               teos  \\\n",
       "12638  1971        http://www.yso.fi/onto/kaunokki#ateos_33404   \n",
       "15379  1971        http://www.yso.fi/onto/kaunokki#ateos_30894   \n",
       "7736   1971        http://www.yso.fi/onto/kaunokki#ateos_49500   \n",
       "7778   1971  http://seco.tkk.fi/saha3/u50c30d8c-ff58-4b13-8...   \n",
       "7794   1971        http://www.yso.fi/onto/kaunokki#ateos_48816   \n",
       "\n",
       "                                                  author  \\\n",
       "12638  http://www.yso.fi/onto/kaunokki#person_1231759...   \n",
       "15379  http://www.yso.fi/onto/kaunokki#person_1231759...   \n",
       "7736   http://www.yso.fi/onto/kaunokki#person_1231760...   \n",
       "7778   http://seco.tkk.fi/saha3/u943c6db5-c41a-4444-b...   \n",
       "7794   http://www.yso.fi/onto/kaunokki#person_1231759...   \n",
       "\n",
       "                               language  \n",
       "12638  http://lexvo.org/id/iso639-3/fin  \n",
       "15379  http://lexvo.org/id/iso639-3/fin  \n",
       "7736   http://lexvo.org/id/iso639-3/fin  \n",
       "7778   http://lexvo.org/id/iso639-3/fin  \n",
       "7794   http://lexvo.org/id/iso639-3/fin  "
      ]
     },
     "execution_count": 67,
     "metadata": {},
     "output_type": "execute_result"
    }
   ],
   "source": [
    "#kaikki suomalaisten teokset\n",
    "finlangFI=pd.DataFrame(resdictF).sort_values(by=\"year\")\n",
    "finlangFI.head()"
   ]
  },
  {
   "cell_type": "code",
   "execution_count": 68,
   "id": "2bd67c12",
   "metadata": {},
   "outputs": [],
   "source": [
    "# add period function\n",
    "def add_period(df_fo, columnname=\"year\"):\n",
    "    df_fo['period'] = pd.cut(df_fo[columnname], bins=bins, include_lowest=True, precision=0)\n",
    "    df_fo['period'] = df_fo['period'].astype(\"str\")\n",
    "\n",
    "    df_fo[\"period\"]=df_fo[\"period\"].apply(lambda x: int(x.split(\",\")[0].replace(\"[\",\"\")))\n",
    "    return df_fo\n",
    "\n",
    "# decade function\n",
    "def add_decade(df_fi, columname=\"year\"):\n",
    "    df_fi[\"decade\"]=(df_fi[\"year\"]-1)- ((df_fi[\"year\"]-1)%10)\n",
    "    \n",
    "    return df_fi"
   ]
  },
  {
   "cell_type": "code",
   "execution_count": 69,
   "id": "b436a645",
   "metadata": {},
   "outputs": [],
   "source": [
    "finlangdf=add_decade(finlangdf)\n"
   ]
  },
  {
   "cell_type": "code",
   "execution_count": 70,
   "id": "0f7436b1",
   "metadata": {},
   "outputs": [
    {
     "data": {
      "text/html": [
       "<div>\n",
       "<style scoped>\n",
       "    .dataframe tbody tr th:only-of-type {\n",
       "        vertical-align: middle;\n",
       "    }\n",
       "\n",
       "    .dataframe tbody tr th {\n",
       "        vertical-align: top;\n",
       "    }\n",
       "\n",
       "    .dataframe thead th {\n",
       "        text-align: right;\n",
       "    }\n",
       "</style>\n",
       "<table border=\"1\" class=\"dataframe\">\n",
       "  <thead>\n",
       "    <tr style=\"text-align: right;\">\n",
       "      <th></th>\n",
       "      <th>year</th>\n",
       "      <th>teos</th>\n",
       "      <th>author</th>\n",
       "      <th>language</th>\n",
       "      <th>decade</th>\n",
       "    </tr>\n",
       "  </thead>\n",
       "  <tbody>\n",
       "    <tr>\n",
       "      <th>92</th>\n",
       "      <td>1971</td>\n",
       "      <td>http://seco.tkk.fi/saha3/u35cdd023-8b09-4d54-8...</td>\n",
       "      <td>http://www.yso.fi/onto/kaunokki#person_1231759...</td>\n",
       "      <td>http://lexvo.org/id/iso639-3/swe</td>\n",
       "      <td>1970</td>\n",
       "    </tr>\n",
       "    <tr>\n",
       "      <th>874</th>\n",
       "      <td>1971</td>\n",
       "      <td>http://seco.tkk.fi/saha3/ua03e39a7-b0a7-46b0-8...</td>\n",
       "      <td>http://www.yso.fi/onto/kaunokki#person_1231759...</td>\n",
       "      <td>http://lexvo.org/id/iso639-3/swe</td>\n",
       "      <td>1970</td>\n",
       "    </tr>\n",
       "    <tr>\n",
       "      <th>67</th>\n",
       "      <td>1971</td>\n",
       "      <td>http://www.yso.fi/onto/kaunokki#ateos_3660</td>\n",
       "      <td>http://www.yso.fi/onto/kaunokki#person_1231760...</td>\n",
       "      <td>http://lexvo.org/id/iso639-3/swe</td>\n",
       "      <td>1970</td>\n",
       "    </tr>\n",
       "    <tr>\n",
       "      <th>444</th>\n",
       "      <td>1971</td>\n",
       "      <td>http://seco.tkk.fi/saha3/uce78311d-2324-43e7-9...</td>\n",
       "      <td>http://www.yso.fi/onto/kaunokki#person_1232726...</td>\n",
       "      <td>http://lexvo.org/id/iso639-3/swe</td>\n",
       "      <td>1970</td>\n",
       "    </tr>\n",
       "    <tr>\n",
       "      <th>60</th>\n",
       "      <td>1971</td>\n",
       "      <td>http://seco.tkk.fi/saha3/ua25d6048-3595-4ef4-a...</td>\n",
       "      <td>http://seco.tkk.fi/saha3/u40ef2414-b89e-4656-a...</td>\n",
       "      <td>http://lexvo.org/id/iso639-3/swe</td>\n",
       "      <td>1970</td>\n",
       "    </tr>\n",
       "  </tbody>\n",
       "</table>\n",
       "</div>"
      ],
      "text/plain": [
       "     year                                               teos  \\\n",
       "92   1971  http://seco.tkk.fi/saha3/u35cdd023-8b09-4d54-8...   \n",
       "874  1971  http://seco.tkk.fi/saha3/ua03e39a7-b0a7-46b0-8...   \n",
       "67   1971         http://www.yso.fi/onto/kaunokki#ateos_3660   \n",
       "444  1971  http://seco.tkk.fi/saha3/uce78311d-2324-43e7-9...   \n",
       "60   1971  http://seco.tkk.fi/saha3/ua25d6048-3595-4ef4-a...   \n",
       "\n",
       "                                                author  \\\n",
       "92   http://www.yso.fi/onto/kaunokki#person_1231759...   \n",
       "874  http://www.yso.fi/onto/kaunokki#person_1231759...   \n",
       "67   http://www.yso.fi/onto/kaunokki#person_1231760...   \n",
       "444  http://www.yso.fi/onto/kaunokki#person_1232726...   \n",
       "60   http://seco.tkk.fi/saha3/u40ef2414-b89e-4656-a...   \n",
       "\n",
       "                             language  decade  \n",
       "92   http://lexvo.org/id/iso639-3/swe    1970  \n",
       "874  http://lexvo.org/id/iso639-3/swe    1970  \n",
       "67   http://lexvo.org/id/iso639-3/swe    1970  \n",
       "444  http://lexvo.org/id/iso639-3/swe    1970  \n",
       "60   http://lexvo.org/id/iso639-3/swe    1970  "
      ]
     },
     "execution_count": 70,
     "metadata": {},
     "output_type": "execute_result"
    }
   ],
   "source": [
    "finlangdf.head()"
   ]
  },
  {
   "cell_type": "code",
   "execution_count": 71,
   "id": "e25f1f37",
   "metadata": {},
   "outputs": [],
   "source": [
    "finlangdf=finlangdf.replace({\"http://www.lingvoj.org/lang/smi\":\"http://lexvo.org/id/iso639-5/smi\"})"
   ]
  },
  {
   "cell_type": "code",
   "execution_count": 72,
   "id": "99552934",
   "metadata": {},
   "outputs": [],
   "source": [
    "swe=finlangdf[finlangdf[\"language\"].str.contains(\"/swe\")].groupby(\"decade\")[\"teos\"].nunique()\n",
    "engnovels=finlangdf[finlangdf[\"language\"].str.contains(\"/eng\")].groupby(\"decade\")[\"teos\"].nunique()\n",
    "\n",
    "notswe=finlangdf[~finlangdf[\"language\"].str.contains(\"/swe\")].groupby(\"decade\")[\"teos\"].nunique()\n",
    "notswe_au=finlangdf[~finlangdf[\"language\"].str.contains(\"/swe\")].groupby(\"decade\")[\"author\"].nunique()\n",
    "\n",
    "allnovels=finlangdf.groupby([\"decade\"]).teos.nunique()\n",
    "\n",
    "allauthors=finlangdf.groupby([\"decade\"]).author.nunique()\n",
    "\n",
    "rel_notswe=notswe/allnovels\n",
    "rel_eng=engnovels/allnovels\n",
    "rel_swe=swe/allnovels"
   ]
  },
  {
   "cell_type": "code",
   "execution_count": 78,
   "id": "d6055610",
   "metadata": {},
   "outputs": [
    {
     "name": "stdout",
     "output_type": "stream",
     "text": [
      "decade\n",
      "1970     1\n",
      "1980     5\n",
      "1990     6\n",
      "2000     7\n",
      "2010    14\n",
      "Name: language, dtype: int64\n"
     ]
    }
   ],
   "source": [
    "# kielet\n",
    "nlangfi=finlangdf.groupby([\"decade\"]).language.nunique()\n",
    "print(nlangfi)\n"
   ]
  },
  {
   "cell_type": "code",
   "execution_count": 82,
   "id": "3c8ecd30",
   "metadata": {},
   "outputs": [
    {
     "name": "stdout",
     "output_type": "stream",
     "text": [
      "decade\n",
      "1970     73\n",
      "1980     80\n",
      "1990     61\n",
      "2000    132\n",
      "2010    172\n",
      "Name: teos, dtype: int64\n"
     ]
    },
    {
     "data": {
      "text/plain": [
       "0     73\n",
       "1     80\n",
       "2     61\n",
       "3    132\n",
       "4    172\n",
       "dtype: int64"
      ]
     },
     "execution_count": 82,
     "metadata": {},
     "output_type": "execute_result"
    }
   ],
   "source": [
    "# käännetyt teokset\n",
    "\n",
    "finlangFI=add_decade(finlangFI)\n",
    "\n",
    "nnovelfi=finlangFI[finlangFI[\"language\"]!=\"http://lexvo.org/id/iso639-3/fin\"].groupby([\"decade\"]).teos.nunique()\n",
    "print(nnovelfi)\n",
    "# add column for translations into Finnish?\n",
    "kaannokset=[ 73  ,80 , 61, 132, 172]\n",
    "kaann=pd.Series(kaannokset)\n",
    "kaann"
   ]
  },
  {
   "cell_type": "code",
   "execution_count": 79,
   "id": "9f132451",
   "metadata": {},
   "outputs": [
    {
     "name": "stdout",
     "output_type": "stream",
     "text": [
      "\\begin{tabular}{rrrrrr}\n",
      "\\toprule\n",
      "  vk &  lkm &  kieli &  swe &  rel\\_eng &  suomennetut \\\\\n",
      "\\midrule\n",
      "1970 &  222 &      1 & 1.00 &     0.00 &         0.33 \\\\\n",
      "1980 &  242 &      5 & 0.97 &     0.00 &         0.33 \\\\\n",
      "1990 &  260 &      6 & 0.97 &     0.00 &         0.23 \\\\\n",
      "2000 &  397 &      7 & 0.95 &     0.02 &         0.33 \\\\\n",
      "2010 &  526 &     14 & 0.91 &     0.04 &         0.33 \\\\\n",
      "\\bottomrule\n",
      "\\end{tabular}\n",
      "\n"
     ]
    },
    {
     "name": "stderr",
     "output_type": "stream",
     "text": [
      "/tmp/ipykernel_9418/3922002862.py:6: FutureWarning: In future versions `DataFrame.to_latex` is expected to utilise the base implementation of `Styler.to_latex` for formatting and rendering. The arguments signature may therefore change. It is recommended instead to use `DataFrame.style.to_latex` which also contains additional functionality.\n",
      "  print(round(decdf.fillna(0),2).to_latex(index=False))\n"
     ]
    }
   ],
   "source": [
    "decdf=pd.concat([allnovels, nlangfi, rel_swe,rel_eng],axis=1)\n",
    "decdf.reset_index(inplace=True)\n",
    "decdf.columns=[\"vk\",\"lkm\",\"kieli\",\"swe\",\"rel_eng\"]\n",
    "decdf[\"suomennetut\"]=kaann\n",
    "decdf[\"suomennetut\"]=decdf[\"suomennetut\"]/decdf[\"lkm\"]\n",
    "print(round(decdf.fillna(0),2).to_latex(index=False))"
   ]
  },
  {
   "cell_type": "code",
   "execution_count": 49,
   "id": "c5d62e97",
   "metadata": {},
   "outputs": [
    {
     "data": {
      "text/html": [
       "<div>\n",
       "<style scoped>\n",
       "    .dataframe tbody tr th:only-of-type {\n",
       "        vertical-align: middle;\n",
       "    }\n",
       "\n",
       "    .dataframe tbody tr th {\n",
       "        vertical-align: top;\n",
       "    }\n",
       "\n",
       "    .dataframe thead th {\n",
       "        text-align: right;\n",
       "    }\n",
       "</style>\n",
       "<table border=\"1\" class=\"dataframe\">\n",
       "  <thead>\n",
       "    <tr style=\"text-align: right;\">\n",
       "      <th></th>\n",
       "      <th>teos</th>\n",
       "      <th>author</th>\n",
       "    </tr>\n",
       "    <tr>\n",
       "      <th>decade</th>\n",
       "      <th></th>\n",
       "      <th></th>\n",
       "    </tr>\n",
       "  </thead>\n",
       "  <tbody>\n",
       "    <tr>\n",
       "      <th>1970</th>\n",
       "      <td>222</td>\n",
       "      <td>99</td>\n",
       "    </tr>\n",
       "    <tr>\n",
       "      <th>1980</th>\n",
       "      <td>242</td>\n",
       "      <td>124</td>\n",
       "    </tr>\n",
       "    <tr>\n",
       "      <th>1990</th>\n",
       "      <td>260</td>\n",
       "      <td>146</td>\n",
       "    </tr>\n",
       "    <tr>\n",
       "      <th>2000</th>\n",
       "      <td>397</td>\n",
       "      <td>212</td>\n",
       "    </tr>\n",
       "    <tr>\n",
       "      <th>2010</th>\n",
       "      <td>526</td>\n",
       "      <td>277</td>\n",
       "    </tr>\n",
       "  </tbody>\n",
       "</table>\n",
       "</div>"
      ],
      "text/plain": [
       "        teos  author\n",
       "decade              \n",
       "1970     222      99\n",
       "1980     242     124\n",
       "1990     260     146\n",
       "2000     397     212\n",
       "2010     526     277"
      ]
     },
     "execution_count": 49,
     "metadata": {},
     "output_type": "execute_result"
    }
   ],
   "source": [
    "\n",
    "finlangdf.groupby([\"decade\"])[[\"teos\",\"author\"]].nunique()"
   ]
  },
  {
   "cell_type": "code",
   "execution_count": 50,
   "id": "94d0a28a",
   "metadata": {},
   "outputs": [
    {
     "name": "stdout",
     "output_type": "stream",
     "text": [
      "907\n",
      "844\n",
      "402\n",
      "37\n"
     ]
    }
   ],
   "source": [
    "print(finlangdf[finlangdf[\"year\"]>2000][\"teos\"].nunique())\n",
    "print(finlangdf[(finlangdf[\"year\"]>2000)&(finlangdf[\"language\"].str.contains(\"/swe\"))][\"teos\"].nunique())\n",
    "\n",
    "print(finlangdf[finlangdf[\"year\"]>2000][\"author\"].nunique())\n",
    "print(finlangdf[(finlangdf[\"year\"]>2000)&(~finlangdf[\"language\"].str.contains(\"/swe\"))][\"author\"].nunique())"
   ]
  },
  {
   "cell_type": "code",
   "execution_count": 51,
   "id": "50adb1e0",
   "metadata": {},
   "outputs": [
    {
     "name": "stdout",
     "output_type": "stream",
     "text": [
      "907\n",
      "28\n",
      "402\n",
      "21\n"
     ]
    }
   ],
   "source": [
    "print(finlangdf[finlangdf[\"year\"]>2000][\"teos\"].nunique())\n",
    "print(finlangdf[(finlangdf[\"year\"]>2000)&(finlangdf[\"language\"].str.contains(\"/eng\"))][\"teos\"].nunique())\n",
    "\n",
    "print(finlangdf[finlangdf[\"year\"]>2000][\"author\"].nunique())\n",
    "print(finlangdf[(finlangdf[\"year\"]>2000)&(finlangdf[\"language\"].str.contains(\"/eng\"))][\"author\"].nunique())"
   ]
  },
  {
   "cell_type": "code",
   "execution_count": 52,
   "id": "5ed5ad6a",
   "metadata": {},
   "outputs": [
    {
     "name": "stdout",
     "output_type": "stream",
     "text": [
      "11543\n",
      "4431\n"
     ]
    }
   ],
   "source": [
    "print(finlangFI[finlangFI[\"year\"]>2000][\"teos\"].nunique())\n",
    "#print(finlangdf[(finlangdf[\"year\"]>2000)&(finlangdf[\"language\"].str.contains(\"/eng\"))][\"teos\"].nunique())\n",
    "\n",
    "print(finlangFI[finlangFI[\"year\"]>2000][\"author\"].nunique())"
   ]
  },
  {
   "cell_type": "code",
   "execution_count": 83,
   "id": "b4d521b6",
   "metadata": {},
   "outputs": [
    {
     "name": "stdout",
     "output_type": "stream",
     "text": [
      "0.0070921985815602835\n"
     ]
    }
   ],
   "source": [
    "notswecount=finlangdf[(finlangdf[\"year\"]>2010)&(~finlangdf[\"language\"].str.contains(\"/swe\"))][\"teos\"].nunique()\n",
    "allcount=finlangFI[finlangFI[\"year\"]>2010][\"teos\"].nunique()\n",
    "#907/11535 , 402/4430\n",
    "print(notswecount/allcount)"
   ]
  },
  {
   "cell_type": "code",
   "execution_count": 84,
   "id": "d234d685",
   "metadata": {},
   "outputs": [
    {
     "name": "stdout",
     "output_type": "stream",
     "text": [
      "0.011217948717948718\n"
     ]
    },
    {
     "name": "stderr",
     "output_type": "stream",
     "text": [
      "/tmp/ipykernel_9418/1023933337.py:2: UserWarning: Boolean Series key will be reindexed to match DataFrame index.\n",
      "  allcount=finlangFI[(finlangFI[\"year\"]>1990)&(finlangdf[\"year\"]<2001)][\"teos\"].nunique()\n"
     ]
    }
   ],
   "source": [
    "notswecount=finlangdf[(finlangdf[\"year\"]>1990)&(~finlangdf[\"language\"].str.contains(\"/swe\"))&(finlangdf[\"year\"]<2001)][\"teos\"].nunique()\n",
    "allcount=finlangFI[(finlangFI[\"year\"]>1990)&(finlangdf[\"year\"]<2001)][\"teos\"].nunique()\n",
    "#907/11535 , 402/4430\n",
    "print(notswecount/allcount)"
   ]
  }
 ],
 "metadata": {
  "kernelspec": {
   "display_name": "book-venv",
   "language": "python",
   "name": "book-venv"
  },
  "language_info": {
   "codemirror_mode": {
    "name": "ipython",
    "version": 3
   },
   "file_extension": ".py",
   "mimetype": "text/x-python",
   "name": "python",
   "nbconvert_exporter": "python",
   "pygments_lexer": "ipython3",
   "version": "3.8.10"
  }
 },
 "nbformat": 4,
 "nbformat_minor": 5
}
