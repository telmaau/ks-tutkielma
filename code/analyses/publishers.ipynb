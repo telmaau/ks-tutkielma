{
 "cells": [
  {
   "cell_type": "code",
   "execution_count": 1,
   "id": "6bcec9b7",
   "metadata": {},
   "outputs": [],
   "source": [
    "# packages\n",
    "\n",
    "from collections import defaultdict, OrderedDict, Counter\n",
    "from datetime import datetime\n",
    "\n",
    "from dateutil.relativedelta import relativedelta\n",
    "import glob\n",
    "from itertools import product, combinations\n",
    "import matplotlib.pyplot as plt\n",
    "import numpy    as np\n",
    "#import networkx as nx\n",
    "from operator import itemgetter\n",
    "import pandas   as pd\n",
    "import rdflib as rdflib\n",
    "import re\n",
    "from scipy.signal import convolve2d\n",
    "import seaborn as sns\n",
    "from sklearn.preprocessing import MultiLabelBinarizer, minmax_scale\n",
    "from SPARQLWrapper import SPARQLWrapper, JSON, POST, TURTLE\n",
    "import sys\n",
    "from rdflib.namespace import XSD, Namespace\n",
    "from rdflib.term import URIRef\n",
    "\n",
    "import IPython\n",
    "import pprint\n",
    "pp = pprint.PrettyPrinter(indent=4)\n",
    "\n",
    "\n",
    "\n",
    "from constants import *\n",
    "from helpers import *"
   ]
  },
  {
   "cell_type": "code",
   "execution_count": 2,
   "id": "d00335aa",
   "metadata": {},
   "outputs": [],
   "source": [
    "# helpers\n",
    "\n",
    "# tuples\n",
    "end_year=2022\n",
    "start_year=1971\n",
    "period_length=5\n",
    "year_range = end_year - start_year\n",
    "modulo = year_range % period_length\n",
    "if modulo == 0:\n",
    "    final_start = end_year - period_length\n",
    "else:\n",
    "    final_start = end_year - modulo\n",
    "final_end = end_year + 1\n",
    "\n",
    "starts = np.arange(start_year, final_start, period_length).tolist()\n",
    "tuples = [(start, start+period_length) for start in starts]# five year periods\n",
    "# make 5-year bins\n",
    "\n",
    "\n",
    "# We'll add the last period calculated earlier\n",
    "tuples.append(tuple([final_start, final_end]))\n",
    "bins = pd.IntervalIndex.from_tuples(tuples, closed='left')\n",
    "original_labels = list(bins.astype(str))\n",
    "new_labels = ['{} - {}'.format(b.strip('[)').split(', ')[0], int(b.strip('[)').split(', ')[1])-1) for b in original_labels]\n",
    "label_dict = dict(zip(original_labels, new_labels))\n",
    "\n",
    "# add period function\n",
    "def add_period(df_fo, columnname=\"year\"):\n",
    "    df_fo['period'] = pd.cut(df_fo[columnname], bins=bins, include_lowest=True, precision=0)\n",
    "    df_fo['period'] = df_fo['period'].astype(\"str\")\n",
    "\n",
    "    df_fo[\"period\"]=df_fo[\"period\"].apply(lambda x: int(x.split(\",\")[0].replace(\"[\",\"\")))\n",
    "    return df_fo\n",
    "\n",
    "# decade function\n",
    "def add_decade(df_fi, columname=\"year\"):\n",
    "    df_fi[\"decade\"]=(df_fi[\"year\"]-1)- ((df_fi[\"year\"]-1)%10)\n",
    "    \n",
    "    return df_fi"
   ]
  },
  {
   "cell_type": "code",
   "execution_count": 55,
   "id": "2ce93824",
   "metadata": {},
   "outputs": [],
   "source": [
    "df_fi=pd.read_csv(\"../../data/df_fi_all.csv\", sep=\"\\t\", index_col=0)\n",
    "df_fo=pd.read_csv(\"../../data/df_fo_all2.csv\", sep=\"\\t\", index_col=0)"
   ]
  },
  {
   "cell_type": "code",
   "execution_count": 56,
   "id": "6d3e74ca",
   "metadata": {},
   "outputs": [
    {
     "data": {
      "text/plain": [
       "publisher    777\n",
       "pubName      777\n",
       "dtype: int64"
      ]
     },
     "execution_count": 56,
     "metadata": {},
     "output_type": "execute_result"
    }
   ],
   "source": [
    "fi_pub=df_fi.dropna(subset=\"publisher\")\n",
    "\n",
    "\n",
    "fi_pub[[\"publisher\",\"pubName\"]].nunique() # as many names as "
   ]
  },
  {
   "cell_type": "code",
   "execution_count": 57,
   "id": "1f3446ed",
   "metadata": {},
   "outputs": [
    {
     "name": "stdout",
     "output_type": "stream",
     "text": [
      "['Karjala' 'Karjala-kustantamo' 'Karjalan kirjapaino'\n",
      " 'Karjalan sivistyseura']\n"
     ]
    }
   ],
   "source": [
    "print(fi_pub[fi_pub[\"pubName\"].str.contains(\"Karjala\")][\"pubName\"].unique())\n"
   ]
  },
  {
   "cell_type": "code",
   "execution_count": 58,
   "id": "3e3be3d2",
   "metadata": {},
   "outputs": [
    {
     "name": "stderr",
     "output_type": "stream",
     "text": [
      "/tmp/ipykernel_5804/2961609278.py:1: SettingWithCopyWarning: \n",
      "A value is trying to be set on a copy of a slice from a DataFrame.\n",
      "Try using .loc[row_indexer,col_indexer] = value instead\n",
      "\n",
      "See the caveats in the documentation: https://pandas.pydata.org/pandas-docs/stable/user_guide/indexing.html#returning-a-view-versus-a-copy\n",
      "  fi_pub[\"lang\"]=\"http://lexvo.org/id/iso639-3/fin\"\n"
     ]
    }
   ],
   "source": [
    "fi_pub[\"lang\"]=\"http://lexvo.org/id/iso639-3/fin\""
   ]
  },
  {
   "cell_type": "code",
   "execution_count": 59,
   "id": "ebeb64cd",
   "metadata": {},
   "outputs": [
    {
     "name": "stdout",
     "output_type": "stream",
     "text": [
      "['Karjala']\n"
     ]
    },
    {
     "data": {
      "text/plain": [
       "publisher    323\n",
       "pubName      323\n",
       "dtype: int64"
      ]
     },
     "execution_count": 59,
     "metadata": {},
     "output_type": "execute_result"
    }
   ],
   "source": [
    "fo_pub=df_fo.dropna(subset=\"publisher\")\n",
    "print(fo_pub[fo_pub[\"pubName\"].str.contains(\"Karjala\")][\"pubName\"].unique())\n",
    "\n",
    "# replace \"Karjala\" with \"Karjala-Kustantamo\"\n",
    "\n",
    "fo_pub[[\"publisher\",\"pubName\"]].nunique() # as many names as "
   ]
  },
  {
   "cell_type": "code",
   "execution_count": 60,
   "id": "a2138170",
   "metadata": {
    "scrolled": true
   },
   "outputs": [
    {
     "data": {
      "text/plain": [
       "lang\n",
       "http://lexvo.org/id/iso639-3/glg        1\n",
       "http://lexvo.org/id/iso639-3/lat        1\n",
       "http://lexvo.org/id/iso639-3/kik        1\n",
       "http://lexvo.org/id/iso639-5/fiu        1\n",
       "http://lexvo.org/id/iso639-3/hrv        1\n",
       "http://lexvo.org/id/iso639-3/hin        1\n",
       "http://lexvo.org/id/iso639-3/lit        1\n",
       "http://lexvo.org/id/iso639-3/fit        1\n",
       "http://lexvo.org/id/iso639-3/vec        1\n",
       "http://lexvo.org/id/iso639-3/mkd        1\n",
       "http://lexvo.org/id/iso639-3/chm        1\n",
       "http://lexvo.org/id/iso639-5/bnt        1\n",
       "http://lexvo.org/id/iso639-3/bel        1\n",
       "http://lexvo.org/id/iso639-3/ben        1\n",
       "http://lexvo.org/id/iso639-3/vie        1\n",
       "http://lexvo.org/id/iso639-3/bos        1\n",
       "http://lexvo.org/id/iso639-3/ind        2\n",
       "http://lexvo.org/id/iso639-3/slk        2\n",
       "http://lexvo.org/id/iso639-3/hye        2\n",
       "http://lexvo.org/id/iso639-3/ukr        3\n",
       "http://lexvo.org/id/iso639-3/kat        3\n",
       "http://lexvo.org/id/iso639-3/grc        3\n",
       "http://lexvo.org/id/iso639-3/srp        3\n",
       "http://lexvo.org/id/iso639-3/eus        3\n",
       "http://lexvo.org/id/iso639-3/sme        4\n",
       "http://lexvo.org/id/iso639-3/ron        4\n",
       "http://lexvo.org/id/iso639-3/afr        5\n",
       "http://lexvo.org/id/iso639-3/bul        5\n",
       "http://lexvo.org/id/iso639-3/fas        5\n",
       "http://lexvo.org/id/iso639-3/slv        6\n",
       "http://lexvo.org/id/iso639-3/sqi        6\n",
       "http://lexvo.org/id/iso639-3/cat        7\n",
       "http://lexvo.org/id/iso639-3/kor        7\n",
       "http://lexvo.org/id/iso639-3/ell        8\n",
       "http://lexvo.org/id/iso639-3/hbs        9\n",
       "http://lexvo.org/id/iso639-3/lav        9\n",
       "http://lexvo.org/id/iso639-3/yid        9\n",
       "http://lexvo.org/id/iso639-5/smi       10\n",
       "http://lexvo.org/id/iso639-3/ara       19\n",
       "http://lexvo.org/id/iso639-3/heb       21\n",
       "http://lexvo.org/id/iso639-3/zho       25\n",
       "http://lexvo.org/id/iso639-3/tur       26\n",
       "http://lexvo.org/id/iso639-3/ces       38\n",
       "http://lexvo.org/id/iso639-3/pol       48\n",
       "http://lexvo.org/id/iso639-3/jpn       49\n",
       "http://lexvo.org/id/iso639-3/hun       52\n",
       "http://lexvo.org/id/iso639-3/nld       65\n",
       "http://lexvo.org/id/iso639-3/isl       71\n",
       "http://lexvo.org/id/iso639-3/por       72\n",
       "http://lexvo.org/id/iso639-3/est      106\n",
       "http://lexvo.org/id/iso639-3/ita      168\n",
       "http://lexvo.org/id/iso639-3/spa      245\n",
       "http://lexvo.org/id/iso639-3/dan      262\n",
       "http://lexvo.org/id/iso639-3/rus      306\n",
       "http://lexvo.org/id/iso639-3/nor      381\n",
       "http://lexvo.org/id/iso639-3/fra      719\n",
       "http://lexvo.org/id/iso639-3/deu      760\n",
       "http://lexvo.org/id/iso639-3/swe     2310\n",
       "http://lexvo.org/id/iso639-3/eng    11315\n",
       "Name: novel, dtype: int64"
      ]
     },
     "execution_count": 60,
     "metadata": {},
     "output_type": "execute_result"
    }
   ],
   "source": [
    "fo_pub.groupby(\"lang\")[\"novel\"].nunique().sort_values()"
   ]
  },
  {
   "cell_type": "code",
   "execution_count": 78,
   "id": "a0e60407",
   "metadata": {},
   "outputs": [
    {
     "data": {
      "text/html": [
       "<div>\n",
       "<style scoped>\n",
       "    .dataframe tbody tr th:only-of-type {\n",
       "        vertical-align: middle;\n",
       "    }\n",
       "\n",
       "    .dataframe tbody tr th {\n",
       "        vertical-align: top;\n",
       "    }\n",
       "\n",
       "    .dataframe thead th {\n",
       "        text-align: right;\n",
       "    }\n",
       "</style>\n",
       "<table border=\"1\" class=\"dataframe\">\n",
       "  <thead>\n",
       "    <tr style=\"text-align: right;\">\n",
       "      <th></th>\n",
       "      <th>pubName</th>\n",
       "      <th>publisher</th>\n",
       "      <th>novel</th>\n",
       "    </tr>\n",
       "  </thead>\n",
       "  <tbody>\n",
       "    <tr>\n",
       "      <th>0</th>\n",
       "      <td>WSOY</td>\n",
       "      <td>http://www.yso.fi/onto/kaunokki#Kustantaja_123...</td>\n",
       "      <td>1946</td>\n",
       "    </tr>\n",
       "    <tr>\n",
       "      <th>1</th>\n",
       "      <td>Otava</td>\n",
       "      <td>http://www.yso.fi/onto/kaunokki#Kustantaja_123...</td>\n",
       "      <td>1810</td>\n",
       "    </tr>\n",
       "    <tr>\n",
       "      <th>2</th>\n",
       "      <td>Tammi</td>\n",
       "      <td>http://www.yso.fi/onto/kaunokki#Kustantaja_123...</td>\n",
       "      <td>1550</td>\n",
       "    </tr>\n",
       "    <tr>\n",
       "      <th>3</th>\n",
       "      <td>Eget förlag</td>\n",
       "      <td>http://www.yso.fi/onto/kaunokki#Kustantaja_123...</td>\n",
       "      <td>1039</td>\n",
       "    </tr>\n",
       "    <tr>\n",
       "      <th>4</th>\n",
       "      <td>Karisto Oy</td>\n",
       "      <td>http://www.yso.fi/onto/kaunokki#Kustantaja_123...</td>\n",
       "      <td>984</td>\n",
       "    </tr>\n",
       "    <tr>\n",
       "      <th>5</th>\n",
       "      <td>BoD - Books on Demand</td>\n",
       "      <td>http://www.yso.fi/onto/kaunokki#Kustantaja_123...</td>\n",
       "      <td>935</td>\n",
       "    </tr>\n",
       "    <tr>\n",
       "      <th>6</th>\n",
       "      <td>Gummerus</td>\n",
       "      <td>http://www.yso.fi/onto/kaunokki#Kustantaja_123...</td>\n",
       "      <td>771</td>\n",
       "    </tr>\n",
       "    <tr>\n",
       "      <th>7</th>\n",
       "      <td>Myllylahti</td>\n",
       "      <td>http://www.yso.fi/onto/kaunokki#Kustantaja_123...</td>\n",
       "      <td>461</td>\n",
       "    </tr>\n",
       "    <tr>\n",
       "      <th>8</th>\n",
       "      <td>Mediapinta Oy</td>\n",
       "      <td>http://www.seco.tkk.fi/applications/saha#Insta...</td>\n",
       "      <td>313</td>\n",
       "    </tr>\n",
       "    <tr>\n",
       "      <th>9</th>\n",
       "      <td>Kustannus-Mäkelä</td>\n",
       "      <td>http://www.yso.fi/onto/kaunokki#Kustantaja_123...</td>\n",
       "      <td>273</td>\n",
       "    </tr>\n",
       "  </tbody>\n",
       "</table>\n",
       "</div>"
      ],
      "text/plain": [
       "                 pubName                                          publisher  \\\n",
       "0                   WSOY  http://www.yso.fi/onto/kaunokki#Kustantaja_123...   \n",
       "1                  Otava  http://www.yso.fi/onto/kaunokki#Kustantaja_123...   \n",
       "2                  Tammi  http://www.yso.fi/onto/kaunokki#Kustantaja_123...   \n",
       "3            Eget förlag  http://www.yso.fi/onto/kaunokki#Kustantaja_123...   \n",
       "4             Karisto Oy  http://www.yso.fi/onto/kaunokki#Kustantaja_123...   \n",
       "5  BoD - Books on Demand  http://www.yso.fi/onto/kaunokki#Kustantaja_123...   \n",
       "6               Gummerus  http://www.yso.fi/onto/kaunokki#Kustantaja_123...   \n",
       "7             Myllylahti  http://www.yso.fi/onto/kaunokki#Kustantaja_123...   \n",
       "8          Mediapinta Oy  http://www.seco.tkk.fi/applications/saha#Insta...   \n",
       "9       Kustannus-Mäkelä  http://www.yso.fi/onto/kaunokki#Kustantaja_123...   \n",
       "\n",
       "   novel  \n",
       "0   1946  \n",
       "1   1810  \n",
       "2   1550  \n",
       "3   1039  \n",
       "4    984  \n",
       "5    935  \n",
       "6    771  \n",
       "7    461  \n",
       "8    313  \n",
       "9    273  "
      ]
     },
     "execution_count": 78,
     "metadata": {},
     "output_type": "execute_result"
    }
   ],
   "source": [
    "#  top x\n",
    "\n",
    "top_fi=df_fi.groupby([\"pubName\",\"publisher\"])[\"novel\"].nunique().sort_values(ascending=False).head(10).reset_index()\n",
    "top_fi"
   ]
  },
  {
   "cell_type": "code",
   "execution_count": 82,
   "id": "8f27c32c",
   "metadata": {},
   "outputs": [],
   "source": [
    "omakustantajat=list(top_fi[top_fi[\"pubName\"].isin([\"Eget förlag\",\"BoD - Books on Demand\", \"Mediapinta Oy\"])][\"publisher\"])"
   ]
  },
  {
   "cell_type": "code",
   "execution_count": 88,
   "id": "e4556e26",
   "metadata": {},
   "outputs": [],
   "source": [
    "#all_pubs[all_pubs[\"pubName\"].str.contains(\"Bookcover\")]"
   ]
  },
  {
   "cell_type": "code",
   "execution_count": 64,
   "id": "ce42d3ed",
   "metadata": {},
   "outputs": [
    {
     "data": {
      "text/html": [
       "<div>\n",
       "<style scoped>\n",
       "    .dataframe tbody tr th:only-of-type {\n",
       "        vertical-align: middle;\n",
       "    }\n",
       "\n",
       "    .dataframe tbody tr th {\n",
       "        vertical-align: top;\n",
       "    }\n",
       "\n",
       "    .dataframe thead th {\n",
       "        text-align: right;\n",
       "    }\n",
       "</style>\n",
       "<table border=\"1\" class=\"dataframe\">\n",
       "  <thead>\n",
       "    <tr style=\"text-align: right;\">\n",
       "      <th></th>\n",
       "      <th>year</th>\n",
       "      <th>author</th>\n",
       "      <th>nat</th>\n",
       "      <th>gender</th>\n",
       "      <th>novel</th>\n",
       "      <th>publisher</th>\n",
       "      <th>pubName</th>\n",
       "      <th>genre</th>\n",
       "      <th>year_genre</th>\n",
       "      <th>decade</th>\n",
       "      <th>lang</th>\n",
       "    </tr>\n",
       "  </thead>\n",
       "  <tbody>\n",
       "    <tr>\n",
       "      <th>60</th>\n",
       "      <td>1971</td>\n",
       "      <td>http://www.yso.fi/onto/kaunokki#person_1231760...</td>\n",
       "      <td>http://www.yso.fi/onto/koko/p73101</td>\n",
       "      <td>http://www.yso.fi/onto/kaunokki#male</td>\n",
       "      <td>http://www.yso.fi/onto/kaunokki#ateos_10280</td>\n",
       "      <td>http://www.yso.fi/onto/kaunokki#Kustantaja_123...</td>\n",
       "      <td>Kustannusosakeyhtiö Otava</td>\n",
       "      <td>NaN</td>\n",
       "      <td>NaN</td>\n",
       "      <td>NaN</td>\n",
       "      <td>http://lexvo.org/id/iso639-3/eng</td>\n",
       "    </tr>\n",
       "    <tr>\n",
       "      <th>10007</th>\n",
       "      <td>1971</td>\n",
       "      <td>http://www.yso.fi/onto/kaunokki#person_1231759...</td>\n",
       "      <td>http://www.yso.fi/onto/koko/p35259</td>\n",
       "      <td>http://www.yso.fi/onto/kaunokki#female</td>\n",
       "      <td>http://www.yso.fi/onto/kaunokki#ateos_19267</td>\n",
       "      <td>http://www.yso.fi/onto/kaunokki#Kustantaja_123...</td>\n",
       "      <td>Weilin + Göös</td>\n",
       "      <td>jannitys</td>\n",
       "      <td>1971.0</td>\n",
       "      <td>1970.0</td>\n",
       "      <td>http://lexvo.org/id/iso639-3/fin</td>\n",
       "    </tr>\n",
       "    <tr>\n",
       "      <th>142</th>\n",
       "      <td>1971</td>\n",
       "      <td>http://www.yso.fi/onto/kaunokki#person_1231759...</td>\n",
       "      <td>http://www.yso.fi/onto/koko/p2224</td>\n",
       "      <td>http://www.yso.fi/onto/kaunokki#female</td>\n",
       "      <td>http://www.yso.fi/onto/kaunokki#ateos_4288</td>\n",
       "      <td>http://www.yso.fi/onto/kaunokki#Kustantaja_123...</td>\n",
       "      <td>Kustannusosakeyhtiö Tammi</td>\n",
       "      <td>jannitys</td>\n",
       "      <td>NaN</td>\n",
       "      <td>1970.0</td>\n",
       "      <td>http://lexvo.org/id/iso639-3/eng</td>\n",
       "    </tr>\n",
       "    <tr>\n",
       "      <th>141</th>\n",
       "      <td>1971</td>\n",
       "      <td>http://www.yso.fi/onto/kaunokki#person_1231759...</td>\n",
       "      <td>http://www.yso.fi/onto/koko/p2224</td>\n",
       "      <td>http://www.yso.fi/onto/kaunokki#male</td>\n",
       "      <td>http://www.yso.fi/onto/kaunokki#ateos_3996</td>\n",
       "      <td>http://www.yso.fi/onto/kaunokki#Kustantaja_123...</td>\n",
       "      <td>WSOY</td>\n",
       "      <td>jannitys</td>\n",
       "      <td>NaN</td>\n",
       "      <td>1970.0</td>\n",
       "      <td>http://lexvo.org/id/iso639-3/eng</td>\n",
       "    </tr>\n",
       "    <tr>\n",
       "      <th>140</th>\n",
       "      <td>1971</td>\n",
       "      <td>http://www.yso.fi/onto/kaunokki#person_1231759...</td>\n",
       "      <td>http://www.yso.fi/onto/koko/p73101</td>\n",
       "      <td>http://www.yso.fi/onto/kaunokki#male</td>\n",
       "      <td>http://www.yso.fi/onto/kaunokki#ateos_8820</td>\n",
       "      <td>http://www.yso.fi/onto/kaunokki#Kustantaja_123...</td>\n",
       "      <td>Kustannusosakeyhtiö Tammi</td>\n",
       "      <td>jannitys</td>\n",
       "      <td>NaN</td>\n",
       "      <td>1970.0</td>\n",
       "      <td>http://lexvo.org/id/iso639-3/eng</td>\n",
       "    </tr>\n",
       "    <tr>\n",
       "      <th>...</th>\n",
       "      <td>...</td>\n",
       "      <td>...</td>\n",
       "      <td>...</td>\n",
       "      <td>...</td>\n",
       "      <td>...</td>\n",
       "      <td>...</td>\n",
       "      <td>...</td>\n",
       "      <td>...</td>\n",
       "      <td>...</td>\n",
       "      <td>...</td>\n",
       "      <td>...</td>\n",
       "    </tr>\n",
       "    <tr>\n",
       "      <th>5969</th>\n",
       "      <td>2020</td>\n",
       "      <td>http://data.kirjasampo.fi/actor_Luik%2C+Rolf</td>\n",
       "      <td>http://www.yso.fi/onto/koko/p35259</td>\n",
       "      <td>http://www.yso.fi/onto/kaunokki#male</td>\n",
       "      <td>http://data.kirjasampo.fi/abstractWork_7114472</td>\n",
       "      <td>http://www.yso.fi/onto/kaunokki#Kustantaja_123...</td>\n",
       "      <td>BoD - Books on Demand</td>\n",
       "      <td>huumori</td>\n",
       "      <td>2020.0</td>\n",
       "      <td>2010.0</td>\n",
       "      <td>http://lexvo.org/id/iso639-3/fin</td>\n",
       "    </tr>\n",
       "    <tr>\n",
       "      <th>5971</th>\n",
       "      <td>2020</td>\n",
       "      <td>http://data.kirjasampo.fi/actor_Kivel%C3%A4%2C...</td>\n",
       "      <td>http://www.yso.fi/onto/koko/p35259</td>\n",
       "      <td>http://www.yso.fi/onto/kaunokki#female</td>\n",
       "      <td>http://data.kirjasampo.fi/abstractWork_7128521</td>\n",
       "      <td>http://www.yso.fi/onto/kaunokki#Kustantaja_123...</td>\n",
       "      <td>BoD - Books on Demand</td>\n",
       "      <td>NaN</td>\n",
       "      <td>NaN</td>\n",
       "      <td>NaN</td>\n",
       "      <td>http://lexvo.org/id/iso639-3/fin</td>\n",
       "    </tr>\n",
       "    <tr>\n",
       "      <th>6012</th>\n",
       "      <td>2020</td>\n",
       "      <td>http://seco.tkk.fi/saha3/uf6c4db79-57f6-49a5-b...</td>\n",
       "      <td>http://www.yso.fi/onto/koko/p35259</td>\n",
       "      <td>http://www.yso.fi/onto/kaunokki#female</td>\n",
       "      <td>http://data.kirjasampo.fi/abstractWork_7055985</td>\n",
       "      <td>http://www.yso.fi/onto/kaunokki#Kustantaja_123...</td>\n",
       "      <td>WSOY</td>\n",
       "      <td>NaN</td>\n",
       "      <td>NaN</td>\n",
       "      <td>NaN</td>\n",
       "      <td>http://lexvo.org/id/iso639-3/fin</td>\n",
       "    </tr>\n",
       "    <tr>\n",
       "      <th>5768</th>\n",
       "      <td>2020</td>\n",
       "      <td>http://www.yso.fi/onto/kaunokki#person_1231759...</td>\n",
       "      <td>http://www.yso.fi/onto/koko/p35259</td>\n",
       "      <td>http://www.yso.fi/onto/kaunokki#male</td>\n",
       "      <td>http://data.kirjasampo.fi/abstractWork_7085099</td>\n",
       "      <td>http://data.kirjasampo.fi/actor_Aviador</td>\n",
       "      <td>Aviador</td>\n",
       "      <td>NaN</td>\n",
       "      <td>NaN</td>\n",
       "      <td>NaN</td>\n",
       "      <td>http://lexvo.org/id/iso639-3/fin</td>\n",
       "    </tr>\n",
       "    <tr>\n",
       "      <th>19400</th>\n",
       "      <td>2020</td>\n",
       "      <td>http://data.kirjasampo.fi/actor_Dicker%2C+Jo%C...</td>\n",
       "      <td>http://www.yso.fi/onto/koko/p7934</td>\n",
       "      <td>http://www.yso.fi/onto/kaunokki#male</td>\n",
       "      <td>http://data.kirjasampo.fi/abstractWork_7081596</td>\n",
       "      <td>http://www.yso.fi/onto/kaunokki#Kustantaja_123...</td>\n",
       "      <td>Kustannusosakeyhtiö Tammi</td>\n",
       "      <td>jannitys</td>\n",
       "      <td>NaN</td>\n",
       "      <td>2010.0</td>\n",
       "      <td>http://lexvo.org/id/iso639-3/fra</td>\n",
       "    </tr>\n",
       "  </tbody>\n",
       "</table>\n",
       "<p>35980 rows × 11 columns</p>\n",
       "</div>"
      ],
      "text/plain": [
       "       year                                             author  \\\n",
       "60     1971  http://www.yso.fi/onto/kaunokki#person_1231760...   \n",
       "10007  1971  http://www.yso.fi/onto/kaunokki#person_1231759...   \n",
       "142    1971  http://www.yso.fi/onto/kaunokki#person_1231759...   \n",
       "141    1971  http://www.yso.fi/onto/kaunokki#person_1231759...   \n",
       "140    1971  http://www.yso.fi/onto/kaunokki#person_1231759...   \n",
       "...     ...                                                ...   \n",
       "5969   2020       http://data.kirjasampo.fi/actor_Luik%2C+Rolf   \n",
       "5971   2020  http://data.kirjasampo.fi/actor_Kivel%C3%A4%2C...   \n",
       "6012   2020  http://seco.tkk.fi/saha3/uf6c4db79-57f6-49a5-b...   \n",
       "5768   2020  http://www.yso.fi/onto/kaunokki#person_1231759...   \n",
       "19400  2020  http://data.kirjasampo.fi/actor_Dicker%2C+Jo%C...   \n",
       "\n",
       "                                      nat  \\\n",
       "60     http://www.yso.fi/onto/koko/p73101   \n",
       "10007  http://www.yso.fi/onto/koko/p35259   \n",
       "142     http://www.yso.fi/onto/koko/p2224   \n",
       "141     http://www.yso.fi/onto/koko/p2224   \n",
       "140    http://www.yso.fi/onto/koko/p73101   \n",
       "...                                   ...   \n",
       "5969   http://www.yso.fi/onto/koko/p35259   \n",
       "5971   http://www.yso.fi/onto/koko/p35259   \n",
       "6012   http://www.yso.fi/onto/koko/p35259   \n",
       "5768   http://www.yso.fi/onto/koko/p35259   \n",
       "19400   http://www.yso.fi/onto/koko/p7934   \n",
       "\n",
       "                                       gender  \\\n",
       "60       http://www.yso.fi/onto/kaunokki#male   \n",
       "10007  http://www.yso.fi/onto/kaunokki#female   \n",
       "142    http://www.yso.fi/onto/kaunokki#female   \n",
       "141      http://www.yso.fi/onto/kaunokki#male   \n",
       "140      http://www.yso.fi/onto/kaunokki#male   \n",
       "...                                       ...   \n",
       "5969     http://www.yso.fi/onto/kaunokki#male   \n",
       "5971   http://www.yso.fi/onto/kaunokki#female   \n",
       "6012   http://www.yso.fi/onto/kaunokki#female   \n",
       "5768     http://www.yso.fi/onto/kaunokki#male   \n",
       "19400    http://www.yso.fi/onto/kaunokki#male   \n",
       "\n",
       "                                                novel  \\\n",
       "60        http://www.yso.fi/onto/kaunokki#ateos_10280   \n",
       "10007     http://www.yso.fi/onto/kaunokki#ateos_19267   \n",
       "142        http://www.yso.fi/onto/kaunokki#ateos_4288   \n",
       "141        http://www.yso.fi/onto/kaunokki#ateos_3996   \n",
       "140        http://www.yso.fi/onto/kaunokki#ateos_8820   \n",
       "...                                               ...   \n",
       "5969   http://data.kirjasampo.fi/abstractWork_7114472   \n",
       "5971   http://data.kirjasampo.fi/abstractWork_7128521   \n",
       "6012   http://data.kirjasampo.fi/abstractWork_7055985   \n",
       "5768   http://data.kirjasampo.fi/abstractWork_7085099   \n",
       "19400  http://data.kirjasampo.fi/abstractWork_7081596   \n",
       "\n",
       "                                               publisher  \\\n",
       "60     http://www.yso.fi/onto/kaunokki#Kustantaja_123...   \n",
       "10007  http://www.yso.fi/onto/kaunokki#Kustantaja_123...   \n",
       "142    http://www.yso.fi/onto/kaunokki#Kustantaja_123...   \n",
       "141    http://www.yso.fi/onto/kaunokki#Kustantaja_123...   \n",
       "140    http://www.yso.fi/onto/kaunokki#Kustantaja_123...   \n",
       "...                                                  ...   \n",
       "5969   http://www.yso.fi/onto/kaunokki#Kustantaja_123...   \n",
       "5971   http://www.yso.fi/onto/kaunokki#Kustantaja_123...   \n",
       "6012   http://www.yso.fi/onto/kaunokki#Kustantaja_123...   \n",
       "5768             http://data.kirjasampo.fi/actor_Aviador   \n",
       "19400  http://www.yso.fi/onto/kaunokki#Kustantaja_123...   \n",
       "\n",
       "                         pubName     genre  year_genre  decade  \\\n",
       "60     Kustannusosakeyhtiö Otava       NaN         NaN     NaN   \n",
       "10007              Weilin + Göös  jannitys      1971.0  1970.0   \n",
       "142    Kustannusosakeyhtiö Tammi  jannitys         NaN  1970.0   \n",
       "141                         WSOY  jannitys         NaN  1970.0   \n",
       "140    Kustannusosakeyhtiö Tammi  jannitys         NaN  1970.0   \n",
       "...                          ...       ...         ...     ...   \n",
       "5969       BoD - Books on Demand   huumori      2020.0  2010.0   \n",
       "5971       BoD - Books on Demand       NaN         NaN     NaN   \n",
       "6012                        WSOY       NaN         NaN     NaN   \n",
       "5768                     Aviador       NaN         NaN     NaN   \n",
       "19400  Kustannusosakeyhtiö Tammi  jannitys         NaN  2010.0   \n",
       "\n",
       "                                   lang  \n",
       "60     http://lexvo.org/id/iso639-3/eng  \n",
       "10007  http://lexvo.org/id/iso639-3/fin  \n",
       "142    http://lexvo.org/id/iso639-3/eng  \n",
       "141    http://lexvo.org/id/iso639-3/eng  \n",
       "140    http://lexvo.org/id/iso639-3/eng  \n",
       "...                                 ...  \n",
       "5969   http://lexvo.org/id/iso639-3/fin  \n",
       "5971   http://lexvo.org/id/iso639-3/fin  \n",
       "6012   http://lexvo.org/id/iso639-3/fin  \n",
       "5768   http://lexvo.org/id/iso639-3/fin  \n",
       "19400  http://lexvo.org/id/iso639-3/fra  \n",
       "\n",
       "[35980 rows x 11 columns]"
      ]
     },
     "execution_count": 64,
     "metadata": {},
     "output_type": "execute_result"
    }
   ],
   "source": [
    "all_pubs=pd.concat([fi_pub, fo_pub])\n",
    "all_pubs.sort_values(by=\"year\")"
   ]
  },
  {
   "cell_type": "code",
   "execution_count": 90,
   "id": "0b5c4a21",
   "metadata": {},
   "outputs": [
    {
     "data": {
      "text/html": [
       "<div>\n",
       "<style scoped>\n",
       "    .dataframe tbody tr th:only-of-type {\n",
       "        vertical-align: middle;\n",
       "    }\n",
       "\n",
       "    .dataframe tbody tr th {\n",
       "        vertical-align: top;\n",
       "    }\n",
       "\n",
       "    .dataframe thead th {\n",
       "        text-align: right;\n",
       "    }\n",
       "</style>\n",
       "<table border=\"1\" class=\"dataframe\">\n",
       "  <thead>\n",
       "    <tr style=\"text-align: right;\">\n",
       "      <th></th>\n",
       "      <th>year</th>\n",
       "      <th>author</th>\n",
       "      <th>nat</th>\n",
       "      <th>gender</th>\n",
       "      <th>novel</th>\n",
       "      <th>publisher</th>\n",
       "      <th>pubName</th>\n",
       "      <th>genre</th>\n",
       "      <th>year_genre</th>\n",
       "      <th>decade</th>\n",
       "      <th>lang</th>\n",
       "    </tr>\n",
       "  </thead>\n",
       "  <tbody>\n",
       "    <tr>\n",
       "      <th>2</th>\n",
       "      <td>1972</td>\n",
       "      <td>http://seco.tkk.fi/saha3/uc84440c2-42e7-4ba7-b...</td>\n",
       "      <td>http://www.yso.fi/onto/koko/p35259</td>\n",
       "      <td>http://www.yso.fi/onto/kaunokki#female</td>\n",
       "      <td>http://www.yso.fi/onto/kaunokki#ateos_20145</td>\n",
       "      <td>http://www.yso.fi/onto/kaunokki#Kustantaja_123...</td>\n",
       "      <td>Weilin + Göös</td>\n",
       "      <td>NaN</td>\n",
       "      <td>NaN</td>\n",
       "      <td>NaN</td>\n",
       "      <td>http://lexvo.org/id/iso639-3/fin</td>\n",
       "    </tr>\n",
       "    <tr>\n",
       "      <th>4</th>\n",
       "      <td>2017</td>\n",
       "      <td>http://www.btj.fi/actor_Matilainen%2C+Pekka</td>\n",
       "      <td>http://www.yso.fi/onto/koko/p35259</td>\n",
       "      <td>http://www.yso.fi/onto/kaunokki#male</td>\n",
       "      <td>http://data.kirjasampo.fi/abstractWork_4409323</td>\n",
       "      <td>http://www.yso.fi/onto/kaunokki#Kustantaja_123...</td>\n",
       "      <td>Atena Kustannus Oy</td>\n",
       "      <td>jannitys</td>\n",
       "      <td>2017.0</td>\n",
       "      <td>2010.0</td>\n",
       "      <td>http://lexvo.org/id/iso639-3/fin</td>\n",
       "    </tr>\n",
       "    <tr>\n",
       "      <th>5</th>\n",
       "      <td>1982</td>\n",
       "      <td>http://www.yso.fi/onto/kaunokki#person_1231759...</td>\n",
       "      <td>http://www.yso.fi/onto/koko/p35259</td>\n",
       "      <td>http://www.yso.fi/onto/kaunokki#male</td>\n",
       "      <td>http://www.yso.fi/onto/kaunokki#ateos_44817</td>\n",
       "      <td>http://www.yso.fi/onto/kaunokki#Kustantaja_123...</td>\n",
       "      <td>WSOY</td>\n",
       "      <td>jannitys</td>\n",
       "      <td>1982.0</td>\n",
       "      <td>1980.0</td>\n",
       "      <td>http://lexvo.org/id/iso639-3/fin</td>\n",
       "    </tr>\n",
       "    <tr>\n",
       "      <th>6</th>\n",
       "      <td>2006</td>\n",
       "      <td>http://www.yso.fi/onto/kaunokki#person_1231759...</td>\n",
       "      <td>http://www.yso.fi/onto/koko/p35259</td>\n",
       "      <td>http://www.yso.fi/onto/kaunokki#female</td>\n",
       "      <td>http://seco.tkk.fi/saha3/u04ea928f-31f2-4ebd-a...</td>\n",
       "      <td>http://www.yso.fi/onto/kaunokki#Kustantaja_123...</td>\n",
       "      <td>Tammi</td>\n",
       "      <td>NaN</td>\n",
       "      <td>NaN</td>\n",
       "      <td>NaN</td>\n",
       "      <td>http://lexvo.org/id/iso639-3/fin</td>\n",
       "    </tr>\n",
       "    <tr>\n",
       "      <th>7</th>\n",
       "      <td>1984</td>\n",
       "      <td>http://seco.tkk.fi/saha3/u9d2d1008-80a8-4f00-9...</td>\n",
       "      <td>http://www.yso.fi/onto/koko/p35259</td>\n",
       "      <td>unk</td>\n",
       "      <td>http://seco.tkk.fi/saha3/u6332bb33-146f-499b-a...</td>\n",
       "      <td>http://www.yso.fi/onto/kaunokki#Kustantaja_123...</td>\n",
       "      <td>Tammi</td>\n",
       "      <td>jannitys</td>\n",
       "      <td>1984.0</td>\n",
       "      <td>1980.0</td>\n",
       "      <td>http://lexvo.org/id/iso639-3/fin</td>\n",
       "    </tr>\n",
       "    <tr>\n",
       "      <th>...</th>\n",
       "      <td>...</td>\n",
       "      <td>...</td>\n",
       "      <td>...</td>\n",
       "      <td>...</td>\n",
       "      <td>...</td>\n",
       "      <td>...</td>\n",
       "      <td>...</td>\n",
       "      <td>...</td>\n",
       "      <td>...</td>\n",
       "      <td>...</td>\n",
       "      <td>...</td>\n",
       "    </tr>\n",
       "    <tr>\n",
       "      <th>19395</th>\n",
       "      <td>2020</td>\n",
       "      <td>http://data.kirjasampo.fi/actor_Ahnhem%2C+Stefan</td>\n",
       "      <td>http://www.yso.fi/onto/koko/p16897</td>\n",
       "      <td>http://www.yso.fi/onto/kaunokki#male</td>\n",
       "      <td>http://data.kirjasampo.fi/abstractWork_7029250</td>\n",
       "      <td>http://www.yso.fi/onto/kaunokki#Kustantaja_123...</td>\n",
       "      <td>WSOY</td>\n",
       "      <td>jannitys</td>\n",
       "      <td>NaN</td>\n",
       "      <td>2010.0</td>\n",
       "      <td>http://lexvo.org/id/iso639-3/swe</td>\n",
       "    </tr>\n",
       "    <tr>\n",
       "      <th>19397</th>\n",
       "      <td>2020</td>\n",
       "      <td>http://www.yso.fi/onto/kaunokki#person_1231760...</td>\n",
       "      <td>http://www.yso.fi/onto/koko/p2224</td>\n",
       "      <td>http://www.yso.fi/onto/kaunokki#female</td>\n",
       "      <td>http://data.kirjasampo.fi/abstractWork_4435226</td>\n",
       "      <td>http://www.yso.fi/onto/kaunokki#Kustantaja_123...</td>\n",
       "      <td>Karisto Oy</td>\n",
       "      <td>jannitys</td>\n",
       "      <td>NaN</td>\n",
       "      <td>2010.0</td>\n",
       "      <td>http://lexvo.org/id/iso639-3/eng</td>\n",
       "    </tr>\n",
       "    <tr>\n",
       "      <th>19398</th>\n",
       "      <td>2020</td>\n",
       "      <td>http://data.kirjasampo.fi/actor_Sehlstedt%2C+K...</td>\n",
       "      <td>http://www.yso.fi/onto/koko/p16897</td>\n",
       "      <td>http://www.yso.fi/onto/kaunokki#female</td>\n",
       "      <td>http://data.kirjasampo.fi/abstractWork_6986740</td>\n",
       "      <td>http://www.yso.fi/onto/kaunokki#Kustantaja_123...</td>\n",
       "      <td>Like</td>\n",
       "      <td>jannitys</td>\n",
       "      <td>NaN</td>\n",
       "      <td>2010.0</td>\n",
       "      <td>http://lexvo.org/id/iso639-3/swe</td>\n",
       "    </tr>\n",
       "    <tr>\n",
       "      <th>19399</th>\n",
       "      <td>2020</td>\n",
       "      <td>http://data.kirjasampo.fi/actor_Harris%2C+Neil...</td>\n",
       "      <td>http://www.yso.fi/onto/koko/p73101</td>\n",
       "      <td>http://www.yso.fi/onto/kaunokki#male</td>\n",
       "      <td>http://data.kirjasampo.fi/abstractWork_7094878</td>\n",
       "      <td>http://data.kirjasampo.fi/actor_Aula+%26+Co</td>\n",
       "      <td>Kustannusosakeyhtiö Aula &amp; Co</td>\n",
       "      <td>NaN</td>\n",
       "      <td>NaN</td>\n",
       "      <td>NaN</td>\n",
       "      <td>http://lexvo.org/id/iso639-3/eng</td>\n",
       "    </tr>\n",
       "    <tr>\n",
       "      <th>19400</th>\n",
       "      <td>2020</td>\n",
       "      <td>http://data.kirjasampo.fi/actor_Dicker%2C+Jo%C...</td>\n",
       "      <td>http://www.yso.fi/onto/koko/p7934</td>\n",
       "      <td>http://www.yso.fi/onto/kaunokki#male</td>\n",
       "      <td>http://data.kirjasampo.fi/abstractWork_7081596</td>\n",
       "      <td>http://www.yso.fi/onto/kaunokki#Kustantaja_123...</td>\n",
       "      <td>Kustannusosakeyhtiö Tammi</td>\n",
       "      <td>jannitys</td>\n",
       "      <td>NaN</td>\n",
       "      <td>2010.0</td>\n",
       "      <td>http://lexvo.org/id/iso639-3/fra</td>\n",
       "    </tr>\n",
       "  </tbody>\n",
       "</table>\n",
       "<p>30024 rows × 11 columns</p>\n",
       "</div>"
      ],
      "text/plain": [
       "       year                                             author  \\\n",
       "2      1972  http://seco.tkk.fi/saha3/uc84440c2-42e7-4ba7-b...   \n",
       "4      2017        http://www.btj.fi/actor_Matilainen%2C+Pekka   \n",
       "5      1982  http://www.yso.fi/onto/kaunokki#person_1231759...   \n",
       "6      2006  http://www.yso.fi/onto/kaunokki#person_1231759...   \n",
       "7      1984  http://seco.tkk.fi/saha3/u9d2d1008-80a8-4f00-9...   \n",
       "...     ...                                                ...   \n",
       "19395  2020   http://data.kirjasampo.fi/actor_Ahnhem%2C+Stefan   \n",
       "19397  2020  http://www.yso.fi/onto/kaunokki#person_1231760...   \n",
       "19398  2020  http://data.kirjasampo.fi/actor_Sehlstedt%2C+K...   \n",
       "19399  2020  http://data.kirjasampo.fi/actor_Harris%2C+Neil...   \n",
       "19400  2020  http://data.kirjasampo.fi/actor_Dicker%2C+Jo%C...   \n",
       "\n",
       "                                      nat  \\\n",
       "2      http://www.yso.fi/onto/koko/p35259   \n",
       "4      http://www.yso.fi/onto/koko/p35259   \n",
       "5      http://www.yso.fi/onto/koko/p35259   \n",
       "6      http://www.yso.fi/onto/koko/p35259   \n",
       "7      http://www.yso.fi/onto/koko/p35259   \n",
       "...                                   ...   \n",
       "19395  http://www.yso.fi/onto/koko/p16897   \n",
       "19397   http://www.yso.fi/onto/koko/p2224   \n",
       "19398  http://www.yso.fi/onto/koko/p16897   \n",
       "19399  http://www.yso.fi/onto/koko/p73101   \n",
       "19400   http://www.yso.fi/onto/koko/p7934   \n",
       "\n",
       "                                       gender  \\\n",
       "2      http://www.yso.fi/onto/kaunokki#female   \n",
       "4        http://www.yso.fi/onto/kaunokki#male   \n",
       "5        http://www.yso.fi/onto/kaunokki#male   \n",
       "6      http://www.yso.fi/onto/kaunokki#female   \n",
       "7                                         unk   \n",
       "...                                       ...   \n",
       "19395    http://www.yso.fi/onto/kaunokki#male   \n",
       "19397  http://www.yso.fi/onto/kaunokki#female   \n",
       "19398  http://www.yso.fi/onto/kaunokki#female   \n",
       "19399    http://www.yso.fi/onto/kaunokki#male   \n",
       "19400    http://www.yso.fi/onto/kaunokki#male   \n",
       "\n",
       "                                                   novel  \\\n",
       "2            http://www.yso.fi/onto/kaunokki#ateos_20145   \n",
       "4         http://data.kirjasampo.fi/abstractWork_4409323   \n",
       "5            http://www.yso.fi/onto/kaunokki#ateos_44817   \n",
       "6      http://seco.tkk.fi/saha3/u04ea928f-31f2-4ebd-a...   \n",
       "7      http://seco.tkk.fi/saha3/u6332bb33-146f-499b-a...   \n",
       "...                                                  ...   \n",
       "19395     http://data.kirjasampo.fi/abstractWork_7029250   \n",
       "19397     http://data.kirjasampo.fi/abstractWork_4435226   \n",
       "19398     http://data.kirjasampo.fi/abstractWork_6986740   \n",
       "19399     http://data.kirjasampo.fi/abstractWork_7094878   \n",
       "19400     http://data.kirjasampo.fi/abstractWork_7081596   \n",
       "\n",
       "                                               publisher  \\\n",
       "2      http://www.yso.fi/onto/kaunokki#Kustantaja_123...   \n",
       "4      http://www.yso.fi/onto/kaunokki#Kustantaja_123...   \n",
       "5      http://www.yso.fi/onto/kaunokki#Kustantaja_123...   \n",
       "6      http://www.yso.fi/onto/kaunokki#Kustantaja_123...   \n",
       "7      http://www.yso.fi/onto/kaunokki#Kustantaja_123...   \n",
       "...                                                  ...   \n",
       "19395  http://www.yso.fi/onto/kaunokki#Kustantaja_123...   \n",
       "19397  http://www.yso.fi/onto/kaunokki#Kustantaja_123...   \n",
       "19398  http://www.yso.fi/onto/kaunokki#Kustantaja_123...   \n",
       "19399        http://data.kirjasampo.fi/actor_Aula+%26+Co   \n",
       "19400  http://www.yso.fi/onto/kaunokki#Kustantaja_123...   \n",
       "\n",
       "                             pubName     genre  year_genre  decade  \\\n",
       "2                      Weilin + Göös       NaN         NaN     NaN   \n",
       "4                 Atena Kustannus Oy  jannitys      2017.0  2010.0   \n",
       "5                               WSOY  jannitys      1982.0  1980.0   \n",
       "6                              Tammi       NaN         NaN     NaN   \n",
       "7                              Tammi  jannitys      1984.0  1980.0   \n",
       "...                              ...       ...         ...     ...   \n",
       "19395                           WSOY  jannitys         NaN  2010.0   \n",
       "19397                     Karisto Oy  jannitys         NaN  2010.0   \n",
       "19398                           Like  jannitys         NaN  2010.0   \n",
       "19399  Kustannusosakeyhtiö Aula & Co       NaN         NaN     NaN   \n",
       "19400      Kustannusosakeyhtiö Tammi  jannitys         NaN  2010.0   \n",
       "\n",
       "                                   lang  \n",
       "2      http://lexvo.org/id/iso639-3/fin  \n",
       "4      http://lexvo.org/id/iso639-3/fin  \n",
       "5      http://lexvo.org/id/iso639-3/fin  \n",
       "6      http://lexvo.org/id/iso639-3/fin  \n",
       "7      http://lexvo.org/id/iso639-3/fin  \n",
       "...                                 ...  \n",
       "19395  http://lexvo.org/id/iso639-3/swe  \n",
       "19397  http://lexvo.org/id/iso639-3/eng  \n",
       "19398  http://lexvo.org/id/iso639-3/swe  \n",
       "19399  http://lexvo.org/id/iso639-3/eng  \n",
       "19400  http://lexvo.org/id/iso639-3/fra  \n",
       "\n",
       "[30024 rows x 11 columns]"
      ]
     },
     "execution_count": 90,
     "metadata": {},
     "output_type": "execute_result"
    }
   ],
   "source": [
    "# filter out all < 30 novels\n",
    "verysmall= all_pubs.groupby(\"publisher\")[\"novel\"].nunique().reset_index()#<30\n",
    "smalls=verysmall[verysmall[\"novel\"]<30]\n",
    "# filter out books on demand, mediapinta, omakustanne\n",
    "not_wanted= list(smalls[\"publisher\"]) + omakustantajat\n",
    "real_pubs=all_pubs[~all_pubs[\"publisher\"].isin(not_wanted)]\n",
    "real_pubs\n",
    "\n"
   ]
  },
  {
   "cell_type": "code",
   "execution_count": 125,
   "id": "a22becf9",
   "metadata": {},
   "outputs": [],
   "source": [
    "# get min year, max year, nr of publications\n",
    "pub_profiles=pd.DataFrame()\n",
    "\n",
    "pub_profiles[\"min\"]=real_pubs.groupby(\"publisher\")[\"year\"].min().values\n",
    "pub_profiles[\"max\"]=real_pubs.groupby(\"publisher\")[\"year\"].max().values\n",
    "pub_profiles[\"novels\"]=real_pubs.groupby(\"publisher\")[\"novel\"].nunique().values\n",
    "pub_profiles[\"authors\"]=real_pubs.groupby(\"publisher\")[\"author\"].nunique().values\n",
    "fi_count=real_pubs[real_pubs[\"lang\"]==\"http://lexvo.org/id/iso639-3/fin\"].groupby(\"publisher\")[\"novel\"].nunique().reset_index()\n",
    "pub_profiles[\"publisher\"]=real_pubs.groupby(\"publisher\")[\"year\"].min().index\n",
    "pub_profiles[\"pubName\"]=real_pubs.groupby(\"publisher\")[\"pubName\"].unique().values\n",
    "\n",
    "pub_profiles=pub_profiles.merge(fi_count, how=\"left\")\n",
    "pub_profiles[\"novel_fi\"]=pub_profiles[\"novel\"].fillna(0)"
   ]
  },
  {
   "cell_type": "code",
   "execution_count": 101,
   "id": "0bb1a1e8",
   "metadata": {
    "scrolled": true
   },
   "outputs": [
    {
     "data": {
      "text/html": [
       "<div>\n",
       "<style scoped>\n",
       "    .dataframe tbody tr th:only-of-type {\n",
       "        vertical-align: middle;\n",
       "    }\n",
       "\n",
       "    .dataframe tbody tr th {\n",
       "        vertical-align: top;\n",
       "    }\n",
       "\n",
       "    .dataframe thead th {\n",
       "        text-align: right;\n",
       "    }\n",
       "</style>\n",
       "<table border=\"1\" class=\"dataframe\">\n",
       "  <thead>\n",
       "    <tr style=\"text-align: right;\">\n",
       "      <th></th>\n",
       "      <th>min</th>\n",
       "      <th>max</th>\n",
       "      <th>novels</th>\n",
       "      <th>authors</th>\n",
       "      <th>publisher</th>\n",
       "      <th>novel</th>\n",
       "      <th>novel_fi</th>\n",
       "    </tr>\n",
       "  </thead>\n",
       "  <tbody>\n",
       "    <tr>\n",
       "      <th>0</th>\n",
       "      <td>2018</td>\n",
       "      <td>2020</td>\n",
       "      <td>66</td>\n",
       "      <td>48</td>\n",
       "      <td>http://data.kirjasampo.fi/actor_Atrain+%26+Nord</td>\n",
       "      <td>61.0</td>\n",
       "      <td>61.0</td>\n",
       "    </tr>\n",
       "    <tr>\n",
       "      <th>1</th>\n",
       "      <td>2016</td>\n",
       "      <td>2020</td>\n",
       "      <td>63</td>\n",
       "      <td>40</td>\n",
       "      <td>http://data.kirjasampo.fi/actor_Aula+%26+Co</td>\n",
       "      <td>16.0</td>\n",
       "      <td>16.0</td>\n",
       "    </tr>\n",
       "    <tr>\n",
       "      <th>2</th>\n",
       "      <td>2015</td>\n",
       "      <td>2020</td>\n",
       "      <td>54</td>\n",
       "      <td>43</td>\n",
       "      <td>http://data.kirjasampo.fi/actor_Aviador</td>\n",
       "      <td>27.0</td>\n",
       "      <td>27.0</td>\n",
       "    </tr>\n",
       "    <tr>\n",
       "      <th>3</th>\n",
       "      <td>2015</td>\n",
       "      <td>2020</td>\n",
       "      <td>293</td>\n",
       "      <td>152</td>\n",
       "      <td>http://data.kirjasampo.fi/actor_HarperCollins+...</td>\n",
       "      <td>NaN</td>\n",
       "      <td>0.0</td>\n",
       "    </tr>\n",
       "    <tr>\n",
       "      <th>4</th>\n",
       "      <td>2016</td>\n",
       "      <td>2020</td>\n",
       "      <td>82</td>\n",
       "      <td>51</td>\n",
       "      <td>http://data.kirjasampo.fi/actor_S%26S</td>\n",
       "      <td>26.0</td>\n",
       "      <td>26.0</td>\n",
       "    </tr>\n",
       "    <tr>\n",
       "      <th>...</th>\n",
       "      <td>...</td>\n",
       "      <td>...</td>\n",
       "      <td>...</td>\n",
       "      <td>...</td>\n",
       "      <td>...</td>\n",
       "      <td>...</td>\n",
       "      <td>...</td>\n",
       "    </tr>\n",
       "    <tr>\n",
       "      <th>76</th>\n",
       "      <td>1997</td>\n",
       "      <td>2020</td>\n",
       "      <td>44</td>\n",
       "      <td>27</td>\n",
       "      <td>http://www.yso.fi/onto/kaunokki#Kustantaja_123...</td>\n",
       "      <td>8.0</td>\n",
       "      <td>8.0</td>\n",
       "    </tr>\n",
       "    <tr>\n",
       "      <th>77</th>\n",
       "      <td>1974</td>\n",
       "      <td>2020</td>\n",
       "      <td>92</td>\n",
       "      <td>37</td>\n",
       "      <td>http://www.yso.fi/onto/kaunokki#Kustantaja_123...</td>\n",
       "      <td>44.0</td>\n",
       "      <td>44.0</td>\n",
       "    </tr>\n",
       "    <tr>\n",
       "      <th>78</th>\n",
       "      <td>1986</td>\n",
       "      <td>2017</td>\n",
       "      <td>192</td>\n",
       "      <td>110</td>\n",
       "      <td>http://www.yso.fi/onto/kaunokki#Kustantaja_123...</td>\n",
       "      <td>NaN</td>\n",
       "      <td>0.0</td>\n",
       "    </tr>\n",
       "    <tr>\n",
       "      <th>79</th>\n",
       "      <td>1987</td>\n",
       "      <td>2020</td>\n",
       "      <td>56</td>\n",
       "      <td>32</td>\n",
       "      <td>http://www.yso.fi/onto/kaunokki#Kustantaja_146...</td>\n",
       "      <td>56.0</td>\n",
       "      <td>56.0</td>\n",
       "    </tr>\n",
       "    <tr>\n",
       "      <th>80</th>\n",
       "      <td>1973</td>\n",
       "      <td>2020</td>\n",
       "      <td>102</td>\n",
       "      <td>14</td>\n",
       "      <td>http://www.yso.fi/onto/kaunokki#Kustantaja_554...</td>\n",
       "      <td>102.0</td>\n",
       "      <td>102.0</td>\n",
       "    </tr>\n",
       "  </tbody>\n",
       "</table>\n",
       "<p>81 rows × 7 columns</p>\n",
       "</div>"
      ],
      "text/plain": [
       "     min   max  novels  authors  \\\n",
       "0   2018  2020      66       48   \n",
       "1   2016  2020      63       40   \n",
       "2   2015  2020      54       43   \n",
       "3   2015  2020     293      152   \n",
       "4   2016  2020      82       51   \n",
       "..   ...   ...     ...      ...   \n",
       "76  1997  2020      44       27   \n",
       "77  1974  2020      92       37   \n",
       "78  1986  2017     192      110   \n",
       "79  1987  2020      56       32   \n",
       "80  1973  2020     102       14   \n",
       "\n",
       "                                            publisher  novel  novel_fi  \n",
       "0     http://data.kirjasampo.fi/actor_Atrain+%26+Nord   61.0      61.0  \n",
       "1         http://data.kirjasampo.fi/actor_Aula+%26+Co   16.0      16.0  \n",
       "2             http://data.kirjasampo.fi/actor_Aviador   27.0      27.0  \n",
       "3   http://data.kirjasampo.fi/actor_HarperCollins+...    NaN       0.0  \n",
       "4               http://data.kirjasampo.fi/actor_S%26S   26.0      26.0  \n",
       "..                                                ...    ...       ...  \n",
       "76  http://www.yso.fi/onto/kaunokki#Kustantaja_123...    8.0       8.0  \n",
       "77  http://www.yso.fi/onto/kaunokki#Kustantaja_123...   44.0      44.0  \n",
       "78  http://www.yso.fi/onto/kaunokki#Kustantaja_123...    NaN       0.0  \n",
       "79  http://www.yso.fi/onto/kaunokki#Kustantaja_146...   56.0      56.0  \n",
       "80  http://www.yso.fi/onto/kaunokki#Kustantaja_554...  102.0     102.0  \n",
       "\n",
       "[81 rows x 7 columns]"
      ]
     },
     "execution_count": 101,
     "metadata": {},
     "output_type": "execute_result"
    }
   ],
   "source": [
    "pub_profiles"
   ]
  },
  {
   "cell_type": "code",
   "execution_count": 126,
   "id": "5ff8c663",
   "metadata": {},
   "outputs": [],
   "source": [
    "pub_profiles[\"age\"]=pub_profiles[\"max\"]-pub_profiles[\"min\"]"
   ]
  },
  {
   "cell_type": "code",
   "execution_count": 127,
   "id": "6b688924",
   "metadata": {},
   "outputs": [],
   "source": [
    "pub_profiles[\"finnishness\"]=pub_profiles[\"novel_fi\"]/pub_profiles[\"novels\"]"
   ]
  },
  {
   "cell_type": "code",
   "execution_count": 185,
   "id": "3733e4b3",
   "metadata": {},
   "outputs": [],
   "source": [
    "pub_profiles[\"oldness\"]=2020-pub_profiles[\"min\"]#-pub_profiles[\"min\"]"
   ]
  },
  {
   "cell_type": "code",
   "execution_count": 205,
   "id": "1992e643",
   "metadata": {},
   "outputs": [
    {
     "data": {
      "text/html": [
       "<div>\n",
       "<style scoped>\n",
       "    .dataframe tbody tr th:only-of-type {\n",
       "        vertical-align: middle;\n",
       "    }\n",
       "\n",
       "    .dataframe tbody tr th {\n",
       "        vertical-align: top;\n",
       "    }\n",
       "\n",
       "    .dataframe thead th {\n",
       "        text-align: right;\n",
       "    }\n",
       "</style>\n",
       "<table border=\"1\" class=\"dataframe\">\n",
       "  <thead>\n",
       "    <tr style=\"text-align: right;\">\n",
       "      <th></th>\n",
       "      <th>min</th>\n",
       "      <th>max</th>\n",
       "      <th>novels</th>\n",
       "      <th>authors</th>\n",
       "      <th>publisher</th>\n",
       "      <th>pubName</th>\n",
       "      <th>novel</th>\n",
       "      <th>novel_fi</th>\n",
       "      <th>ikä</th>\n",
       "      <th>suom. osuus</th>\n",
       "      <th>oldness</th>\n",
       "    </tr>\n",
       "  </thead>\n",
       "  <tbody>\n",
       "    <tr>\n",
       "      <th>0</th>\n",
       "      <td>2018</td>\n",
       "      <td>2020</td>\n",
       "      <td>66</td>\n",
       "      <td>48</td>\n",
       "      <td>http://data.kirjasampo.fi/actor_Atrain+%26+Nord</td>\n",
       "      <td>[Atrain &amp; Nord, Atrain&amp;Nord]</td>\n",
       "      <td>61.0</td>\n",
       "      <td>61.0</td>\n",
       "      <td>2</td>\n",
       "      <td>0.924242</td>\n",
       "      <td>2</td>\n",
       "    </tr>\n",
       "    <tr>\n",
       "      <th>1</th>\n",
       "      <td>2016</td>\n",
       "      <td>2020</td>\n",
       "      <td>63</td>\n",
       "      <td>40</td>\n",
       "      <td>http://data.kirjasampo.fi/actor_Aula+%26+Co</td>\n",
       "      <td>[Aula &amp; Co, Kustannusosakeyhtiö Aula &amp; Co]</td>\n",
       "      <td>16.0</td>\n",
       "      <td>16.0</td>\n",
       "      <td>4</td>\n",
       "      <td>0.253968</td>\n",
       "      <td>4</td>\n",
       "    </tr>\n",
       "    <tr>\n",
       "      <th>2</th>\n",
       "      <td>2015</td>\n",
       "      <td>2020</td>\n",
       "      <td>54</td>\n",
       "      <td>43</td>\n",
       "      <td>http://data.kirjasampo.fi/actor_Aviador</td>\n",
       "      <td>[Aviador, Aviador Kustannus]</td>\n",
       "      <td>27.0</td>\n",
       "      <td>27.0</td>\n",
       "      <td>5</td>\n",
       "      <td>0.500000</td>\n",
       "      <td>5</td>\n",
       "    </tr>\n",
       "    <tr>\n",
       "      <th>3</th>\n",
       "      <td>2015</td>\n",
       "      <td>2020</td>\n",
       "      <td>293</td>\n",
       "      <td>152</td>\n",
       "      <td>http://data.kirjasampo.fi/actor_HarperCollins+...</td>\n",
       "      <td>[HarperCollins Nordic AB]</td>\n",
       "      <td>NaN</td>\n",
       "      <td>0.0</td>\n",
       "      <td>5</td>\n",
       "      <td>0.000000</td>\n",
       "      <td>5</td>\n",
       "    </tr>\n",
       "    <tr>\n",
       "      <th>4</th>\n",
       "      <td>2016</td>\n",
       "      <td>2020</td>\n",
       "      <td>82</td>\n",
       "      <td>51</td>\n",
       "      <td>http://data.kirjasampo.fi/actor_S%26S</td>\n",
       "      <td>[S&amp;S, Kustantamo S&amp;S]</td>\n",
       "      <td>26.0</td>\n",
       "      <td>26.0</td>\n",
       "      <td>4</td>\n",
       "      <td>0.317073</td>\n",
       "      <td>4</td>\n",
       "    </tr>\n",
       "    <tr>\n",
       "      <th>...</th>\n",
       "      <td>...</td>\n",
       "      <td>...</td>\n",
       "      <td>...</td>\n",
       "      <td>...</td>\n",
       "      <td>...</td>\n",
       "      <td>...</td>\n",
       "      <td>...</td>\n",
       "      <td>...</td>\n",
       "      <td>...</td>\n",
       "      <td>...</td>\n",
       "      <td>...</td>\n",
       "    </tr>\n",
       "    <tr>\n",
       "      <th>76</th>\n",
       "      <td>1997</td>\n",
       "      <td>2020</td>\n",
       "      <td>44</td>\n",
       "      <td>27</td>\n",
       "      <td>http://www.yso.fi/onto/kaunokki#Kustantaja_123...</td>\n",
       "      <td>[Nemo]</td>\n",
       "      <td>8.0</td>\n",
       "      <td>8.0</td>\n",
       "      <td>23</td>\n",
       "      <td>0.181818</td>\n",
       "      <td>23</td>\n",
       "    </tr>\n",
       "    <tr>\n",
       "      <th>77</th>\n",
       "      <td>1974</td>\n",
       "      <td>2020</td>\n",
       "      <td>92</td>\n",
       "      <td>37</td>\n",
       "      <td>http://www.yso.fi/onto/kaunokki#Kustantaja_123...</td>\n",
       "      <td>[Aikamedia]</td>\n",
       "      <td>44.0</td>\n",
       "      <td>44.0</td>\n",
       "      <td>46</td>\n",
       "      <td>0.478261</td>\n",
       "      <td>46</td>\n",
       "    </tr>\n",
       "    <tr>\n",
       "      <th>78</th>\n",
       "      <td>1986</td>\n",
       "      <td>2017</td>\n",
       "      <td>192</td>\n",
       "      <td>110</td>\n",
       "      <td>http://www.yso.fi/onto/kaunokki#Kustantaja_123...</td>\n",
       "      <td>[Harlequin]</td>\n",
       "      <td>NaN</td>\n",
       "      <td>0.0</td>\n",
       "      <td>31</td>\n",
       "      <td>0.000000</td>\n",
       "      <td>34</td>\n",
       "    </tr>\n",
       "    <tr>\n",
       "      <th>79</th>\n",
       "      <td>1987</td>\n",
       "      <td>2020</td>\n",
       "      <td>56</td>\n",
       "      <td>32</td>\n",
       "      <td>http://www.yso.fi/onto/kaunokki#Kustantaja_146...</td>\n",
       "      <td>[Suomen Rauhanyhdistysten Keskusyhdistys ry]</td>\n",
       "      <td>56.0</td>\n",
       "      <td>56.0</td>\n",
       "      <td>33</td>\n",
       "      <td>1.000000</td>\n",
       "      <td>33</td>\n",
       "    </tr>\n",
       "    <tr>\n",
       "      <th>80</th>\n",
       "      <td>1973</td>\n",
       "      <td>2020</td>\n",
       "      <td>102</td>\n",
       "      <td>14</td>\n",
       "      <td>http://www.yso.fi/onto/kaunokki#Kustantaja_554...</td>\n",
       "      <td>[Kolmiokirja]</td>\n",
       "      <td>102.0</td>\n",
       "      <td>102.0</td>\n",
       "      <td>47</td>\n",
       "      <td>1.000000</td>\n",
       "      <td>47</td>\n",
       "    </tr>\n",
       "  </tbody>\n",
       "</table>\n",
       "<p>81 rows × 11 columns</p>\n",
       "</div>"
      ],
      "text/plain": [
       "     min   max  novels  authors  \\\n",
       "0   2018  2020      66       48   \n",
       "1   2016  2020      63       40   \n",
       "2   2015  2020      54       43   \n",
       "3   2015  2020     293      152   \n",
       "4   2016  2020      82       51   \n",
       "..   ...   ...     ...      ...   \n",
       "76  1997  2020      44       27   \n",
       "77  1974  2020      92       37   \n",
       "78  1986  2017     192      110   \n",
       "79  1987  2020      56       32   \n",
       "80  1973  2020     102       14   \n",
       "\n",
       "                                            publisher  \\\n",
       "0     http://data.kirjasampo.fi/actor_Atrain+%26+Nord   \n",
       "1         http://data.kirjasampo.fi/actor_Aula+%26+Co   \n",
       "2             http://data.kirjasampo.fi/actor_Aviador   \n",
       "3   http://data.kirjasampo.fi/actor_HarperCollins+...   \n",
       "4               http://data.kirjasampo.fi/actor_S%26S   \n",
       "..                                                ...   \n",
       "76  http://www.yso.fi/onto/kaunokki#Kustantaja_123...   \n",
       "77  http://www.yso.fi/onto/kaunokki#Kustantaja_123...   \n",
       "78  http://www.yso.fi/onto/kaunokki#Kustantaja_123...   \n",
       "79  http://www.yso.fi/onto/kaunokki#Kustantaja_146...   \n",
       "80  http://www.yso.fi/onto/kaunokki#Kustantaja_554...   \n",
       "\n",
       "                                         pubName  novel  novel_fi  ikä  \\\n",
       "0                   [Atrain & Nord, Atrain&Nord]   61.0      61.0    2   \n",
       "1     [Aula & Co, Kustannusosakeyhtiö Aula & Co]   16.0      16.0    4   \n",
       "2                   [Aviador, Aviador Kustannus]   27.0      27.0    5   \n",
       "3                      [HarperCollins Nordic AB]    NaN       0.0    5   \n",
       "4                          [S&S, Kustantamo S&S]   26.0      26.0    4   \n",
       "..                                           ...    ...       ...  ...   \n",
       "76                                        [Nemo]    8.0       8.0   23   \n",
       "77                                   [Aikamedia]   44.0      44.0   46   \n",
       "78                                   [Harlequin]    NaN       0.0   31   \n",
       "79  [Suomen Rauhanyhdistysten Keskusyhdistys ry]   56.0      56.0   33   \n",
       "80                                 [Kolmiokirja]  102.0     102.0   47   \n",
       "\n",
       "    suom. osuus  oldness  \n",
       "0      0.924242        2  \n",
       "1      0.253968        4  \n",
       "2      0.500000        5  \n",
       "3      0.000000        5  \n",
       "4      0.317073        4  \n",
       "..          ...      ...  \n",
       "76     0.181818       23  \n",
       "77     0.478261       46  \n",
       "78     0.000000       34  \n",
       "79     1.000000       33  \n",
       "80     1.000000       47  \n",
       "\n",
       "[81 rows x 11 columns]"
      ]
     },
     "execution_count": 205,
     "metadata": {},
     "output_type": "execute_result"
    }
   ],
   "source": [
    "pub_profiles.rename({\"age\":\"ikä\",\"finnishness\":\"suom. osuus\"},axis=1)"
   ]
  },
  {
   "cell_type": "code",
   "execution_count": 209,
   "id": "aed46e4a",
   "metadata": {},
   "outputs": [
    {
     "data": {
      "image/png": "[encoded data removed]",
      "text/plain": [
       "<Figure size 864x432 with 1 Axes>"
      ]
     },
     "metadata": {
      "needs_background": "light"
     },
     "output_type": "display_data"
    }
   ],
   "source": [
    "fig, ax= plt.subplots(1,1,figsize=(12,6))\n",
    "\n",
    "\n",
    "ax=sns.scatterplot(y=\"novels\",x= \"min\",ax=ax, hue=\"suom. osuus\", data=pub_profiles.rename({\"age\":\"ikä\",\"finnishness\":\"suom. osuus\"},axis=1), \n",
    "                   palette=sns.color_palette(\"coolwarm_r\", as_cmap=True),\n",
    "                  s=60, alpha=0.7, \n",
    "                   size=\"ikä\", sizes=(10,300)\n",
    "                  )#, width=0.8)\n",
    "plt.legend(loc='best', \n",
    "           #bbox_to_anchor=(1.12, 0.5), \n",
    "         #  title=\"suom. osuus\",\n",
    "          ncol=1, fancybox=False, shadow=False)\n",
    "#plt.margins(0,0)\n",
    "#plt.yticks([0, 10, 100, 1000, 4000])\n",
    "plt.xlabel(\"Kustantajan toimintakausi ensimmäisen ja viimeisimmän julkaisuvuoden erotuksena\", fontsize=14)\n",
    "plt.ylabel(\"Julkaistujen romaanien lkm\", fontsize=14)\n",
    "ax.xaxis.set_tick_params(rotation=0)\n",
    "\n",
    "coordinates = [('WSOY',46.1,4950), ('Otava',46,4410), ('Tammi',45.7,3560), (\"Gummerus\",44.1,2380), (\"Karisto\",45.6,2150),\n",
    "               (\"Kustannus-Mäkelä\",34.2,710), (\"Like\", 30, 890)]\n",
    "for x in coordinates: plt.annotate(x[0], (x[1], x[2] ))"
   ]
  },
  {
   "cell_type": "code",
   "execution_count": 282,
   "id": "e19c063a",
   "metadata": {},
   "outputs": [],
   "source": [
    "from matplotlib import collections as matcoll"
   ]
  },
  {
   "cell_type": "code",
   "execution_count": 343,
   "id": "09fa1e92",
   "metadata": {},
   "outputs": [
    {
     "data": {
      "image/png": "[encoded data removed]",
      "text/plain": [
       "<Figure size 864x432 with 2 Axes>"
      ]
     },
     "metadata": {
      "needs_background": "light"
     },
     "output_type": "display_data"
    }
   ],
   "source": [
    "import matplotlib.pyplot as plt\n",
    "import numpy as np\n",
    "\n",
    "\n",
    "# 30 points between [0, 0.2) originally made using np.random.rand(30)*.2\n",
    "pts = np.array([\n",
    "    0.015, 0.166, 0.133, 0.159, 0.041, 0.024, 0.195, 0.039, 0.161, 0.018,\n",
    "    0.143, 0.056, 0.125, 0.096, 0.094, 0.051, 0.043, 0.021, 0.138, 0.075,\n",
    "    0.109, 0.195, 0.050, 0.074, 0.079, 0.155, 0.020, 0.010, 0.061, 0.008])\n",
    "\n",
    "# Now let's make two outlier points which are far away from everything.\n",
    "pts[[3, 14]] += .8\n",
    "\n",
    "# If we were to simply plot pts, we'd lose most of the interesting\n",
    "# details due to the outliers. So let's 'break' or 'cut-out' the y-axis\n",
    "# into two portions - use the top (ax) for the outliers, and the bottom\n",
    "# (ax2) for the details of the majority of our data\n",
    "fig, (ax, ax2) = plt.subplots(2, 1, sharex=True,figsize=(12,6))\n",
    "\n",
    "# plot the same data on both axes\n",
    "#ax.plot(pts)\n",
    "#ax2.plot(pts)\n",
    "\n",
    "lines=[]\n",
    "lines2=[]\n",
    "for start,end,novels in zip(pub_profiles[\"min\"],pub_profiles[\"max\"],pub_profiles[\"novels\"]):\n",
    "    #ax2.plot([start,novels],[end,novels],'b-', linewidth=2,color=\"red\")\n",
    "    if novels > 900:\n",
    "        lines.append([[start,novels],[end,novels]])\n",
    "    else:\n",
    "        lines2.append([[start,novels],[end,novels]])\n",
    "\n",
    "    \n",
    "linecoll = matcoll.LineCollection(lines, colors='k',alpha=0.1)\n",
    "linecoll2 = matcoll.LineCollection(lines2, colors='k',alpha=0.08)\n",
    "\n",
    "\n",
    "ax.add_collection(linecoll)\n",
    "ax2.add_collection(linecoll2)\n",
    "\n",
    "\n",
    "sns.scatterplot(y=\"novels\",x= \"min\",ax=ax, hue=\"suom. osuus\", data=pub_profiles.rename({\"age\":\"ikä\",\"finnishness\":\"suom. osuus\"},axis=1), \n",
    "                   palette=sns.color_palette(\"coolwarm_r\", as_cmap=True),\n",
    "                  s=60, alpha=0.9, \n",
    "                  # size=\"ikä\", sizes=(10,300)\n",
    "                  )\n",
    "\n",
    "sns.scatterplot(y=\"novels\",x= \"min\",ax=ax2, hue=\"suom. osuus\", data=pub_profiles.rename({\"age\":\"ikä\",\"finnishness\":\"suom. osuus\"},axis=1), \n",
    "                   palette=sns.color_palette(\"coolwarm_r\", as_cmap=True),\n",
    "                  s=60, alpha=0.9, \n",
    "                   #size=\"ikä\", sizes=(10,300)\n",
    "                  )\n",
    "\n",
    "plt.legend([], frameon=False)\n",
    "\n",
    "# zoom-in / limit the view to different portions of the data\n",
    "ax.set_ylim(1900, 5500)  # outliers only\n",
    "ax2.set_ylim(0, 1000)  # most of the data\n",
    "\n",
    "\n",
    "ax.set_xlim(1970,2021)  # outliers only\n",
    "ax2.set_xlim(1970,2021)  # most of the data\n",
    "\n",
    "# hide the spines between ax and ax2\n",
    "ax.spines['bottom'].set_visible(False)\n",
    "ax2.spines['top'].set_visible(False)\n",
    "ax.xaxis.tick_top()\n",
    "ax.tick_params(labeltop=False)  # don't put tick labels at the top\n",
    "ax2.xaxis.tick_bottom()\n",
    "\n",
    "\n",
    "\n",
    "\n",
    "#plt.margins(0,0)\n",
    "# This looks pretty good, and was fairly painless, but you can get that\n",
    "# cut-out diagonal lines look with just a bit more work. The important\n",
    "# thing to know here is that in axes coordinates, which are always\n",
    "# between 0-1, spine endpoints are at these locations (0,0), (0,1),\n",
    "# (1,0), and (1,1).  Thus, we just need to put the diagonals in the\n",
    "# appropriate corners of each of our axes, and so long as we use the\n",
    "# right transform and disable clipping.\n",
    "\n",
    "d = .015  # how big to make the diagonal lines in axes coordinates\n",
    "# arguments to pass to plot, just so we don't keep repeating them\n",
    "kwargs = dict(transform=ax.transAxes, color='k', clip_on=False)\n",
    "ax.plot((-d, +d), (-d, +d), **kwargs)        # top-left diagonal\n",
    "ax.plot((1 - d, 1 + d), (-d, +d), **kwargs)  # top-right diagonal\n",
    "\n",
    "kwargs.update(transform=ax2.transAxes)  # switch to the bottom axes\n",
    "ax2.plot((-d, +d), (1 - d, 1 + d), **kwargs)  # bottom-left diagonal\n",
    "ax2.plot((1 - d, 1 + d), (1 - d, 1 + d), **kwargs)  # bottom-right diagonal\n",
    "\n",
    "# What's cool about this is that now if we vary the distance between\n",
    "# ax and ax2 via f.subplots_adjust(hspace=...) or plt.subplot_tool(),\n",
    "# the diagonal lines will move accordingly, and stay right at the tips\n",
    "# of the spines they are 'breaking'\n",
    "plt.legend([], frameon=False)\n",
    "\n",
    "plt.legend(loc='center', \n",
    "           bbox_to_anchor=(0.93, 1.8), \n",
    "         #  title=\"suom. osuus\",\n",
    "          ncol=1, fancybox=False, shadow=False)\n",
    "#plt.show()\n",
    "\n",
    "ax.legend(\"\", frameon=False)\n",
    "ax.set_ylabel(\"\")\n",
    "plt.xlabel(\"Kustantajan aloitusvuosi\", fontsize=12)\n",
    "plt.ylabel(\"                              Julkaistujen romaanien lkm\", fontsize=12)\n",
    "\n",
    "coordinates = [('WSOY',1971.5,4950), ('Otava',1971.5,4420), ('Tammi',1971.5,3590), (\"Gummerus\",1971.5,2380), (\"Karisto\",1971.5,2000),\n",
    "            #   (\"Kustannus-Mäkelä\",34.2,710), (\"Like\", 30, 890)\n",
    "              ]\n",
    "for x in coordinates: ax.annotate(x[0], (x[1], x[2] ))\n",
    "\n",
    "    \n",
    "coordinates2 = [#('WSOY',1971.5,4950), ('Otava',1971.5,4420), ('Tammi',1971.5,3590), (\"Gummerus\",1971.5,2380), (\"Karisto\",1971.5,2000),\n",
    "               (\"Kustannus-Mäkelä\",1978.5,730), (\"Like\", 1986, 890), (\"Myllylahti\", 1997.5,470), (\"HarperCollins Nordic\", 2011.5, 370)\n",
    "              ]\n",
    "for x in coordinates2: ax2.annotate(x[0], (x[1], x[2] ))\n",
    "    \n",
    "    \n",
    "#fig.tight_layout()\n",
    "plt.savefig(\"../../output/publisher_age2.png\")"
   ]
  },
  {
   "cell_type": "code",
   "execution_count": 321,
   "id": "fd1114f3",
   "metadata": {},
   "outputs": [
    {
     "data": {
      "application/vnd.plotly.v1+json": {
       "config": {
        "plotlyServerURL": "https://plot.ly"
       },
       "data": [
        {
         "customdata": [
          [
           [
            "Atrain & Nord",
            "Atrain&Nord"
           ]
          ],
          [
           [
            "Aula & Co",
            "Kustannusosakeyhtiö Aula & Co"
           ]
          ],
          [
           [
            "Aviador",
            "Aviador Kustannus"
           ]
          ],
          [
           [
            "HarperCollins Nordic AB"
           ]
          ],
          [
           [
            "S&S",
            "Kustantamo S&S"
           ]
          ],
          [
           [
            "Tiberius kirjat"
           ]
          ],
          [
           [
            "Väyläkirjat"
           ]
          ],
          [
           [
            "Minerva Kustannus"
           ]
          ],
          [
           [
            "Stabenfeldt",
            "Stabenfeldt AB"
           ]
          ],
          [
           [
            "Schildts & Söderströms"
           ]
          ],
          [
           [
            "Aurinko Kustannus"
           ]
          ],
          [
           [
            "Crime Time"
           ]
          ],
          [
           [
            "Into Kustannus",
            "Into Kustannus Oy"
           ]
          ],
          [
           [
            "Kustannusosakeyhtiö Hai"
           ]
          ],
          [
           [
            "Kvaliti"
           ]
          ],
          [
           [
            "Reuna",
            "Reuna Oy"
           ]
          ],
          [
           [
            "Sanoma Magazines Finland"
           ]
          ],
          [
           [
            "Nordbooks"
           ]
          ],
          [
           [
            "Siltala"
           ]
          ],
          [
           [
            "Gummerus",
            "Gummerus Kustannus Oy"
           ]
          ],
          [
           [
            "Tammi",
            "Kustannusosakeyhtiö Tammi"
           ]
          ],
          [
           [
            "Book Studio"
           ]
          ],
          [
           [
            "Myllylahti",
            "Myllylahti Oy"
           ]
          ],
          [
           [
            "Kirjapaja"
           ]
          ],
          [
           [
            "Päivä Osakeyhtiö"
           ]
          ],
          [
           [
            "Readme.fi"
           ]
          ],
          [
           [
            "Kirjayhtymä"
           ]
          ],
          [
           [
            "Seaflower"
           ]
          ],
          [
           [
            "Viihdeviikarit"
           ]
          ],
          [
           [
            "Avain"
           ]
          ],
          [
           [
            "Perussanoma"
           ]
          ],
          [
           [
            "Kirjaneliö"
           ]
          ],
          [
           [
            "Blue Moon"
           ]
          ],
          [
           [
            "Kustannus-Mäkelä"
           ]
          ],
          [
           [
            "Kirjaviihde"
           ]
          ],
          [
           [
            "Love kirjat"
           ]
          ],
          [
           [
            "Kirjokansi"
           ]
          ],
          [
           [
            "MC-Pilot"
           ]
          ],
          [
           [
            "Kesuura Oy"
           ]
          ],
          [
           [
            "Kauppiaitten kustannus"
           ]
          ],
          [
           [
            "Ilias"
           ]
          ],
          [
           [
            "Loki-Kirjat"
           ]
          ],
          [
           [
            "Enostone",
            "Enostone Kustannus"
           ]
          ],
          [
           [
            "Atena Kustannus Oy"
           ]
          ],
          [
           [
            "Robustos"
           ]
          ],
          [
           [
            "Karas-Sana Oy"
           ]
          ],
          [
           [
            "Bazar"
           ]
          ],
          [
           [
            "Lasten Keskus"
           ]
          ],
          [
           [
            "Kirjalito"
           ]
          ],
          [
           [
            "Johnny Kniga"
           ]
          ],
          [
           [
            "Herättäjä-yhdistys"
           ]
          ],
          [
           [
            "ntamo"
           ]
          ],
          [
           [
            "Taikajousi"
           ]
          ],
          [
           [
            "Basam Books",
            "Basam Books Oy"
           ]
          ],
          [
           [
            "Lurra Editions"
           ]
          ],
          [
           [
            "Aika"
           ]
          ],
          [
           [
            "SLEY"
           ]
          ],
          [
           [
            "Vaskikirjat"
           ]
          ],
          [
           [
            "Jalava",
            "Kustannus Jalava"
           ]
          ],
          [
           [
            "Pilot-kustannus"
           ]
          ],
          [
           [
            "WSOY"
           ]
          ],
          [
           [
            "Otava",
            "Kustannusosakeyhtiö Otava"
           ]
          ],
          [
           [
            "Art House"
           ]
          ],
          [
           [
            "Like"
           ]
          ],
          [
           [
            "Arktinen Banaani"
           ]
          ],
          [
           [
            "Weilin + Göös"
           ]
          ],
          [
           [
            "SanaSato",
            "Sanasato"
           ]
          ],
          [
           [
            "Kustannus HD"
           ]
          ],
          [
           [
            "Helsinki Media"
           ]
          ],
          [
           [
            "Kustannusosakeyhtiö Teos"
           ]
          ],
          [
           [
            "RV-kirjat"
           ]
          ],
          [
           [
            "Karisto Oy"
           ]
          ],
          [
           [
            "Pohjoinen"
           ]
          ],
          [
           [
            "FinnEpos"
           ]
          ],
          [
           [
            "Schildts",
            "Schildt"
           ]
          ],
          [
           [
            "Sammakko",
            "Kustannusosakeyhtiö Sammakko"
           ]
          ],
          [
           [
            "Nemo"
           ]
          ],
          [
           [
            "Aikamedia"
           ]
          ],
          [
           [
            "Harlequin"
           ]
          ],
          [
           [
            "Suomen Rauhanyhdistysten Keskusyhdistys ry"
           ]
          ],
          [
           [
            "Kolmiokirja"
           ]
          ]
         ],
         "hovertemplate": "min=%{x}<br>novels=%{y}<br>pubName=%{customdata[0]}<br>finnishness=%{marker.color}<extra></extra>",
         "legendgroup": "",
         "marker": {
          "color": [
           0.9242424242424242,
           0.25396825396825395,
           0.5,
           0,
           0.3170731707317073,
           0.22580645161290322,
           1,
           0.4406779661016949,
           0.0028089887640449437,
           0.13636363636363635,
           0.1568627450980392,
           0.9595959595959596,
           0.35789473684210527,
           1,
           1,
           0.9423076923076923,
           0,
           0.9923664122137404,
           0.5384615384615384,
           0.32205513784461154,
           0.432115974351826,
           0.030959752321981424,
           0.9978354978354979,
           0.7718446601941747,
           0.6086956521739131,
           0.15384615384615385,
           0.4375,
           0.9508196721311475,
           0.060810810810810814,
           0.6565656565656566,
           0.22916666666666666,
           0.6571428571428571,
           0,
           0.38613861386138615,
           0.06363636363636363,
           0.029411764705882353,
           0.9555555555555556,
           0.9736842105263158,
           1,
           0.9166666666666666,
           1,
           0.18181818181818182,
           0.96875,
           0.618421052631579,
           1,
           0.7105263157894737,
           0.12179487179487179,
           0.5405405405405406,
           0.05128205128205128,
           0.4513888888888889,
           1,
           0.9491525423728814,
           0.07692307692307693,
           0.15126050420168066,
           0.18,
           0.375,
           0.5952380952380952,
           0.3333333333333333,
           0.043478260869565216,
           0.9931972789115646,
           0.3909200482121334,
           0.40867012869722286,
           0.248,
           0.28717366628830876,
           0.7884615384615384,
           0.3952941176470588,
           0.9743589743589743,
           1,
           0,
           0.7665369649805448,
           0.5265700483091788,
           0.44808743169398907,
           0.873015873015873,
           0.967741935483871,
           0.07352941176470588,
           0.22,
           0.18181818181818182,
           0.4782608695652174,
           0,
           1,
           1
          ],
          "coloraxis": "coloraxis",
          "symbol": "circle"
         },
         "mode": "markers",
         "name": "",
         "orientation": "v",
         "showlegend": false,
         "type": "scatter",
         "x": [
          2018,
          2016,
          2015,
          2015,
          2016,
          2017,
          2013,
          2003,
          1997,
          2012,
          2010,
          2011,
          2011,
          2012,
          2012,
          2013,
          2001,
          2008,
          2008,
          1971,
          1971,
          1988,
          1997,
          1971,
          1972,
          2006,
          1971,
          1991,
          1981,
          2004,
          1989,
          1971,
          2001,
          1978,
          1994,
          1977,
          2015,
          2000,
          1992,
          1971,
          1999,
          1993,
          2001,
          1989,
          2007,
          1974,
          2002,
          1978,
          1992,
          2002,
          1971,
          2007,
          1971,
          1994,
          2003,
          1995,
          1971,
          2007,
          1982,
          2003,
          1971,
          1971,
          1987,
          1988,
          2009,
          1971,
          1997,
          2005,
          1998,
          2004,
          1971,
          1971,
          1971,
          1990,
          1992,
          1999,
          1997,
          1974,
          1986,
          1987,
          1973
         ],
         "xaxis": "x",
         "y": [
          66,
          63,
          54,
          293,
          82,
          31,
          36,
          177,
          356,
          44,
          51,
          99,
          95,
          32,
          42,
          104,
          254,
          262,
          117,
          2394,
          3587,
          323,
          462,
          206,
          115,
          52,
          448,
          61,
          148,
          99,
          48,
          35,
          84,
          707,
          110,
          34,
          45,
          38,
          52,
          60,
          30,
          66,
          32,
          152,
          38,
          38,
          312,
          148,
          39,
          144,
          32,
          59,
          39,
          119,
          50,
          48,
          84,
          30,
          276,
          147,
          4978,
          4429,
          125,
          881,
          52,
          425,
          39,
          115,
          42,
          257,
          207,
          2196,
          63,
          31,
          68,
          100,
          44,
          92,
          192,
          56,
          102
         ],
         "yaxis": "y"
        }
       ],
       "layout": {
        "coloraxis": {
         "colorbar": {
          "title": {
           "text": "finnishness"
          }
         },
         "colorscale": [
          [
           0,
           "#0d0887"
          ],
          [
           0.1111111111111111,
           "#46039f"
          ],
          [
           0.2222222222222222,
           "#7201a8"
          ],
          [
           0.3333333333333333,
           "#9c179e"
          ],
          [
           0.4444444444444444,
           "#bd3786"
          ],
          [
           0.5555555555555556,
           "#d8576b"
          ],
          [
           0.6666666666666666,
           "#ed7953"
          ],
          [
           0.7777777777777778,
           "#fb9f3a"
          ],
          [
           0.8888888888888888,
           "#fdca26"
          ],
          [
           1,
           "#f0f921"
          ]
         ]
        },
        "legend": {
         "tracegroupgap": 0
        },
        "margin": {
         "t": 60
        },
        "template": {
         "data": {
          "bar": [
           {
            "error_x": {
             "color": "#2a3f5f"
            },
            "error_y": {
             "color": "#2a3f5f"
            },
            "marker": {
             "line": {
              "color": "#E5ECF6",
              "width": 0.5
             },
             "pattern": {
              "fillmode": "overlay",
              "size": 10,
              "solidity": 0.2
             }
            },
            "type": "bar"
           }
          ],
          "barpolar": [
           {
            "marker": {
             "line": {
              "color": "#E5ECF6",
              "width": 0.5
             },
             "pattern": {
              "fillmode": "overlay",
              "size": 10,
              "solidity": 0.2
             }
            },
            "type": "barpolar"
           }
          ],
          "carpet": [
           {
            "aaxis": {
             "endlinecolor": "#2a3f5f",
             "gridcolor": "white",
             "linecolor": "white",
             "minorgridcolor": "white",
             "startlinecolor": "#2a3f5f"
            },
            "baxis": {
             "endlinecolor": "#2a3f5f",
             "gridcolor": "white",
             "linecolor": "white",
             "minorgridcolor": "white",
             "startlinecolor": "#2a3f5f"
            },
            "type": "carpet"
           }
          ],
          "choropleth": [
           {
            "colorbar": {
             "outlinewidth": 0,
             "ticks": ""
            },
            "type": "choropleth"
           }
          ],
          "contour": [
           {
            "colorbar": {
             "outlinewidth": 0,
             "ticks": ""
            },
            "colorscale": [
             [
              0,
              "#0d0887"
             ],
             [
              0.1111111111111111,
              "#46039f"
             ],
             [
              0.2222222222222222,
              "#7201a8"
             ],
             [
              0.3333333333333333,
              "#9c179e"
             ],
             [
              0.4444444444444444,
              "#bd3786"
             ],
             [
              0.5555555555555556,
              "#d8576b"
             ],
             [
              0.6666666666666666,
              "#ed7953"
             ],
             [
              0.7777777777777778,
              "#fb9f3a"
             ],
             [
              0.8888888888888888,
              "#fdca26"
             ],
             [
              1,
              "#f0f921"
             ]
            ],
            "type": "contour"
           }
          ],
          "contourcarpet": [
           {
            "colorbar": {
             "outlinewidth": 0,
             "ticks": ""
            },
            "type": "contourcarpet"
           }
          ],
          "heatmap": [
           {
            "colorbar": {
             "outlinewidth": 0,
             "ticks": ""
            },
            "colorscale": [
             [
              0,
              "#0d0887"
             ],
             [
              0.1111111111111111,
              "#46039f"
             ],
             [
              0.2222222222222222,
              "#7201a8"
             ],
             [
              0.3333333333333333,
              "#9c179e"
             ],
             [
              0.4444444444444444,
              "#bd3786"
             ],
             [
              0.5555555555555556,
              "#d8576b"
             ],
             [
              0.6666666666666666,
              "#ed7953"
             ],
             [
              0.7777777777777778,
              "#fb9f3a"
             ],
             [
              0.8888888888888888,
              "#fdca26"
             ],
             [
              1,
              "#f0f921"
             ]
            ],
            "type": "heatmap"
           }
          ],
          "heatmapgl": [
           {
            "colorbar": {
             "outlinewidth": 0,
             "ticks": ""
            },
            "colorscale": [
             [
              0,
              "#0d0887"
             ],
             [
              0.1111111111111111,
              "#46039f"
             ],
             [
              0.2222222222222222,
              "#7201a8"
             ],
             [
              0.3333333333333333,
              "#9c179e"
             ],
             [
              0.4444444444444444,
              "#bd3786"
             ],
             [
              0.5555555555555556,
              "#d8576b"
             ],
             [
              0.6666666666666666,
              "#ed7953"
             ],
             [
              0.7777777777777778,
              "#fb9f3a"
             ],
             [
              0.8888888888888888,
              "#fdca26"
             ],
             [
              1,
              "#f0f921"
             ]
            ],
            "type": "heatmapgl"
           }
          ],
          "histogram": [
           {
            "marker": {
             "pattern": {
              "fillmode": "overlay",
              "size": 10,
              "solidity": 0.2
             }
            },
            "type": "histogram"
           }
          ],
          "histogram2d": [
           {
            "colorbar": {
             "outlinewidth": 0,
             "ticks": ""
            },
            "colorscale": [
             [
              0,
              "#0d0887"
             ],
             [
              0.1111111111111111,
              "#46039f"
             ],
             [
              0.2222222222222222,
              "#7201a8"
             ],
             [
              0.3333333333333333,
              "#9c179e"
             ],
             [
              0.4444444444444444,
              "#bd3786"
             ],
             [
              0.5555555555555556,
              "#d8576b"
             ],
             [
              0.6666666666666666,
              "#ed7953"
             ],
             [
              0.7777777777777778,
              "#fb9f3a"
             ],
             [
              0.8888888888888888,
              "#fdca26"
             ],
             [
              1,
              "#f0f921"
             ]
            ],
            "type": "histogram2d"
           }
          ],
          "histogram2dcontour": [
           {
            "colorbar": {
             "outlinewidth": 0,
             "ticks": ""
            },
            "colorscale": [
             [
              0,
              "#0d0887"
             ],
             [
              0.1111111111111111,
              "#46039f"
             ],
             [
              0.2222222222222222,
              "#7201a8"
             ],
             [
              0.3333333333333333,
              "#9c179e"
             ],
             [
              0.4444444444444444,
              "#bd3786"
             ],
             [
              0.5555555555555556,
              "#d8576b"
             ],
             [
              0.6666666666666666,
              "#ed7953"
             ],
             [
              0.7777777777777778,
              "#fb9f3a"
             ],
             [
              0.8888888888888888,
              "#fdca26"
             ],
             [
              1,
              "#f0f921"
             ]
            ],
            "type": "histogram2dcontour"
           }
          ],
          "mesh3d": [
           {
            "colorbar": {
             "outlinewidth": 0,
             "ticks": ""
            },
            "type": "mesh3d"
           }
          ],
          "parcoords": [
           {
            "line": {
             "colorbar": {
              "outlinewidth": 0,
              "ticks": ""
             }
            },
            "type": "parcoords"
           }
          ],
          "pie": [
           {
            "automargin": true,
            "type": "pie"
           }
          ],
          "scatter": [
           {
            "fillpattern": {
             "fillmode": "overlay",
             "size": 10,
             "solidity": 0.2
            },
            "type": "scatter"
           }
          ],
          "scatter3d": [
           {
            "line": {
             "colorbar": {
              "outlinewidth": 0,
              "ticks": ""
             }
            },
            "marker": {
             "colorbar": {
              "outlinewidth": 0,
              "ticks": ""
             }
            },
            "type": "scatter3d"
           }
          ],
          "scattercarpet": [
           {
            "marker": {
             "colorbar": {
              "outlinewidth": 0,
              "ticks": ""
             }
            },
            "type": "scattercarpet"
           }
          ],
          "scattergeo": [
           {
            "marker": {
             "colorbar": {
              "outlinewidth": 0,
              "ticks": ""
             }
            },
            "type": "scattergeo"
           }
          ],
          "scattergl": [
           {
            "marker": {
             "colorbar": {
              "outlinewidth": 0,
              "ticks": ""
             }
            },
            "type": "scattergl"
           }
          ],
          "scattermapbox": [
           {
            "marker": {
             "colorbar": {
              "outlinewidth": 0,
              "ticks": ""
             }
            },
            "type": "scattermapbox"
           }
          ],
          "scatterpolar": [
           {
            "marker": {
             "colorbar": {
              "outlinewidth": 0,
              "ticks": ""
             }
            },
            "type": "scatterpolar"
           }
          ],
          "scatterpolargl": [
           {
            "marker": {
             "colorbar": {
              "outlinewidth": 0,
              "ticks": ""
             }
            },
            "type": "scatterpolargl"
           }
          ],
          "scatterternary": [
           {
            "marker": {
             "colorbar": {
              "outlinewidth": 0,
              "ticks": ""
             }
            },
            "type": "scatterternary"
           }
          ],
          "surface": [
           {
            "colorbar": {
             "outlinewidth": 0,
             "ticks": ""
            },
            "colorscale": [
             [
              0,
              "#0d0887"
             ],
             [
              0.1111111111111111,
              "#46039f"
             ],
             [
              0.2222222222222222,
              "#7201a8"
             ],
             [
              0.3333333333333333,
              "#9c179e"
             ],
             [
              0.4444444444444444,
              "#bd3786"
             ],
             [
              0.5555555555555556,
              "#d8576b"
             ],
             [
              0.6666666666666666,
              "#ed7953"
             ],
             [
              0.7777777777777778,
              "#fb9f3a"
             ],
             [
              0.8888888888888888,
              "#fdca26"
             ],
             [
              1,
              "#f0f921"
             ]
            ],
            "type": "surface"
           }
          ],
          "table": [
           {
            "cells": {
             "fill": {
              "color": "#EBF0F8"
             },
             "line": {
              "color": "white"
             }
            },
            "header": {
             "fill": {
              "color": "#C8D4E3"
             },
             "line": {
              "color": "white"
             }
            },
            "type": "table"
           }
          ]
         },
         "layout": {
          "annotationdefaults": {
           "arrowcolor": "#2a3f5f",
           "arrowhead": 0,
           "arrowwidth": 1
          },
          "autotypenumbers": "strict",
          "coloraxis": {
           "colorbar": {
            "outlinewidth": 0,
            "ticks": ""
           }
          },
          "colorscale": {
           "diverging": [
            [
             0,
             "#8e0152"
            ],
            [
             0.1,
             "#c51b7d"
            ],
            [
             0.2,
             "#de77ae"
            ],
            [
             0.3,
             "#f1b6da"
            ],
            [
             0.4,
             "#fde0ef"
            ],
            [
             0.5,
             "#f7f7f7"
            ],
            [
             0.6,
             "#e6f5d0"
            ],
            [
             0.7,
             "#b8e186"
            ],
            [
             0.8,
             "#7fbc41"
            ],
            [
             0.9,
             "#4d9221"
            ],
            [
             1,
             "#276419"
            ]
           ],
           "sequential": [
            [
             0,
             "#0d0887"
            ],
            [
             0.1111111111111111,
             "#46039f"
            ],
            [
             0.2222222222222222,
             "#7201a8"
            ],
            [
             0.3333333333333333,
             "#9c179e"
            ],
            [
             0.4444444444444444,
             "#bd3786"
            ],
            [
             0.5555555555555556,
             "#d8576b"
            ],
            [
             0.6666666666666666,
             "#ed7953"
            ],
            [
             0.7777777777777778,
             "#fb9f3a"
            ],
            [
             0.8888888888888888,
             "#fdca26"
            ],
            [
             1,
             "#f0f921"
            ]
           ],
           "sequentialminus": [
            [
             0,
             "#0d0887"
            ],
            [
             0.1111111111111111,
             "#46039f"
            ],
            [
             0.2222222222222222,
             "#7201a8"
            ],
            [
             0.3333333333333333,
             "#9c179e"
            ],
            [
             0.4444444444444444,
             "#bd3786"
            ],
            [
             0.5555555555555556,
             "#d8576b"
            ],
            [
             0.6666666666666666,
             "#ed7953"
            ],
            [
             0.7777777777777778,
             "#fb9f3a"
            ],
            [
             0.8888888888888888,
             "#fdca26"
            ],
            [
             1,
             "#f0f921"
            ]
           ]
          },
          "colorway": [
           "#636efa",
           "#EF553B",
           "#00cc96",
           "#ab63fa",
           "#FFA15A",
           "#19d3f3",
           "#FF6692",
           "#B6E880",
           "#FF97FF",
           "#FECB52"
          ],
          "font": {
           "color": "#2a3f5f"
          },
          "geo": {
           "bgcolor": "white",
           "lakecolor": "white",
           "landcolor": "#E5ECF6",
           "showlakes": true,
           "showland": true,
           "subunitcolor": "white"
          },
          "hoverlabel": {
           "align": "left"
          },
          "hovermode": "closest",
          "mapbox": {
           "style": "light"
          },
          "paper_bgcolor": "white",
          "plot_bgcolor": "#E5ECF6",
          "polar": {
           "angularaxis": {
            "gridcolor": "white",
            "linecolor": "white",
            "ticks": ""
           },
           "bgcolor": "#E5ECF6",
           "radialaxis": {
            "gridcolor": "white",
            "linecolor": "white",
            "ticks": ""
           }
          },
          "scene": {
           "xaxis": {
            "backgroundcolor": "#E5ECF6",
            "gridcolor": "white",
            "gridwidth": 2,
            "linecolor": "white",
            "showbackground": true,
            "ticks": "",
            "zerolinecolor": "white"
           },
           "yaxis": {
            "backgroundcolor": "#E5ECF6",
            "gridcolor": "white",
            "gridwidth": 2,
            "linecolor": "white",
            "showbackground": true,
            "ticks": "",
            "zerolinecolor": "white"
           },
           "zaxis": {
            "backgroundcolor": "#E5ECF6",
            "gridcolor": "white",
            "gridwidth": 2,
            "linecolor": "white",
            "showbackground": true,
            "ticks": "",
            "zerolinecolor": "white"
           }
          },
          "shapedefaults": {
           "line": {
            "color": "#2a3f5f"
           }
          },
          "ternary": {
           "aaxis": {
            "gridcolor": "white",
            "linecolor": "white",
            "ticks": ""
           },
           "baxis": {
            "gridcolor": "white",
            "linecolor": "white",
            "ticks": ""
           },
           "bgcolor": "#E5ECF6",
           "caxis": {
            "gridcolor": "white",
            "linecolor": "white",
            "ticks": ""
           }
          },
          "title": {
           "x": 0.05
          },
          "xaxis": {
           "automargin": true,
           "gridcolor": "white",
           "linecolor": "white",
           "ticks": "",
           "title": {
            "standoff": 15
           },
           "zerolinecolor": "white",
           "zerolinewidth": 2
          },
          "yaxis": {
           "automargin": true,
           "gridcolor": "white",
           "linecolor": "white",
           "ticks": "",
           "title": {
            "standoff": 15
           },
           "zerolinecolor": "white",
           "zerolinewidth": 2
          }
         }
        },
        "xaxis": {
         "anchor": "y",
         "domain": [
          0,
          1
         ],
         "title": {
          "text": "min"
         }
        },
        "yaxis": {
         "anchor": "x",
         "domain": [
          0,
          1
         ],
         "title": {
          "text": "novels"
         }
        }
       }
      },
      "text/html": [
       "<div>                            <div id=\"b49c4ca1-ccd5-4664-aded-c850820eee25\" class=\"plotly-graph-div\" style=\"height:525px; width:100%;\"></div>            <script type=\"text/javascript\">                require([\"plotly\"], function(Plotly) {                    window.PLOTLYENV=window.PLOTLYENV || {};                                    if (document.getElementById(\"b49c4ca1-ccd5-4664-aded-c850820eee25\")) {                    Plotly.newPlot(                        \"b49c4ca1-ccd5-4664-aded-c850820eee25\",                        [{\"customdata\":[[[\"Atrain & Nord\",\"Atrain&Nord\"]],[[\"Aula & Co\",\"Kustannusosakeyhti\\u00f6 Aula & Co\"]],[[\"Aviador\",\"Aviador Kustannus\"]],[[\"HarperCollins Nordic AB\"]],[[\"S&S\",\"Kustantamo S&S\"]],[[\"Tiberius kirjat\"]],[[\"V\\u00e4yl\\u00e4kirjat\"]],[[\"Minerva Kustannus\"]],[[\"Stabenfeldt\",\"Stabenfeldt AB\"]],[[\"Schildts & S\\u00f6derstr\\u00f6ms\"]],[[\"Aurinko Kustannus\"]],[[\"Crime Time\"]],[[\"Into Kustannus\",\"Into Kustannus Oy\"]],[[\"Kustannusosakeyhti\\u00f6 Hai\"]],[[\"Kvaliti\"]],[[\"Reuna\",\"Reuna Oy\"]],[[\"Sanoma Magazines Finland\"]],[[\"Nordbooks\"]],[[\"Siltala\"]],[[\"Gummerus\",\"Gummerus Kustannus Oy\"]],[[\"Tammi\",\"Kustannusosakeyhti\\u00f6 Tammi\"]],[[\"Book Studio\"]],[[\"Myllylahti\",\"Myllylahti Oy\"]],[[\"Kirjapaja\"]],[[\"P\\u00e4iv\\u00e4 Osakeyhti\\u00f6\"]],[[\"Readme.fi\"]],[[\"Kirjayhtym\\u00e4\"]],[[\"Seaflower\"]],[[\"Viihdeviikarit\"]],[[\"Avain\"]],[[\"Perussanoma\"]],[[\"Kirjaneli\\u00f6\"]],[[\"Blue Moon\"]],[[\"Kustannus-M\\u00e4kel\\u00e4\"]],[[\"Kirjaviihde\"]],[[\"Love kirjat\"]],[[\"Kirjokansi\"]],[[\"MC-Pilot\"]],[[\"Kesuura Oy\"]],[[\"Kauppiaitten kustannus\"]],[[\"Ilias\"]],[[\"Loki-Kirjat\"]],[[\"Enostone\",\"Enostone Kustannus\"]],[[\"Atena Kustannus Oy\"]],[[\"Robustos\"]],[[\"Karas-Sana Oy\"]],[[\"Bazar\"]],[[\"Lasten Keskus\"]],[[\"Kirjalito\"]],[[\"Johnny Kniga\"]],[[\"Her\\u00e4tt\\u00e4j\\u00e4-yhdistys\"]],[[\"ntamo\"]],[[\"Taikajousi\"]],[[\"Basam Books\",\"Basam Books Oy\"]],[[\"Lurra Editions\"]],[[\"Aika\"]],[[\"SLEY\"]],[[\"Vaskikirjat\"]],[[\"Jalava\",\"Kustannus Jalava\"]],[[\"Pilot-kustannus\"]],[[\"WSOY\"]],[[\"Otava\",\"Kustannusosakeyhti\\u00f6 Otava\"]],[[\"Art House\"]],[[\"Like\"]],[[\"Arktinen Banaani\"]],[[\"Weilin + G\\u00f6\\u00f6s\"]],[[\"SanaSato\",\"Sanasato\"]],[[\"Kustannus HD\"]],[[\"Helsinki Media\"]],[[\"Kustannusosakeyhti\\u00f6 Teos\"]],[[\"RV-kirjat\"]],[[\"Karisto Oy\"]],[[\"Pohjoinen\"]],[[\"FinnEpos\"]],[[\"Schildts\",\"Schildt\"]],[[\"Sammakko\",\"Kustannusosakeyhti\\u00f6 Sammakko\"]],[[\"Nemo\"]],[[\"Aikamedia\"]],[[\"Harlequin\"]],[[\"Suomen Rauhanyhdistysten Keskusyhdistys ry\"]],[[\"Kolmiokirja\"]]],\"hovertemplate\":\"min=%{x}<br>novels=%{y}<br>pubName=%{customdata[0]}<br>finnishness=%{marker.color}<extra></extra>\",\"legendgroup\":\"\",\"marker\":{\"color\":[0.9242424242424242,0.25396825396825395,0.5,0.0,0.3170731707317073,0.22580645161290322,1.0,0.4406779661016949,0.0028089887640449437,0.13636363636363635,0.1568627450980392,0.9595959595959596,0.35789473684210527,1.0,1.0,0.9423076923076923,0.0,0.9923664122137404,0.5384615384615384,0.32205513784461154,0.432115974351826,0.030959752321981424,0.9978354978354979,0.7718446601941747,0.6086956521739131,0.15384615384615385,0.4375,0.9508196721311475,0.060810810810810814,0.6565656565656566,0.22916666666666666,0.6571428571428571,0.0,0.38613861386138615,0.06363636363636363,0.029411764705882353,0.9555555555555556,0.9736842105263158,1.0,0.9166666666666666,1.0,0.18181818181818182,0.96875,0.618421052631579,1.0,0.7105263157894737,0.12179487179487179,0.5405405405405406,0.05128205128205128,0.4513888888888889,1.0,0.9491525423728814,0.07692307692307693,0.15126050420168066,0.18,0.375,0.5952380952380952,0.3333333333333333,0.043478260869565216,0.9931972789115646,0.3909200482121334,0.40867012869722286,0.248,0.28717366628830876,0.7884615384615384,0.3952941176470588,0.9743589743589743,1.0,0.0,0.7665369649805448,0.5265700483091788,0.44808743169398907,0.873015873015873,0.967741935483871,0.07352941176470588,0.22,0.18181818181818182,0.4782608695652174,0.0,1.0,1.0],\"coloraxis\":\"coloraxis\",\"symbol\":\"circle\"},\"mode\":\"markers\",\"name\":\"\",\"orientation\":\"v\",\"showlegend\":false,\"x\":[2018,2016,2015,2015,2016,2017,2013,2003,1997,2012,2010,2011,2011,2012,2012,2013,2001,2008,2008,1971,1971,1988,1997,1971,1972,2006,1971,1991,1981,2004,1989,1971,2001,1978,1994,1977,2015,2000,1992,1971,1999,1993,2001,1989,2007,1974,2002,1978,1992,2002,1971,2007,1971,1994,2003,1995,1971,2007,1982,2003,1971,1971,1987,1988,2009,1971,1997,2005,1998,2004,1971,1971,1971,1990,1992,1999,1997,1974,1986,1987,1973],\"xaxis\":\"x\",\"y\":[66,63,54,293,82,31,36,177,356,44,51,99,95,32,42,104,254,262,117,2394,3587,323,462,206,115,52,448,61,148,99,48,35,84,707,110,34,45,38,52,60,30,66,32,152,38,38,312,148,39,144,32,59,39,119,50,48,84,30,276,147,4978,4429,125,881,52,425,39,115,42,257,207,2196,63,31,68,100,44,92,192,56,102],\"yaxis\":\"y\",\"type\":\"scatter\"}],                        {\"template\":{\"data\":{\"histogram2dcontour\":[{\"type\":\"histogram2dcontour\",\"colorbar\":{\"outlinewidth\":0,\"ticks\":\"\"},\"colorscale\":[[0.0,\"#0d0887\"],[0.1111111111111111,\"#46039f\"],[0.2222222222222222,\"#7201a8\"],[0.3333333333333333,\"#9c179e\"],[0.4444444444444444,\"#bd3786\"],[0.5555555555555556,\"#d8576b\"],[0.6666666666666666,\"#ed7953\"],[0.7777777777777778,\"#fb9f3a\"],[0.8888888888888888,\"#fdca26\"],[1.0,\"#f0f921\"]]}],\"choropleth\":[{\"type\":\"choropleth\",\"colorbar\":{\"outlinewidth\":0,\"ticks\":\"\"}}],\"histogram2d\":[{\"type\":\"histogram2d\",\"colorbar\":{\"outlinewidth\":0,\"ticks\":\"\"},\"colorscale\":[[0.0,\"#0d0887\"],[0.1111111111111111,\"#46039f\"],[0.2222222222222222,\"#7201a8\"],[0.3333333333333333,\"#9c179e\"],[0.4444444444444444,\"#bd3786\"],[0.5555555555555556,\"#d8576b\"],[0.6666666666666666,\"#ed7953\"],[0.7777777777777778,\"#fb9f3a\"],[0.8888888888888888,\"#fdca26\"],[1.0,\"#f0f921\"]]}],\"heatmap\":[{\"type\":\"heatmap\",\"colorbar\":{\"outlinewidth\":0,\"ticks\":\"\"},\"colorscale\":[[0.0,\"#0d0887\"],[0.1111111111111111,\"#46039f\"],[0.2222222222222222,\"#7201a8\"],[0.3333333333333333,\"#9c179e\"],[0.4444444444444444,\"#bd3786\"],[0.5555555555555556,\"#d8576b\"],[0.6666666666666666,\"#ed7953\"],[0.7777777777777778,\"#fb9f3a\"],[0.8888888888888888,\"#fdca26\"],[1.0,\"#f0f921\"]]}],\"heatmapgl\":[{\"type\":\"heatmapgl\",\"colorbar\":{\"outlinewidth\":0,\"ticks\":\"\"},\"colorscale\":[[0.0,\"#0d0887\"],[0.1111111111111111,\"#46039f\"],[0.2222222222222222,\"#7201a8\"],[0.3333333333333333,\"#9c179e\"],[0.4444444444444444,\"#bd3786\"],[0.5555555555555556,\"#d8576b\"],[0.6666666666666666,\"#ed7953\"],[0.7777777777777778,\"#fb9f3a\"],[0.8888888888888888,\"#fdca26\"],[1.0,\"#f0f921\"]]}],\"contourcarpet\":[{\"type\":\"contourcarpet\",\"colorbar\":{\"outlinewidth\":0,\"ticks\":\"\"}}],\"contour\":[{\"type\":\"contour\",\"colorbar\":{\"outlinewidth\":0,\"ticks\":\"\"},\"colorscale\":[[0.0,\"#0d0887\"],[0.1111111111111111,\"#46039f\"],[0.2222222222222222,\"#7201a8\"],[0.3333333333333333,\"#9c179e\"],[0.4444444444444444,\"#bd3786\"],[0.5555555555555556,\"#d8576b\"],[0.6666666666666666,\"#ed7953\"],[0.7777777777777778,\"#fb9f3a\"],[0.8888888888888888,\"#fdca26\"],[1.0,\"#f0f921\"]]}],\"surface\":[{\"type\":\"surface\",\"colorbar\":{\"outlinewidth\":0,\"ticks\":\"\"},\"colorscale\":[[0.0,\"#0d0887\"],[0.1111111111111111,\"#46039f\"],[0.2222222222222222,\"#7201a8\"],[0.3333333333333333,\"#9c179e\"],[0.4444444444444444,\"#bd3786\"],[0.5555555555555556,\"#d8576b\"],[0.6666666666666666,\"#ed7953\"],[0.7777777777777778,\"#fb9f3a\"],[0.8888888888888888,\"#fdca26\"],[1.0,\"#f0f921\"]]}],\"mesh3d\":[{\"type\":\"mesh3d\",\"colorbar\":{\"outlinewidth\":0,\"ticks\":\"\"}}],\"scatter\":[{\"fillpattern\":{\"fillmode\":\"overlay\",\"size\":10,\"solidity\":0.2},\"type\":\"scatter\"}],\"parcoords\":[{\"type\":\"parcoords\",\"line\":{\"colorbar\":{\"outlinewidth\":0,\"ticks\":\"\"}}}],\"scatterpolargl\":[{\"type\":\"scatterpolargl\",\"marker\":{\"colorbar\":{\"outlinewidth\":0,\"ticks\":\"\"}}}],\"bar\":[{\"error_x\":{\"color\":\"#2a3f5f\"},\"error_y\":{\"color\":\"#2a3f5f\"},\"marker\":{\"line\":{\"color\":\"#E5ECF6\",\"width\":0.5},\"pattern\":{\"fillmode\":\"overlay\",\"size\":10,\"solidity\":0.2}},\"type\":\"bar\"}],\"scattergeo\":[{\"type\":\"scattergeo\",\"marker\":{\"colorbar\":{\"outlinewidth\":0,\"ticks\":\"\"}}}],\"scatterpolar\":[{\"type\":\"scatterpolar\",\"marker\":{\"colorbar\":{\"outlinewidth\":0,\"ticks\":\"\"}}}],\"histogram\":[{\"marker\":{\"pattern\":{\"fillmode\":\"overlay\",\"size\":10,\"solidity\":0.2}},\"type\":\"histogram\"}],\"scattergl\":[{\"type\":\"scattergl\",\"marker\":{\"colorbar\":{\"outlinewidth\":0,\"ticks\":\"\"}}}],\"scatter3d\":[{\"type\":\"scatter3d\",\"line\":{\"colorbar\":{\"outlinewidth\":0,\"ticks\":\"\"}},\"marker\":{\"colorbar\":{\"outlinewidth\":0,\"ticks\":\"\"}}}],\"scattermapbox\":[{\"type\":\"scattermapbox\",\"marker\":{\"colorbar\":{\"outlinewidth\":0,\"ticks\":\"\"}}}],\"scatterternary\":[{\"type\":\"scatterternary\",\"marker\":{\"colorbar\":{\"outlinewidth\":0,\"ticks\":\"\"}}}],\"scattercarpet\":[{\"type\":\"scattercarpet\",\"marker\":{\"colorbar\":{\"outlinewidth\":0,\"ticks\":\"\"}}}],\"carpet\":[{\"aaxis\":{\"endlinecolor\":\"#2a3f5f\",\"gridcolor\":\"white\",\"linecolor\":\"white\",\"minorgridcolor\":\"white\",\"startlinecolor\":\"#2a3f5f\"},\"baxis\":{\"endlinecolor\":\"#2a3f5f\",\"gridcolor\":\"white\",\"linecolor\":\"white\",\"minorgridcolor\":\"white\",\"startlinecolor\":\"#2a3f5f\"},\"type\":\"carpet\"}],\"table\":[{\"cells\":{\"fill\":{\"color\":\"#EBF0F8\"},\"line\":{\"color\":\"white\"}},\"header\":{\"fill\":{\"color\":\"#C8D4E3\"},\"line\":{\"color\":\"white\"}},\"type\":\"table\"}],\"barpolar\":[{\"marker\":{\"line\":{\"color\":\"#E5ECF6\",\"width\":0.5},\"pattern\":{\"fillmode\":\"overlay\",\"size\":10,\"solidity\":0.2}},\"type\":\"barpolar\"}],\"pie\":[{\"automargin\":true,\"type\":\"pie\"}]},\"layout\":{\"autotypenumbers\":\"strict\",\"colorway\":[\"#636efa\",\"#EF553B\",\"#00cc96\",\"#ab63fa\",\"#FFA15A\",\"#19d3f3\",\"#FF6692\",\"#B6E880\",\"#FF97FF\",\"#FECB52\"],\"font\":{\"color\":\"#2a3f5f\"},\"hovermode\":\"closest\",\"hoverlabel\":{\"align\":\"left\"},\"paper_bgcolor\":\"white\",\"plot_bgcolor\":\"#E5ECF6\",\"polar\":{\"bgcolor\":\"#E5ECF6\",\"angularaxis\":{\"gridcolor\":\"white\",\"linecolor\":\"white\",\"ticks\":\"\"},\"radialaxis\":{\"gridcolor\":\"white\",\"linecolor\":\"white\",\"ticks\":\"\"}},\"ternary\":{\"bgcolor\":\"#E5ECF6\",\"aaxis\":{\"gridcolor\":\"white\",\"linecolor\":\"white\",\"ticks\":\"\"},\"baxis\":{\"gridcolor\":\"white\",\"linecolor\":\"white\",\"ticks\":\"\"},\"caxis\":{\"gridcolor\":\"white\",\"linecolor\":\"white\",\"ticks\":\"\"}},\"coloraxis\":{\"colorbar\":{\"outlinewidth\":0,\"ticks\":\"\"}},\"colorscale\":{\"sequential\":[[0.0,\"#0d0887\"],[0.1111111111111111,\"#46039f\"],[0.2222222222222222,\"#7201a8\"],[0.3333333333333333,\"#9c179e\"],[0.4444444444444444,\"#bd3786\"],[0.5555555555555556,\"#d8576b\"],[0.6666666666666666,\"#ed7953\"],[0.7777777777777778,\"#fb9f3a\"],[0.8888888888888888,\"#fdca26\"],[1.0,\"#f0f921\"]],\"sequentialminus\":[[0.0,\"#0d0887\"],[0.1111111111111111,\"#46039f\"],[0.2222222222222222,\"#7201a8\"],[0.3333333333333333,\"#9c179e\"],[0.4444444444444444,\"#bd3786\"],[0.5555555555555556,\"#d8576b\"],[0.6666666666666666,\"#ed7953\"],[0.7777777777777778,\"#fb9f3a\"],[0.8888888888888888,\"#fdca26\"],[1.0,\"#f0f921\"]],\"diverging\":[[0,\"#8e0152\"],[0.1,\"#c51b7d\"],[0.2,\"#de77ae\"],[0.3,\"#f1b6da\"],[0.4,\"#fde0ef\"],[0.5,\"#f7f7f7\"],[0.6,\"#e6f5d0\"],[0.7,\"#b8e186\"],[0.8,\"#7fbc41\"],[0.9,\"#4d9221\"],[1,\"#276419\"]]},\"xaxis\":{\"gridcolor\":\"white\",\"linecolor\":\"white\",\"ticks\":\"\",\"title\":{\"standoff\":15},\"zerolinecolor\":\"white\",\"automargin\":true,\"zerolinewidth\":2},\"yaxis\":{\"gridcolor\":\"white\",\"linecolor\":\"white\",\"ticks\":\"\",\"title\":{\"standoff\":15},\"zerolinecolor\":\"white\",\"automargin\":true,\"zerolinewidth\":2},\"scene\":{\"xaxis\":{\"backgroundcolor\":\"#E5ECF6\",\"gridcolor\":\"white\",\"linecolor\":\"white\",\"showbackground\":true,\"ticks\":\"\",\"zerolinecolor\":\"white\",\"gridwidth\":2},\"yaxis\":{\"backgroundcolor\":\"#E5ECF6\",\"gridcolor\":\"white\",\"linecolor\":\"white\",\"showbackground\":true,\"ticks\":\"\",\"zerolinecolor\":\"white\",\"gridwidth\":2},\"zaxis\":{\"backgroundcolor\":\"#E5ECF6\",\"gridcolor\":\"white\",\"linecolor\":\"white\",\"showbackground\":true,\"ticks\":\"\",\"zerolinecolor\":\"white\",\"gridwidth\":2}},\"shapedefaults\":{\"line\":{\"color\":\"#2a3f5f\"}},\"annotationdefaults\":{\"arrowcolor\":\"#2a3f5f\",\"arrowhead\":0,\"arrowwidth\":1},\"geo\":{\"bgcolor\":\"white\",\"landcolor\":\"#E5ECF6\",\"subunitcolor\":\"white\",\"showland\":true,\"showlakes\":true,\"lakecolor\":\"white\"},\"title\":{\"x\":0.05},\"mapbox\":{\"style\":\"light\"}}},\"xaxis\":{\"anchor\":\"y\",\"domain\":[0.0,1.0],\"title\":{\"text\":\"min\"}},\"yaxis\":{\"anchor\":\"x\",\"domain\":[0.0,1.0],\"title\":{\"text\":\"novels\"}},\"coloraxis\":{\"colorbar\":{\"title\":{\"text\":\"finnishness\"}},\"colorscale\":[[0.0,\"#0d0887\"],[0.1111111111111111,\"#46039f\"],[0.2222222222222222,\"#7201a8\"],[0.3333333333333333,\"#9c179e\"],[0.4444444444444444,\"#bd3786\"],[0.5555555555555556,\"#d8576b\"],[0.6666666666666666,\"#ed7953\"],[0.7777777777777778,\"#fb9f3a\"],[0.8888888888888888,\"#fdca26\"],[1.0,\"#f0f921\"]]},\"legend\":{\"tracegroupgap\":0},\"margin\":{\"t\":60}},                        {\"responsive\": true}                    ).then(function(){\n",
       "                            \n",
       "var gd = document.getElementById('b49c4ca1-ccd5-4664-aded-c850820eee25');\n",
       "var x = new MutationObserver(function (mutations, observer) {{\n",
       "        var display = window.getComputedStyle(gd).display;\n",
       "        if (!display || display === 'none') {{\n",
       "            console.log([gd, 'removed!']);\n",
       "            Plotly.purge(gd);\n",
       "            observer.disconnect();\n",
       "        }}\n",
       "}});\n",
       "\n",
       "// Listen for the removal of the full notebook cells\n",
       "var notebookContainer = gd.closest('#notebook-container');\n",
       "if (notebookContainer) {{\n",
       "    x.observe(notebookContainer, {childList: true});\n",
       "}}\n",
       "\n",
       "// Listen for the clearing of the current output cell\n",
       "var outputEl = gd.closest('.output');\n",
       "if (outputEl) {{\n",
       "    x.observe(outputEl, {childList: true});\n",
       "}}\n",
       "\n",
       "                        })                };                });            </script>        </div>"
      ]
     },
     "metadata": {},
     "output_type": "display_data"
    }
   ],
   "source": [
    "import plotly.express as px\n",
    "\n",
    "fig = px.scatter(pub_profiles, \"min\", \"novels\", color=\"finnishness\", \n",
    "                 #palette=sns.color_palette(\"coolwarm_r\", as_cmap=True),\n",
    "                 hover_data=['pubName'])\n",
    "fig.show()"
   ]
  },
  {
   "cell_type": "code",
   "execution_count": 18,
   "id": "bd328a97",
   "metadata": {},
   "outputs": [],
   "source": [
    "# compare fis\n",
    "\n",
    "df_fi_old=pd.read_csv(\"../../data/df_fi_all.csv\", sep=\"\\t\", index_col=0)\n",
    "old_novels=[str(n) for n in df_fi_old[\"novel\"]]\n",
    "mystery_novels=[d for d in df_fi.novel.unique() if d not in old_novels]"
   ]
  },
  {
   "cell_type": "code",
   "execution_count": 21,
   "id": "88873635",
   "metadata": {
    "scrolled": true
   },
   "outputs": [
    {
     "name": "stdout",
     "output_type": "stream",
     "text": [
      "190\n",
      "17240 17028 17240\n"
     ]
    }
   ],
   "source": [
    "print(len(mystery_novels))\n",
    "print(len(df_fi), len(df_fi_old), len(df_fi))"
   ]
  },
  {
   "cell_type": "code",
   "execution_count": 25,
   "id": "29405733",
   "metadata": {},
   "outputs": [],
   "source": [
    "MY_VALUES = [\"<\"+str(n)+\">\" for n in mystery_novels]\n",
    "valuestring=\" \".join(MY_VALUES)"
   ]
  },
  {
   "cell_type": "code",
   "execution_count": 39,
   "id": "9a4361ad",
   "metadata": {},
   "outputs": [],
   "source": [
    "# query mystery_novels\n",
    "\n",
    "# query labels\n",
    "Q =\"\"\"\n",
    "SELECT  DISTINCT  *  WHERE {\n",
    "\n",
    "?novel rdf:type ?class .\n",
    "VALUES ?novel { MY_VALUES }\n",
    "?novel kaunokki:alkukieli ?lang .\n",
    "?novel skos:prefLabel ?nimi . FILTER(LANG(?nimi)=\"fi\")\n",
    "?novel kaunokki:manifests_in ?pub .\n",
    "?pub kaunokki:ilmestymisvuosi ?vuosi .\n",
    "?vuosi skos:prefLabel ?year .\n",
    "\n",
    "#FILTER NOT EXISTS { xsd:int(?year) < 1970 }\n",
    "\n",
    "} \n",
    "    \n",
    "\n",
    "\"\"\"\n",
    "\n",
    "#sparql = SPARQLWrapper(\"http://ldf.fi/kirjasampo/sparql\")\n",
    "\n",
    "#nat_labels=pd.DataFrame()\n",
    "#for nat in df_fo2[\"nat\"].unique():\n",
    "sparql = SPARQLWrapper(\"http://ldf.fi/booksampo-2022/sparql\")\n",
    "q=Q.replace(\"MY_VALUES\", valuestring)\n",
    "sparql.setQuery(PREFIXES + q)\n",
    "sparql.setReturnFormat(JSON)\n",
    "sparql.addCustomHttpHeader(*list(AUTHORIZATION_HEADER.items())[0])\n",
    "results = sparql.query().convert()\n",
    "temp = JSON2Pandas2(results)\n",
    "\n",
    "    \n",
    "\n"
   ]
  },
  {
   "cell_type": "code",
   "execution_count": 43,
   "id": "0724dbef",
   "metadata": {},
   "outputs": [
    {
     "data": {
      "text/plain": [
       "array(['http://www.yso.fi/onto/kaunokki#romaani',\n",
       "       'http://www.yso.fi/onto/kaunokki#kokoomateos',\n",
       "       'http://www.yso.fi/onto/kaunokki#novellikokoelma'], dtype=object)"
      ]
     },
     "execution_count": 43,
     "metadata": {},
     "output_type": "execute_result"
    }
   ],
   "source": [
    "temp.lang.unique()\n",
    "temp[temp[\"lang\"]=='http://lexvo.org/id/iso639-3/eng']\n",
    "temp[\"year\"]= pd.to_numeric(temp[\"year\"])\n",
    "temp[temp[\"year\"]<1971]\n",
    "temp[\"class\"].unique()"
   ]
  },
  {
   "cell_type": "code",
   "execution_count": 65,
   "id": "8d1ad86a",
   "metadata": {},
   "outputs": [
    {
     "data": {
      "text/html": [
       "<div>\n",
       "<style scoped>\n",
       "    .dataframe tbody tr th:only-of-type {\n",
       "        vertical-align: middle;\n",
       "    }\n",
       "\n",
       "    .dataframe tbody tr th {\n",
       "        vertical-align: top;\n",
       "    }\n",
       "\n",
       "    .dataframe thead th {\n",
       "        text-align: right;\n",
       "    }\n",
       "</style>\n",
       "<table border=\"1\" class=\"dataframe\">\n",
       "  <thead>\n",
       "    <tr style=\"text-align: right;\">\n",
       "      <th></th>\n",
       "      <th>novel</th>\n",
       "      <th>class</th>\n",
       "      <th>lang</th>\n",
       "      <th>nimi</th>\n",
       "      <th>pub</th>\n",
       "      <th>vuosi</th>\n",
       "      <th>year</th>\n",
       "    </tr>\n",
       "  </thead>\n",
       "  <tbody>\n",
       "    <tr>\n",
       "      <th>0</th>\n",
       "      <td>http://www.yso.fi/onto/kaunokki#ateos_12403</td>\n",
       "      <td>http://www.yso.fi/onto/kaunokki#romaani</td>\n",
       "      <td>http://lexvo.org/id/iso639-3/fin</td>\n",
       "      <td>Uspenskin varjossa</td>\n",
       "      <td>http://www.yso.fi/onto/kaunokki#Instance_ID123...</td>\n",
       "      <td>http://www.kulttuurisampo.fi/data/time_1972_1972</td>\n",
       "      <td>1972</td>\n",
       "    </tr>\n",
       "    <tr>\n",
       "      <th>1</th>\n",
       "      <td>http://www.yso.fi/onto/kaunokki#ateos_12403</td>\n",
       "      <td>http://www.yso.fi/onto/kaunokki#romaani</td>\n",
       "      <td>http://lexvo.org/id/iso639-3/fin</td>\n",
       "      <td>Uspenskin varjossa</td>\n",
       "      <td>http://seco.tkk.fi/saha3/udb5d0d30-a250-43f5-a...</td>\n",
       "      <td>http://www.kulttuurisampo.fi/data/time_1973_1973</td>\n",
       "      <td>1973</td>\n",
       "    </tr>\n",
       "    <tr>\n",
       "      <th>2</th>\n",
       "      <td>http://seco.tkk.fi/saha3/uf529236b-54c9-4869-a...</td>\n",
       "      <td>http://www.yso.fi/onto/kaunokki#romaani</td>\n",
       "      <td>http://lexvo.org/id/iso639-3/fin</td>\n",
       "      <td>Minä, Cassie</td>\n",
       "      <td>http://seco.tkk.fi/saha3/uc245dc46-2eef-4d8a-9...</td>\n",
       "      <td>http://www.kulttuurisampo.fi/data/time_1972_1972</td>\n",
       "      <td>1972</td>\n",
       "    </tr>\n",
       "    <tr>\n",
       "      <th>3</th>\n",
       "      <td>http://seco.tkk.fi/saha3/udf223005-fb73-4dbc-9...</td>\n",
       "      <td>http://www.yso.fi/onto/kaunokki#romaani</td>\n",
       "      <td>http://lexvo.org/id/iso639-3/fin</td>\n",
       "      <td>Laiva</td>\n",
       "      <td>http://seco.tkk.fi/saha3/udae16236-1dff-4ec1-a...</td>\n",
       "      <td>http://www.kulttuurisampo.fi/data/time_1972_1972</td>\n",
       "      <td>1972</td>\n",
       "    </tr>\n",
       "    <tr>\n",
       "      <th>4</th>\n",
       "      <td>http://www.yso.fi/onto/kaunokki#ateos_29319</td>\n",
       "      <td>http://www.yso.fi/onto/kaunokki#romaani</td>\n",
       "      <td>http://lexvo.org/id/iso639-3/fin</td>\n",
       "      <td>Naulan kantaan</td>\n",
       "      <td>http://www.yso.fi/onto/kaunokki#Instance_ID123...</td>\n",
       "      <td>http://www.kulttuurisampo.fi/data/time_1973_1973</td>\n",
       "      <td>1973</td>\n",
       "    </tr>\n",
       "    <tr>\n",
       "      <th>5</th>\n",
       "      <td>http://www.yso.fi/onto/kaunokki#ateos_32478</td>\n",
       "      <td>http://www.yso.fi/onto/kaunokki#romaani</td>\n",
       "      <td>http://lexvo.org/id/iso639-3/fin</td>\n",
       "      <td>Vuoren jyly</td>\n",
       "      <td>http://www.yso.fi/onto/kaunokki#Instance_ID123...</td>\n",
       "      <td>http://www.kulttuurisampo.fi/data/time_1973_1973</td>\n",
       "      <td>1973</td>\n",
       "    </tr>\n",
       "    <tr>\n",
       "      <th>6</th>\n",
       "      <td>http://www.yso.fi/onto/kaunokki#ateos_32478</td>\n",
       "      <td>http://www.yso.fi/onto/kaunokki#romaani</td>\n",
       "      <td>http://lexvo.org/id/iso639-3/fin</td>\n",
       "      <td>Vuoren jyly</td>\n",
       "      <td>http://seco.tkk.fi/saha3/u844bff42-25a9-4b83-b...</td>\n",
       "      <td>http://www.kulttuurisampo.fi/data/time_1949_1949</td>\n",
       "      <td>1949</td>\n",
       "    </tr>\n",
       "    <tr>\n",
       "      <th>7</th>\n",
       "      <td>http://www.yso.fi/onto/kaunokki#ateos_57437</td>\n",
       "      <td>http://www.yso.fi/onto/kaunokki#romaani</td>\n",
       "      <td>http://lexvo.org/id/iso639-3/fin</td>\n",
       "      <td>Maiseman silmä</td>\n",
       "      <td>http://www.yso.fi/onto/kaunokki#Instance_ID123...</td>\n",
       "      <td>http://www.kulttuurisampo.fi/data/time_1973_1973</td>\n",
       "      <td>1973</td>\n",
       "    </tr>\n",
       "    <tr>\n",
       "      <th>8</th>\n",
       "      <td>http://www.yso.fi/onto/kaunokki#ateos_23803</td>\n",
       "      <td>http://www.yso.fi/onto/kaunokki#romaani</td>\n",
       "      <td>http://lexvo.org/id/iso639-3/fin</td>\n",
       "      <td>Takalan talossa tapahtuu</td>\n",
       "      <td>http://www.yso.fi/onto/kaunokki#Instance_ID123...</td>\n",
       "      <td>http://www.kulttuurisampo.fi/data/time_1974_1974</td>\n",
       "      <td>1974</td>\n",
       "    </tr>\n",
       "    <tr>\n",
       "      <th>9</th>\n",
       "      <td>http://www.yso.fi/onto/kaunokki#ateos_58159</td>\n",
       "      <td>http://www.yso.fi/onto/kaunokki#romaani</td>\n",
       "      <td>http://lexvo.org/id/iso639-3/fin</td>\n",
       "      <td>Valikoima Nätti-Jussin tarinoita</td>\n",
       "      <td>http://www.yso.fi/onto/kaunokki#Instance_ID123...</td>\n",
       "      <td>http://www.kulttuurisampo.fi/data/time_1974_1974</td>\n",
       "      <td>1974</td>\n",
       "    </tr>\n",
       "    <tr>\n",
       "      <th>10</th>\n",
       "      <td>http://www.yso.fi/onto/kaunokki#ateos_30047</td>\n",
       "      <td>http://www.yso.fi/onto/kaunokki#romaani</td>\n",
       "      <td>http://lexvo.org/id/iso639-3/fin</td>\n",
       "      <td>Elämän ristiaallokoissa</td>\n",
       "      <td>http://www.yso.fi/onto/kaunokki#Instance_ID123...</td>\n",
       "      <td>http://www.kulttuurisampo.fi/data/time_1974_1974</td>\n",
       "      <td>1974</td>\n",
       "    </tr>\n",
       "    <tr>\n",
       "      <th>11</th>\n",
       "      <td>http://seco.tkk.fi/saha3/u277dc52c-b903-4dc0-b...</td>\n",
       "      <td>http://www.yso.fi/onto/kaunokki#romaani</td>\n",
       "      <td>http://lexvo.org/id/iso639-3/fin</td>\n",
       "      <td>Käsipuoli Amor</td>\n",
       "      <td>http://seco.tkk.fi/saha3/u4af93ca4-6669-4360-b...</td>\n",
       "      <td>http://www.kulttuurisampo.fi/data/time_1974_1974</td>\n",
       "      <td>1974</td>\n",
       "    </tr>\n",
       "    <tr>\n",
       "      <th>12</th>\n",
       "      <td>http://seco.tkk.fi/saha3/u7d7e2664-e3e1-42a9-b...</td>\n",
       "      <td>http://www.yso.fi/onto/kaunokki#romaani</td>\n",
       "      <td>http://lexvo.org/id/iso639-3/fin</td>\n",
       "      <td>Samuel Elias 8 vuotta</td>\n",
       "      <td>http://seco.tkk.fi/saha3/ua5a79d04-e511-4d77-8...</td>\n",
       "      <td>http://www.kulttuurisampo.fi/data/time_1975_1975</td>\n",
       "      <td>1975</td>\n",
       "    </tr>\n",
       "    <tr>\n",
       "      <th>13</th>\n",
       "      <td>http://seco.tkk.fi/saha3/u7d7e2664-e3e1-42a9-b...</td>\n",
       "      <td>http://www.yso.fi/onto/kaunokki#romaani</td>\n",
       "      <td>http://lexvo.org/id/iso639-3/fin</td>\n",
       "      <td>Samuel Elias 8 vuotta</td>\n",
       "      <td>http://seco.tkk.fi/saha3/uda79052c-4a98-4263-9...</td>\n",
       "      <td>http://www.kulttuurisampo.fi/data/time_1974_1974</td>\n",
       "      <td>1974</td>\n",
       "    </tr>\n",
       "    <tr>\n",
       "      <th>14</th>\n",
       "      <td>http://www.yso.fi/onto/kaunokki#ateos_44633</td>\n",
       "      <td>http://www.yso.fi/onto/kaunokki#romaani</td>\n",
       "      <td>http://lexvo.org/id/iso639-3/fin</td>\n",
       "      <td>Haravakone</td>\n",
       "      <td>http://www.yso.fi/onto/kaunokki#Instance_ID123...</td>\n",
       "      <td>http://www.kulttuurisampo.fi/data/time_1975_1975</td>\n",
       "      <td>1975</td>\n",
       "    </tr>\n",
       "    <tr>\n",
       "      <th>15</th>\n",
       "      <td>http://seco.tkk.fi/saha3/u409d87f1-17e4-4343-a...</td>\n",
       "      <td>http://www.yso.fi/onto/kaunokki#romaani</td>\n",
       "      <td>http://lexvo.org/id/iso639-3/fin</td>\n",
       "      <td>Jäljitysleikki</td>\n",
       "      <td>http://www.yso.fi/onto/kaunokki#Instance_ID123...</td>\n",
       "      <td>http://www.kulttuurisampo.fi/data/time_1973_1973</td>\n",
       "      <td>1973</td>\n",
       "    </tr>\n",
       "    <tr>\n",
       "      <th>16</th>\n",
       "      <td>http://seco.tkk.fi/saha3/u409d87f1-17e4-4343-a...</td>\n",
       "      <td>http://www.yso.fi/onto/kaunokki#romaani</td>\n",
       "      <td>http://lexvo.org/id/iso639-3/fin</td>\n",
       "      <td>Jäljitysleikki</td>\n",
       "      <td>http://www.yso.fi/onto/kaunokki#Instance_ID123...</td>\n",
       "      <td>http://www.kulttuurisampo.fi/data/time_1975_1975</td>\n",
       "      <td>1975</td>\n",
       "    </tr>\n",
       "    <tr>\n",
       "      <th>17</th>\n",
       "      <td>http://seco.tkk.fi/saha3/u409d87f1-17e4-4343-a...</td>\n",
       "      <td>http://www.yso.fi/onto/kaunokki#romaani</td>\n",
       "      <td>http://lexvo.org/id/iso639-3/eng</td>\n",
       "      <td>Jäljitysleikki</td>\n",
       "      <td>http://www.yso.fi/onto/kaunokki#Instance_ID123...</td>\n",
       "      <td>http://www.kulttuurisampo.fi/data/time_1973_1973</td>\n",
       "      <td>1973</td>\n",
       "    </tr>\n",
       "    <tr>\n",
       "      <th>18</th>\n",
       "      <td>http://seco.tkk.fi/saha3/u409d87f1-17e4-4343-a...</td>\n",
       "      <td>http://www.yso.fi/onto/kaunokki#romaani</td>\n",
       "      <td>http://lexvo.org/id/iso639-3/eng</td>\n",
       "      <td>Jäljitysleikki</td>\n",
       "      <td>http://www.yso.fi/onto/kaunokki#Instance_ID123...</td>\n",
       "      <td>http://www.kulttuurisampo.fi/data/time_1975_1975</td>\n",
       "      <td>1975</td>\n",
       "    </tr>\n",
       "    <tr>\n",
       "      <th>19</th>\n",
       "      <td>http://seco.tkk.fi/saha3/uff2473a3-5b9f-47eb-b...</td>\n",
       "      <td>http://www.yso.fi/onto/kaunokki#romaani</td>\n",
       "      <td>http://lexvo.org/id/iso639-3/fin</td>\n",
       "      <td>Amalia, karhu</td>\n",
       "      <td>http://seco.tkk.fi/saha3/u5f6ba1a1-298e-4d7f-b...</td>\n",
       "      <td>http://www.kulttuurisampo.fi/data/time_1975_1975</td>\n",
       "      <td>1975</td>\n",
       "    </tr>\n",
       "  </tbody>\n",
       "</table>\n",
       "</div>"
      ],
      "text/plain": [
       "                                                novel  \\\n",
       "0         http://www.yso.fi/onto/kaunokki#ateos_12403   \n",
       "1         http://www.yso.fi/onto/kaunokki#ateos_12403   \n",
       "2   http://seco.tkk.fi/saha3/uf529236b-54c9-4869-a...   \n",
       "3   http://seco.tkk.fi/saha3/udf223005-fb73-4dbc-9...   \n",
       "4         http://www.yso.fi/onto/kaunokki#ateos_29319   \n",
       "5         http://www.yso.fi/onto/kaunokki#ateos_32478   \n",
       "6         http://www.yso.fi/onto/kaunokki#ateos_32478   \n",
       "7         http://www.yso.fi/onto/kaunokki#ateos_57437   \n",
       "8         http://www.yso.fi/onto/kaunokki#ateos_23803   \n",
       "9         http://www.yso.fi/onto/kaunokki#ateos_58159   \n",
       "10        http://www.yso.fi/onto/kaunokki#ateos_30047   \n",
       "11  http://seco.tkk.fi/saha3/u277dc52c-b903-4dc0-b...   \n",
       "12  http://seco.tkk.fi/saha3/u7d7e2664-e3e1-42a9-b...   \n",
       "13  http://seco.tkk.fi/saha3/u7d7e2664-e3e1-42a9-b...   \n",
       "14        http://www.yso.fi/onto/kaunokki#ateos_44633   \n",
       "15  http://seco.tkk.fi/saha3/u409d87f1-17e4-4343-a...   \n",
       "16  http://seco.tkk.fi/saha3/u409d87f1-17e4-4343-a...   \n",
       "17  http://seco.tkk.fi/saha3/u409d87f1-17e4-4343-a...   \n",
       "18  http://seco.tkk.fi/saha3/u409d87f1-17e4-4343-a...   \n",
       "19  http://seco.tkk.fi/saha3/uff2473a3-5b9f-47eb-b...   \n",
       "\n",
       "                                      class                              lang  \\\n",
       "0   http://www.yso.fi/onto/kaunokki#romaani  http://lexvo.org/id/iso639-3/fin   \n",
       "1   http://www.yso.fi/onto/kaunokki#romaani  http://lexvo.org/id/iso639-3/fin   \n",
       "2   http://www.yso.fi/onto/kaunokki#romaani  http://lexvo.org/id/iso639-3/fin   \n",
       "3   http://www.yso.fi/onto/kaunokki#romaani  http://lexvo.org/id/iso639-3/fin   \n",
       "4   http://www.yso.fi/onto/kaunokki#romaani  http://lexvo.org/id/iso639-3/fin   \n",
       "5   http://www.yso.fi/onto/kaunokki#romaani  http://lexvo.org/id/iso639-3/fin   \n",
       "6   http://www.yso.fi/onto/kaunokki#romaani  http://lexvo.org/id/iso639-3/fin   \n",
       "7   http://www.yso.fi/onto/kaunokki#romaani  http://lexvo.org/id/iso639-3/fin   \n",
       "8   http://www.yso.fi/onto/kaunokki#romaani  http://lexvo.org/id/iso639-3/fin   \n",
       "9   http://www.yso.fi/onto/kaunokki#romaani  http://lexvo.org/id/iso639-3/fin   \n",
       "10  http://www.yso.fi/onto/kaunokki#romaani  http://lexvo.org/id/iso639-3/fin   \n",
       "11  http://www.yso.fi/onto/kaunokki#romaani  http://lexvo.org/id/iso639-3/fin   \n",
       "12  http://www.yso.fi/onto/kaunokki#romaani  http://lexvo.org/id/iso639-3/fin   \n",
       "13  http://www.yso.fi/onto/kaunokki#romaani  http://lexvo.org/id/iso639-3/fin   \n",
       "14  http://www.yso.fi/onto/kaunokki#romaani  http://lexvo.org/id/iso639-3/fin   \n",
       "15  http://www.yso.fi/onto/kaunokki#romaani  http://lexvo.org/id/iso639-3/fin   \n",
       "16  http://www.yso.fi/onto/kaunokki#romaani  http://lexvo.org/id/iso639-3/fin   \n",
       "17  http://www.yso.fi/onto/kaunokki#romaani  http://lexvo.org/id/iso639-3/eng   \n",
       "18  http://www.yso.fi/onto/kaunokki#romaani  http://lexvo.org/id/iso639-3/eng   \n",
       "19  http://www.yso.fi/onto/kaunokki#romaani  http://lexvo.org/id/iso639-3/fin   \n",
       "\n",
       "                                nimi  \\\n",
       "0                 Uspenskin varjossa   \n",
       "1                 Uspenskin varjossa   \n",
       "2                      Minä, Cassie    \n",
       "3                              Laiva   \n",
       "4                     Naulan kantaan   \n",
       "5                        Vuoren jyly   \n",
       "6                        Vuoren jyly   \n",
       "7                     Maiseman silmä   \n",
       "8           Takalan talossa tapahtuu   \n",
       "9   Valikoima Nätti-Jussin tarinoita   \n",
       "10           Elämän ristiaallokoissa   \n",
       "11                    Käsipuoli Amor   \n",
       "12             Samuel Elias 8 vuotta   \n",
       "13             Samuel Elias 8 vuotta   \n",
       "14                        Haravakone   \n",
       "15                    Jäljitysleikki   \n",
       "16                    Jäljitysleikki   \n",
       "17                    Jäljitysleikki   \n",
       "18                    Jäljitysleikki   \n",
       "19                     Amalia, karhu   \n",
       "\n",
       "                                                  pub  \\\n",
       "0   http://www.yso.fi/onto/kaunokki#Instance_ID123...   \n",
       "1   http://seco.tkk.fi/saha3/udb5d0d30-a250-43f5-a...   \n",
       "2   http://seco.tkk.fi/saha3/uc245dc46-2eef-4d8a-9...   \n",
       "3   http://seco.tkk.fi/saha3/udae16236-1dff-4ec1-a...   \n",
       "4   http://www.yso.fi/onto/kaunokki#Instance_ID123...   \n",
       "5   http://www.yso.fi/onto/kaunokki#Instance_ID123...   \n",
       "6   http://seco.tkk.fi/saha3/u844bff42-25a9-4b83-b...   \n",
       "7   http://www.yso.fi/onto/kaunokki#Instance_ID123...   \n",
       "8   http://www.yso.fi/onto/kaunokki#Instance_ID123...   \n",
       "9   http://www.yso.fi/onto/kaunokki#Instance_ID123...   \n",
       "10  http://www.yso.fi/onto/kaunokki#Instance_ID123...   \n",
       "11  http://seco.tkk.fi/saha3/u4af93ca4-6669-4360-b...   \n",
       "12  http://seco.tkk.fi/saha3/ua5a79d04-e511-4d77-8...   \n",
       "13  http://seco.tkk.fi/saha3/uda79052c-4a98-4263-9...   \n",
       "14  http://www.yso.fi/onto/kaunokki#Instance_ID123...   \n",
       "15  http://www.yso.fi/onto/kaunokki#Instance_ID123...   \n",
       "16  http://www.yso.fi/onto/kaunokki#Instance_ID123...   \n",
       "17  http://www.yso.fi/onto/kaunokki#Instance_ID123...   \n",
       "18  http://www.yso.fi/onto/kaunokki#Instance_ID123...   \n",
       "19  http://seco.tkk.fi/saha3/u5f6ba1a1-298e-4d7f-b...   \n",
       "\n",
       "                                               vuosi  year  \n",
       "0   http://www.kulttuurisampo.fi/data/time_1972_1972  1972  \n",
       "1   http://www.kulttuurisampo.fi/data/time_1973_1973  1973  \n",
       "2   http://www.kulttuurisampo.fi/data/time_1972_1972  1972  \n",
       "3   http://www.kulttuurisampo.fi/data/time_1972_1972  1972  \n",
       "4   http://www.kulttuurisampo.fi/data/time_1973_1973  1973  \n",
       "5   http://www.kulttuurisampo.fi/data/time_1973_1973  1973  \n",
       "6   http://www.kulttuurisampo.fi/data/time_1949_1949  1949  \n",
       "7   http://www.kulttuurisampo.fi/data/time_1973_1973  1973  \n",
       "8   http://www.kulttuurisampo.fi/data/time_1974_1974  1974  \n",
       "9   http://www.kulttuurisampo.fi/data/time_1974_1974  1974  \n",
       "10  http://www.kulttuurisampo.fi/data/time_1974_1974  1974  \n",
       "11  http://www.kulttuurisampo.fi/data/time_1974_1974  1974  \n",
       "12  http://www.kulttuurisampo.fi/data/time_1975_1975  1975  \n",
       "13  http://www.kulttuurisampo.fi/data/time_1974_1974  1974  \n",
       "14  http://www.kulttuurisampo.fi/data/time_1975_1975  1975  \n",
       "15  http://www.kulttuurisampo.fi/data/time_1973_1973  1973  \n",
       "16  http://www.kulttuurisampo.fi/data/time_1975_1975  1975  \n",
       "17  http://www.kulttuurisampo.fi/data/time_1973_1973  1973  \n",
       "18  http://www.kulttuurisampo.fi/data/time_1975_1975  1975  \n",
       "19  http://www.kulttuurisampo.fi/data/time_1975_1975  1975  "
      ]
     },
     "execution_count": 65,
     "metadata": {},
     "output_type": "execute_result"
    }
   ],
   "source": [
    "temp.head(20)"
   ]
  },
  {
   "cell_type": "code",
   "execution_count": 66,
   "id": "77c636e3",
   "metadata": {},
   "outputs": [
    {
     "data": {
      "text/html": [
       "<div>\n",
       "<style scoped>\n",
       "    .dataframe tbody tr th:only-of-type {\n",
       "        vertical-align: middle;\n",
       "    }\n",
       "\n",
       "    .dataframe tbody tr th {\n",
       "        vertical-align: top;\n",
       "    }\n",
       "\n",
       "    .dataframe thead th {\n",
       "        text-align: right;\n",
       "    }\n",
       "</style>\n",
       "<table border=\"1\" class=\"dataframe\">\n",
       "  <thead>\n",
       "    <tr style=\"text-align: right;\">\n",
       "      <th></th>\n",
       "      <th>year</th>\n",
       "      <th>author</th>\n",
       "      <th>nat</th>\n",
       "      <th>gender</th>\n",
       "      <th>novel</th>\n",
       "      <th>publisher</th>\n",
       "      <th>pubName</th>\n",
       "      <th>genre</th>\n",
       "      <th>year_genre</th>\n",
       "      <th>decade</th>\n",
       "    </tr>\n",
       "  </thead>\n",
       "  <tbody>\n",
       "    <tr>\n",
       "      <th>11133</th>\n",
       "      <td>2016</td>\n",
       "      <td>http://www.btj.fi/actor_Heikkinen%2C+Antti</td>\n",
       "      <td>http://www.yso.fi/onto/koko/p35259</td>\n",
       "      <td>http://www.yso.fi/onto/kaunokki#male</td>\n",
       "      <td>http://data.kirjasampo.fi/abstractWork_4339800</td>\n",
       "      <td>http://www.seco.tkk.fi/applications/saha#Insta...</td>\n",
       "      <td>Siltala</td>\n",
       "      <td>huumori</td>\n",
       "      <td>2016.0</td>\n",
       "      <td>2010.0</td>\n",
       "    </tr>\n",
       "  </tbody>\n",
       "</table>\n",
       "</div>"
      ],
      "text/plain": [
       "       year                                      author  \\\n",
       "11133  2016  http://www.btj.fi/actor_Heikkinen%2C+Antti   \n",
       "\n",
       "                                      nat  \\\n",
       "11133  http://www.yso.fi/onto/koko/p35259   \n",
       "\n",
       "                                     gender  \\\n",
       "11133  http://www.yso.fi/onto/kaunokki#male   \n",
       "\n",
       "                                                novel  \\\n",
       "11133  http://data.kirjasampo.fi/abstractWork_4339800   \n",
       "\n",
       "                                               publisher  pubName    genre  \\\n",
       "11133  http://www.seco.tkk.fi/applications/saha#Insta...  Siltala  huumori   \n",
       "\n",
       "       year_genre  decade  \n",
       "11133      2016.0  2010.0  "
      ]
     },
     "execution_count": 66,
     "metadata": {},
     "output_type": "execute_result"
    }
   ],
   "source": [
    "df_fi.sample()"
   ]
  }
 ],
 "metadata": {
  "kernelspec": {
   "display_name": "book-venv",
   "language": "python",
   "name": "book-venv"
  },
  "language_info": {
   "codemirror_mode": {
    "name": "ipython",
    "version": 3
   },
   "file_extension": ".py",
   "mimetype": "text/x-python",
   "name": "python",
   "nbconvert_exporter": "python",
   "pygments_lexer": "ipython3",
   "version": "3.8.10"
  }
 },
 "nbformat": 4,
 "nbformat_minor": 5
}
